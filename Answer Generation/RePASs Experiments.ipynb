{
 "cells": [
  {
   "cell_type": "code",
   "execution_count": 2,
   "metadata": {},
   "outputs": [],
   "source": [
    "import json\n",
    "import torch\n",
    "import numpy as np\n",
    "from transformers import AutoTokenizer, AutoModelForSequenceClassification, pipeline\n",
    "from nltk.tokenize import sent_tokenize as sent_tokenize_uncached\n",
    "import nltk\n",
    "from functools import cache\n",
    "import tqdm\n",
    "tqdm.tqdm.pandas()\n",
    "import os\n",
    "import csv\n",
    "import re\n",
    "\n",
    "import pandas as pd\n",
    "import itertools\n",
    "\n",
    "nltk.download('punkt')\n",
    "import traceback"
   ]
  },
  {
   "cell_type": "code",
   "execution_count": 2,
   "metadata": {},
   "outputs": [
    {
     "data": {
      "text/plain": [
       "True"
      ]
     },
     "execution_count": 2,
     "metadata": {},
     "output_type": "execute_result"
    }
   ],
   "source": [
    "from dotenv import load_dotenv\n",
    "\"\"\"\n",
    "This can also be done directly through os.environ or shell command\n",
    "env file format -\n",
    "HF_TOKEN=<your-key-here>\n",
    "OPENAI_API_KEY=<your-key-here>\n",
    "\"\"\"\n",
    "load_dotenv(dotenv_path=\"regnlp/docQAgent/.env.local\")"
   ]
  },
  {
   "cell_type": "markdown",
   "metadata": {},
   "source": [
    "# Repass provided code"
   ]
  },
  {
   "cell_type": "code",
   "execution_count": 1,
   "metadata": {},
   "outputs": [],
   "source": [
    "# Set up device for torch operations\n",
    "device = 'cuda' if torch.cuda.is_available() else 'cpu'\n",
    "\n",
    "# Correct path to the trained model and tokenizer\n",
    "# model_name = './models/obligation-classifier-legalbert'\n",
    "model_name = \"yashmalviya/legal-bert-base-uncased-regnlp-obligation-classifier\"\n",
    "\n",
    "# Load the tokenizer and model for obligation detection\n",
    "obligation_tokenizer = AutoTokenizer.from_pretrained(model_name)\n",
    "obligation_model = AutoModelForSequenceClassification.from_pretrained(model_name)\n",
    "obligation_model.to(device)\n",
    "obligation_model.eval()\n",
    "\n",
    "# Load NLI model and tokenizer for obligation coverage using Microsoft's model\n",
    "coverage_nli_model = pipeline(\"text-classification\", model=\"microsoft/deberta-large-mnli\", device=device)\n",
    "\n",
    "# Load NLI model and tokenizer for entailment and contradiction checks\n",
    "nli_tokenizer = AutoTokenizer.from_pretrained('cross-encoder/nli-deberta-v3-xsmall')\n",
    "nli_model = AutoModelForSequenceClassification.from_pretrained('cross-encoder/nli-deberta-v3-xsmall')\n",
    "nli_model.to(device)\n",
    "nli_model.eval()"
   ]
  },
  {
   "cell_type": "code",
   "execution_count": 45,
   "metadata": {},
   "outputs": [],
   "source": [
    "# Define a cached version of sentence tokenization\n",
    "@cache\n",
    "def sent_tokenize(passage: str):\n",
    "    return sent_tokenize_uncached(passage)\n",
    "\n",
    "def softmax(logits):\n",
    "    e_logits = np.exp(logits - np.max(logits, axis=1, keepdims=True))\n",
    "    return e_logits / np.sum(e_logits, axis=1, keepdims=True)\n",
    "\n",
    "def get_nli_probabilities(premises, hypotheses):\n",
    "    features = nli_tokenizer(premises, hypotheses, padding=True, truncation=True, return_tensors=\"pt\").to(device)\n",
    "    nli_model.eval()\n",
    "    with torch.no_grad():\n",
    "        logits = nli_model(**features).logits.detach().cpu().numpy()\n",
    "    probabilities = softmax(logits)\n",
    "    features.input_ids.detach()\n",
    "    features.token_type_ids.detach()\n",
    "    features.attention_mask.detach()\n",
    "    return probabilities\n",
    "\n",
    "def get_nli_matrix(passages, answers):\n",
    "    entailment_matrix = np.zeros((len(passages), len(answers)))\n",
    "    contradiction_matrix = np.zeros((len(passages), len(answers)))\n",
    "\n",
    "    batch_size = 16\n",
    "    # for i, pas in enumerate(tqdm.tqdm(passages)):\n",
    "    for i, pas in enumerate(passages):\n",
    "        for b in range(0, len(answers), batch_size):\n",
    "            e = b + batch_size\n",
    "            probs = get_nli_probabilities([pas] * len(answers[b:e]), answers[b:e])  # Get NLI probabilities\n",
    "            entailment_matrix[i, b:e] = probs[:, 1]\n",
    "            contradiction_matrix[i, b:e] = probs[:, 0]\n",
    "    return entailment_matrix, contradiction_matrix\n",
    "\n",
    "def calculate_scores_from_matrix(nli_matrix, score_type='entailment'):\n",
    "    if nli_matrix.size == 0:\n",
    "        return 0.0\n",
    "    return np.round(np.mean(np.max(nli_matrix, axis=0)), 5)\n",
    "\n",
    "def classify_obligations(sentences):\n",
    "    inputs = obligation_tokenizer(sentences, padding=True, truncation=True, return_tensors='pt').to(device)\n",
    "    with torch.no_grad():\n",
    "        logits = obligation_model(**inputs).logits\n",
    "    predictions = torch.argmax(logits, dim=1).detach().cpu().numpy()\n",
    "    inputs.input_ids.detach()\n",
    "    inputs.token_type_ids.detach()\n",
    "    inputs.attention_mask.detach()\n",
    "    return predictions\n",
    "\n",
    "def calculate_obligation_coverage_score(passages, answers):\n",
    "    # Filter obligation sentences from passages\n",
    "    obligation_sentences_source = []\n",
    "    for passage in passages:\n",
    "        sentences = sent_tokenize(passage)\n",
    "        is_obligation = classify_obligations(sentences)\n",
    "        obligation_sentences_source.extend([sent for sent, label in zip(sentences, is_obligation) if label == 1])\n",
    "\n",
    "    # Filter obligation sentences from answers\n",
    "    obligation_sentences_answer = []\n",
    "    for answer in answers:\n",
    "        sentences = sent_tokenize(answer)\n",
    "        is_obligation = classify_obligations(sentences)\n",
    "        obligation_sentences_answer.extend([sent for sent, label in zip(sentences, is_obligation) if label == 1])\n",
    "\n",
    "    # Calculate coverage based on NLI entailment\n",
    "    covered_count = 0\n",
    "    for obligation in obligation_sentences_source:\n",
    "        for answer_sentence in obligation_sentences_answer:\n",
    "            nli_result = coverage_nli_model(f\"{answer_sentence} [SEP] {obligation}\")\n",
    "            if nli_result[0]['label'].lower() == 'entailment' and nli_result[0]['score'] > 0.7:\n",
    "                covered_count += 1\n",
    "                break\n",
    "\n",
    "    # TODO: Should be else 1, if obligation_sentences_source is empty give max obligation score\n",
    "    return covered_count / len(obligation_sentences_source) if obligation_sentences_source else 0\n",
    "\n",
    "\n",
    "def calculate_final_composite_score(passages, answers):\n",
    "    passage_sentences = [sent for passage in passages for sent in sent_tokenize(passage)]\n",
    "    answer_sentences = [sent for answer in answers for sent in sent_tokenize(answer)]\n",
    "    entailment_matrix, contradiction_matrix = get_nli_matrix(passage_sentences, answer_sentences)\n",
    "    entailment_score = calculate_scores_from_matrix(entailment_matrix, 'entailment')\n",
    "    contradiction_score = calculate_scores_from_matrix(contradiction_matrix, 'contradiction')\n",
    "    obligation_coverage_score = calculate_obligation_coverage_score(passages, answers)\n",
    "\n",
    "    composite_score = (obligation_coverage_score + entailment_score - contradiction_score + 1) / 3\n",
    "    return np.round(composite_score, 5), entailment_score, contradiction_score, obligation_coverage_score"
   ]
  },
  {
   "cell_type": "code",
   "execution_count": null,
   "metadata": {},
   "outputs": [],
   "source": [
    "def find_ngrams(input_list, n):\n",
    "    if len(input_list) <= n:\n",
    "        return input_list\n",
    "    return [\" \".join(e) for e in (zip(*[input_list[i:] for i in range(n)]))]\n",
    "\n",
    "def get_nli_matrix_ngram(passages, answers, ngram_size):\n",
    "    passages = find_ngrams(passages, ngram_size)\n",
    "    answers = find_ngrams(answers, ngram_size)\n",
    "\n",
    "    entailment_matrix = np.zeros((len(passages), len(answers)))\n",
    "    contradiction_matrix = np.zeros((len(passages), len(answers)))\n",
    "\n",
    "    batch_size = 16\n",
    "    # for i, pas in enumerate(tqdm.tqdm(passages)):\n",
    "    for i, pas in enumerate(passages):\n",
    "        for b in range(0, len(answers), batch_size):\n",
    "            e = b + batch_size\n",
    "            probs = get_nli_probabilities([pas] * len(answers[b:e]), answers[b:e])  # Get NLI probabilities\n",
    "            entailment_matrix[i, b:e] = probs[:, 1]\n",
    "            contradiction_matrix[i, b:e] = probs[:, 0]\n",
    "    return entailment_matrix, contradiction_matrix\n",
    "\n",
    "\n",
    "def calculate_final_composite_score_ngram(passages, answers, ngram_size=3):\n",
    "    passage_sentences = [sent for passage in passages for sent in sent_tokenize(passage)]\n",
    "    answer_sentences = [sent for answer in answers for sent in sent_tokenize(answer)]\n",
    "    entailment_matrix, contradiction_matrix = get_nli_matrix_ngram(passage_sentences, answer_sentences, ngram_size)\n",
    "    entailment_score = calculate_scores_from_matrix(entailment_matrix, 'entailment')\n",
    "    contradiction_score = calculate_scores_from_matrix(contradiction_matrix, 'contradiction')\n",
    "    obligation_coverage_score = calculate_obligation_coverage_score(passages, answers)\n",
    "\n",
    "    composite_score = (obligation_coverage_score + entailment_score - contradiction_score + 1) / 3\n",
    "    return np.round(composite_score, 5), entailment_score, contradiction_score, obligation_coverage_score"
   ]
  },
  {
   "cell_type": "code",
   "execution_count": 40,
   "metadata": {},
   "outputs": [],
   "source": [
    "output_dir = f'regnlp/repass-eval'\n",
    "os.makedirs(output_dir, exist_ok=True)\n",
    "\n",
    "def run_eval(test_data, result_file_name, ngram_size=0):\n",
    "\n",
    "    # Define the paths for result files\n",
    "    output_file_csv = os.path.join(output_dir, f'{result_file_name}.csv')\n",
    "    output_file_txt = os.path.join(output_dir, f'{result_file_name}.txt')\n",
    "\n",
    "    processed_question_ids = set()\n",
    "    composite_scores = []\n",
    "    entailment_scores = []\n",
    "    contradiction_scores = []\n",
    "    obligation_coverage_scores = []\n",
    "\n",
    "    # Check if the output CSV file already exists and read processed QuestionIDs\n",
    "    if os.path.exists(output_file_csv):\n",
    "        with open(output_file_csv, 'r') as csvfile:\n",
    "            reader = csv.DictReader(csvfile)\n",
    "            for row in reader:\n",
    "                processed_question_ids.add(row['QuestionID'])\n",
    "\n",
    "    # with open(input_file_path, 'r') as file:\n",
    "    #     test_data = json.load(file)\n",
    "\n",
    "    # Open the CSV file for appending results\n",
    "    with open(output_file_csv, 'a', newline='') as csvfile:\n",
    "        writer = csv.writer(csvfile)\n",
    "        if not processed_question_ids:\n",
    "            # Write the header if the file is empty or new\n",
    "            writer.writerow(['QuestionID', 'entailment_score', 'contradiction_score', 'obligation_coverage_score', 'composite_score'])\n",
    "\n",
    "        for item in tqdm.tqdm(test_data):\n",
    "            question_id = item['QuestionID']\n",
    "\n",
    "            # Skip if the QuestionID has already been processed\n",
    "            if question_id in processed_question_ids:\n",
    "                print(f\"Skipping QuestionID {question_id}, already processed.\")\n",
    "                continue\n",
    "\n",
    "            # Skip if the \"Answer\" is null or empty\n",
    "            if not item.get('Answer') or not item['Answer'].strip():\n",
    "                print(f\"Skipping QuestionID {question_id}, no answer.\")\n",
    "                continue\n",
    "\n",
    "            # Merge \"RetrievedPassages\" if it's a list\n",
    "            if isinstance(item['RetrievedPassages'], list):\n",
    "                item['RetrievedPassages'] = \" \".join(item['RetrievedPassages'])\n",
    "\n",
    "            passages = [item['RetrievedPassages']]\n",
    "            answers = [item['Answer']]\n",
    "            composite_score, entailment_score, contradiction_score, obligation_coverage_score = 0.0, 0.0, 1.0, 0.0\n",
    "            try:\n",
    "                with torch.no_grad():\n",
    "                    if ngram_size > 0:\n",
    "                        composite_score, entailment_score, contradiction_score, obligation_coverage_score = calculate_final_composite_score(passages, answers, ngram_size)\n",
    "                    else:\n",
    "                        composite_score, entailment_score, contradiction_score, obligation_coverage_score = calculate_final_composite_score(passages, answers)\n",
    "            except Exception as e:\n",
    "                print(f\"Error processing QuestionID {question_id}: {e}\")\n",
    "                traceback.print_exc()\n",
    "                raise e\n",
    "\n",
    "            # Append the scores to the lists\n",
    "            composite_scores.append(composite_score)\n",
    "            entailment_scores.append(entailment_score)\n",
    "            contradiction_scores.append(contradiction_score)\n",
    "            obligation_coverage_scores.append(obligation_coverage_score)\n",
    "\n",
    "            # Write the result to the CSV file\n",
    "            writer.writerow([question_id, entailment_score, contradiction_score, obligation_coverage_score, composite_score])\n",
    "\n",
    "    # Calculate averages\n",
    "    avg_entailment = np.mean(entailment_scores)\n",
    "    avg_contradiction = np.mean(contradiction_scores)\n",
    "    avg_obligation_coverage = np.mean(obligation_coverage_scores)\n",
    "    avg_composite = np.mean(composite_scores)\n",
    "\n",
    "    # Print and save results to a text file\n",
    "    results = (\n",
    "        f\"Average Entailment Score: {avg_entailment}\\n\"\n",
    "        f\"Average Contradiction Score: {avg_contradiction}\\n\"\n",
    "        f\"Average Obligation Coverage Score: {avg_obligation_coverage}\\n\"\n",
    "        f\"Average Final Composite Score: {avg_composite}\\n\"\n",
    "    )\n",
    "\n",
    "    print(results)\n",
    "\n",
    "    with open(output_file_txt, 'w') as txtfile:\n",
    "        txtfile.write(results)\n",
    "\n",
    "    print(f\"Processing complete. Results saved to {output_dir}\")"
   ]
  },
  {
   "cell_type": "markdown",
   "metadata": {},
   "source": [
    "# Experimentation"
   ]
  },
  {
   "cell_type": "code",
   "execution_count": 22,
   "metadata": {},
   "outputs": [
    {
     "data": {
      "text/html": [
       "<div>\n",
       "<style scoped>\n",
       "    .dataframe tbody tr th:only-of-type {\n",
       "        vertical-align: middle;\n",
       "    }\n",
       "\n",
       "    .dataframe tbody tr th {\n",
       "        vertical-align: top;\n",
       "    }\n",
       "\n",
       "    .dataframe thead th {\n",
       "        text-align: right;\n",
       "    }\n",
       "</style>\n",
       "<table border=\"1\" class=\"dataframe\">\n",
       "  <thead>\n",
       "    <tr style=\"text-align: right;\">\n",
       "      <th></th>\n",
       "      <th>QuestionID</th>\n",
       "      <th>Question</th>\n",
       "      <th>Passages</th>\n",
       "      <th>Group</th>\n",
       "    </tr>\n",
       "  </thead>\n",
       "  <tbody>\n",
       "    <tr>\n",
       "      <th>0</th>\n",
       "      <td>777e7a14-fea3-4c37-a0e6-9ffb50024d5c</td>\n",
       "      <td>Can the ADGM provide clarity on the level of d...</td>\n",
       "      <td>[{'DocumentID': 1, 'PassageID': '14.2.3.Guidan...</td>\n",
       "      <td>2</td>\n",
       "    </tr>\n",
       "    <tr>\n",
       "      <th>1</th>\n",
       "      <td>0eb99ea8-3810-492c-9986-7739006b5708</td>\n",
       "      <td>Are there any exceptions or specific circumsta...</td>\n",
       "      <td>[{'DocumentID': 19, 'PassageID': '100)', 'Pass...</td>\n",
       "      <td>2</td>\n",
       "    </tr>\n",
       "    <tr>\n",
       "      <th>2</th>\n",
       "      <td>d34e3516-f053-4652-a0ac-ede703144b9a</td>\n",
       "      <td>What type of procedures must a Third Party Pro...</td>\n",
       "      <td>[{'DocumentID': 3, 'PassageID': '20.14.1.(2)',...</td>\n",
       "      <td>1</td>\n",
       "    </tr>\n",
       "    <tr>\n",
       "      <th>3</th>\n",
       "      <td>6d876d32-7557-4149-875e-8c66f13f3485</td>\n",
       "      <td>Are there any exceptions or specific circumsta...</td>\n",
       "      <td>[{'DocumentID': 13, 'PassageID': '4.15.16', 'P...</td>\n",
       "      <td>3</td>\n",
       "    </tr>\n",
       "    <tr>\n",
       "      <th>4</th>\n",
       "      <td>2efd28f4-8677-4f05-82cd-d9989fb72409</td>\n",
       "      <td>What specific areas of inventory and delivery ...</td>\n",
       "      <td>[{'DocumentID': 34, 'PassageID': '35)', 'Passa...</td>\n",
       "      <td>3</td>\n",
       "    </tr>\n",
       "    <tr>\n",
       "      <th>...</th>\n",
       "      <td>...</td>\n",
       "      <td>...</td>\n",
       "      <td>...</td>\n",
       "      <td>...</td>\n",
       "    </tr>\n",
       "    <tr>\n",
       "      <th>2781</th>\n",
       "      <td>b7f623dc-3b61-447f-b481-d47af4115d07</td>\n",
       "      <td>Your petroleum reporting entity is finalizing ...</td>\n",
       "      <td>[{'DocumentID': 31, 'PassageID': '10)', 'Passa...</td>\n",
       "      <td>1</td>\n",
       "    </tr>\n",
       "    <tr>\n",
       "      <th>2782</th>\n",
       "      <td>cd8b132c-30b0-4322-bd65-e685a5237ad9</td>\n",
       "      <td>Can the regulatory authority provide guidance ...</td>\n",
       "      <td>[{'DocumentID': 33, 'PassageID': '113)', 'Pass...</td>\n",
       "      <td>3</td>\n",
       "    </tr>\n",
       "    <tr>\n",
       "      <th>2783</th>\n",
       "      <td>eb183134-d0be-4a3c-a935-7a39e9831fef</td>\n",
       "      <td>What should the detailed limit structure for a...</td>\n",
       "      <td>[{'DocumentID': 13, 'PassageID': 'APP4.A4.1.Gu...</td>\n",
       "      <td>1</td>\n",
       "    </tr>\n",
       "    <tr>\n",
       "      <th>2784</th>\n",
       "      <td>c82f4441-bd41-4587-b59c-de77576370ad</td>\n",
       "      <td>In cases where an Authorised Person's internal...</td>\n",
       "      <td>[{'DocumentID': 13, 'PassageID': 'APP6.A6.9.2....</td>\n",
       "      <td>10</td>\n",
       "    </tr>\n",
       "    <tr>\n",
       "      <th>2785</th>\n",
       "      <td>235c1a96-e7b2-4812-bd48-4fcc4d4f4202</td>\n",
       "      <td>Can you elucidate the extent to which sharehol...</td>\n",
       "      <td>[{'DocumentID': 14, 'PassageID': 'Part 6.Chapt...</td>\n",
       "      <td>2</td>\n",
       "    </tr>\n",
       "  </tbody>\n",
       "</table>\n",
       "<p>2786 rows × 4 columns</p>\n",
       "</div>"
      ],
      "text/plain": [
       "                                QuestionID  \\\n",
       "0     777e7a14-fea3-4c37-a0e6-9ffb50024d5c   \n",
       "1     0eb99ea8-3810-492c-9986-7739006b5708   \n",
       "2     d34e3516-f053-4652-a0ac-ede703144b9a   \n",
       "3     6d876d32-7557-4149-875e-8c66f13f3485   \n",
       "4     2efd28f4-8677-4f05-82cd-d9989fb72409   \n",
       "...                                    ...   \n",
       "2781  b7f623dc-3b61-447f-b481-d47af4115d07   \n",
       "2782  cd8b132c-30b0-4322-bd65-e685a5237ad9   \n",
       "2783  eb183134-d0be-4a3c-a935-7a39e9831fef   \n",
       "2784  c82f4441-bd41-4587-b59c-de77576370ad   \n",
       "2785  235c1a96-e7b2-4812-bd48-4fcc4d4f4202   \n",
       "\n",
       "                                               Question  \\\n",
       "0     Can the ADGM provide clarity on the level of d...   \n",
       "1     Are there any exceptions or specific circumsta...   \n",
       "2     What type of procedures must a Third Party Pro...   \n",
       "3     Are there any exceptions or specific circumsta...   \n",
       "4     What specific areas of inventory and delivery ...   \n",
       "...                                                 ...   \n",
       "2781  Your petroleum reporting entity is finalizing ...   \n",
       "2782  Can the regulatory authority provide guidance ...   \n",
       "2783  What should the detailed limit structure for a...   \n",
       "2784  In cases where an Authorised Person's internal...   \n",
       "2785  Can you elucidate the extent to which sharehol...   \n",
       "\n",
       "                                               Passages  Group  \n",
       "0     [{'DocumentID': 1, 'PassageID': '14.2.3.Guidan...      2  \n",
       "1     [{'DocumentID': 19, 'PassageID': '100)', 'Pass...      2  \n",
       "2     [{'DocumentID': 3, 'PassageID': '20.14.1.(2)',...      1  \n",
       "3     [{'DocumentID': 13, 'PassageID': '4.15.16', 'P...      3  \n",
       "4     [{'DocumentID': 34, 'PassageID': '35)', 'Passa...      3  \n",
       "...                                                 ...    ...  \n",
       "2781  [{'DocumentID': 31, 'PassageID': '10)', 'Passa...      1  \n",
       "2782  [{'DocumentID': 33, 'PassageID': '113)', 'Pass...      3  \n",
       "2783  [{'DocumentID': 13, 'PassageID': 'APP4.A4.1.Gu...      1  \n",
       "2784  [{'DocumentID': 13, 'PassageID': 'APP6.A6.9.2....     10  \n",
       "2785  [{'DocumentID': 14, 'PassageID': 'Part 6.Chapt...      2  \n",
       "\n",
       "[2786 rows x 4 columns]"
      ]
     },
     "execution_count": 22,
     "metadata": {},
     "output_type": "execute_result"
    }
   ],
   "source": [
    "# ObliQADataset test data path\n",
    "df = pd.read_json(\"regnlp/ObliQADataset/ObliQA_test.json\")\n",
    "df"
   ]
  },
  {
   "cell_type": "code",
   "execution_count": 23,
   "metadata": {},
   "outputs": [],
   "source": [
    "test_df_index = df.set_index(\"QuestionID\")"
   ]
  },
  {
   "cell_type": "code",
   "execution_count": 24,
   "metadata": {},
   "outputs": [],
   "source": [
    "import json\n",
    "import glob\n",
    "\n",
    "def load_json_files_from_directory(directory_path):\n",
    "  \"\"\"Loads all JSON files from a given directory into a list of JSON objects.\"\"\"\n",
    "  json_files = glob.glob(directory_path + \"/*.json\")\n",
    "  json_data_list = []\n",
    "  for json_file in json_files:\n",
    "    with open(json_file, 'r') as f:\n",
    "      try:\n",
    "        json_data = json.load(f) \n",
    "        json_data_list.append((json_file, json_data))\n",
    "      except json.JSONDecodeError as e:\n",
    "        print(f\"Error decoding JSON in file {json_file}: {e}\")\n",
    "  return json_data_list\n",
    "\n",
    "# Path of structured json files provided with ObliQADataset\n",
    "directory_path = \"regnlp/ObliQADataset/StructuredRegulatoryDocuments\" \n",
    "json_data_list = load_json_files_from_directory(directory_path)"
   ]
  },
  {
   "cell_type": "code",
   "execution_count": 25,
   "metadata": {},
   "outputs": [
    {
     "data": {
      "text/plain": [
       "13732"
      ]
     },
     "execution_count": 25,
     "metadata": {},
     "output_type": "execute_result"
    }
   ],
   "source": [
    "flattened_json_data_list = []\n",
    "\n",
    "for json_file, json_data in json_data_list:\n",
    "        flattened_json_data_list.extend(json_data)\n",
    "len(flattened_json_data_list)"
   ]
  },
  {
   "cell_type": "code",
   "execution_count": 26,
   "metadata": {},
   "outputs": [],
   "source": [
    "flattened_json_data_dict = {}\n",
    "\n",
    "for item in flattened_json_data_list:\n",
    "    flattened_json_data_dict[item[\"ID\"]] = item"
   ]
  },
  {
   "cell_type": "code",
   "execution_count": 27,
   "metadata": {},
   "outputs": [],
   "source": [
    "flattened_json_data_dict_dp_id = {f'{passage[\"DocumentID\"]}:{passage[\"PassageID\"]}'.replace(' ', '_'): passage for passage in flattened_json_data_list}"
   ]
  },
  {
   "cell_type": "markdown",
   "metadata": {},
   "source": [
    "## Concatatenation"
   ]
  },
  {
   "cell_type": "markdown",
   "metadata": {},
   "source": [
    "### Ground Truth\n",
    "If concated ground truth passages are passed as the answer\n",
    "\n",
    "At the time we were not aware RePASs takes context passages as input not ground truth passages"
   ]
  },
  {
   "cell_type": "code",
   "execution_count": 11,
   "metadata": {},
   "outputs": [
    {
     "data": {
      "text/plain": [
       "[{'DocumentID': 1,\n",
       "  'PassageID': '14.2.3.Guidance.10.',\n",
       "  'Passage': 'Relevant Persons should comply with guidance issued by the EOCN with regard to identifying and reporting suspicious activity and Transactions relating to money laundering, terrorist financing and proliferation financing.'}]"
      ]
     },
     "execution_count": 11,
     "metadata": {},
     "output_type": "execute_result"
    }
   ],
   "source": [
    "df.iloc[0][\"Passages\"]"
   ]
  },
  {
   "cell_type": "code",
   "execution_count": 54,
   "metadata": {},
   "outputs": [
    {
     "data": {
      "text/plain": [
       "[{'QuestionID': '777e7a14-fea3-4c37-a0e6-9ffb50024d5c',\n",
       "  'RetrievedPassages': ['Relevant Persons should comply with guidance issued by the EOCN with regard to identifying and reporting suspicious activity and Transactions relating to money laundering, terrorist financing and proliferation financing.'],\n",
       "  'Answer': 'Relevant Persons should comply with guidance issued by the EOCN with regard to identifying and reporting suspicious activity and Transactions relating to money laundering, terrorist financing and proliferation financing.'},\n",
       " {'QuestionID': '0eb99ea8-3810-492c-9986-7739006b5708',\n",
       "  'RetrievedPassages': ['REGULATORY REQUIREMENTS FOR AUTHORISED PERSONS ENGAGED IN REGULATED ACTIVITIES IN RELATION TO VIRTUAL ASSETS\\nMarket Abuse, Transaction Reporting and Misleading Impressions (FSMR)\\nSimilar to the reporting requirements imposed on Recognised Investment Exchanges and MTFs in relation to Financial Instruments, MTFs (pursuant to FSMR Section 149) are required to report details of transactions in Accepted Virtual Assets traded on their platforms.   The FSRA expects MTFs using Virtual Assets to report to the FSRA on both a real-time and batch basis.\\n'],\n",
       "  'Answer': 'REGULATORY REQUIREMENTS FOR AUTHORISED PERSONS ENGAGED IN REGULATED ACTIVITIES IN RELATION TO VIRTUAL ASSETS\\nMarket Abuse, Transaction Reporting and Misleading Impressions (FSMR)\\nSimilar to the reporting requirements imposed on Recognised Investment Exchanges and MTFs in relation to Financial Instruments, MTFs (pursuant to FSMR Section 149) are required to report details of transactions in Accepted Virtual Assets traded on their platforms.   The FSRA expects MTFs using Virtual Assets to report to the FSRA on both a real-time and batch basis.\\n'},\n",
       " {'QuestionID': 'd34e3516-f053-4652-a0ac-ede703144b9a',\n",
       "  'RetrievedPassages': ['As part of that framework, the Third Party Provider must establish and maintain effective incident management procedures, including for the detection and classification of major operational and security incidents.'],\n",
       "  'Answer': 'As part of that framework, the Third Party Provider must establish and maintain effective incident management procedures, including for the detection and classification of major operational and security incidents.'},\n",
       " {'QuestionID': '6d876d32-7557-4149-875e-8c66f13f3485',\n",
       "  'RetrievedPassages': ['Recognition of Credit Risk mitigations. Where the value of the Collateral under the stress scenario is lower than the value applied under Rule 4.15.12 the lower value should be used when determining the Exposure value for the purposes of this Section.'],\n",
       "  'Answer': 'Recognition of Credit Risk mitigations. Where the value of the Collateral under the stress scenario is lower than the value applied under Rule 4.15.12 the lower value should be used when determining the Exposure value for the purposes of this Section.'},\n",
       " {'QuestionID': '2efd28f4-8677-4f05-82cd-d9989fb72409',\n",
       "  'RetrievedPassages': ['REGULATORY REQUIREMENTS - SPOT COMMODITY ACTIVITIES\\nDelivery & Storage\\nWhen applying COBS Rule 22.4.2(d), an Authorised Person should have independent third party audits carried out at appropriate times, for the inventories and deliveries undertaken at the storage facility, as well as the facilities infrastructure itself.  Where necessary, further third-party audits will be required for the obligations of Accepted Spot Commodities, as outlined in paragraph 26 above.\\n'],\n",
       "  'Answer': 'REGULATORY REQUIREMENTS - SPOT COMMODITY ACTIVITIES\\nDelivery & Storage\\nWhen applying COBS Rule 22.4.2(d), an Authorised Person should have independent third party audits carried out at appropriate times, for the inventories and deliveries undertaken at the storage facility, as well as the facilities infrastructure itself.  Where necessary, further third-party audits will be required for the obligations of Accepted Spot Commodities, as outlined in paragraph 26 above.\\n'},\n",
       " {'QuestionID': '84a753ca-2a42-4909-bf85-e4d5654cc605',\n",
       "  'RetrievedPassages': ['Whenever possible the Authorised Person should seek to split a mixed remittance before crediting the Client Account.'],\n",
       "  'Answer': 'Whenever possible the Authorised Person should seek to split a mixed remittance before crediting the Client Account.'},\n",
       " {'QuestionID': 'cfbe9040-6a57-4146-85f8-3d082b435bec',\n",
       "  'RetrievedPassages': ['Developing and testing the Model: the Digital Investment Manager must maintain proper documentation explaining the decision tree or logic of the algorithm to ensure that the outcomes produced by the Model are explainable, traceable and repeatable.  The Digital Investment Manager must also ensure the relevance of any data or assumptions upon which the Model is based, and that any client questionnaire it uses takes into account potential behavioural biases that may lower the accuracy of client responses. The Digital Investment Manager must carry out sufficient testing to demonstrate that its Model meets these principles.  Where appropriate (e.g. in the case of a complex Model), the FSRA may require a third-party audit to validate the performance outcomes of the Model as purported.\\n'],\n",
       "  'Answer': 'Developing and testing the Model: the Digital Investment Manager must maintain proper documentation explaining the decision tree or logic of the algorithm to ensure that the outcomes produced by the Model are explainable, traceable and repeatable.  The Digital Investment Manager must also ensure the relevance of any data or assumptions upon which the Model is based, and that any client questionnaire it uses takes into account potential behavioural biases that may lower the accuracy of client responses. The Digital Investment Manager must carry out sufficient testing to demonstrate that its Model meets these principles.  Where appropriate (e.g. in the case of a complex Model), the FSRA may require a third-party audit to validate the performance outcomes of the Model as purported.\\n'},\n",
       " {'QuestionID': 'ca5c0779-8178-4e43-bdd3-fe171c573c0f',\n",
       "  'RetrievedPassages': ['FEES\\nCumulative application of Fees\\nPursuant to FEES Rule 3.15.1, an MTF using Virtual Assets must pay to the FSRA a trading levy on a sliding scale basis (as set out in the table below), payable monthly in USD.  Unless otherwise determined by an MTF (and agreed to by the FSRA), the FSRA expects that the calculation of average daily value should occur at 12am Abu Dhabi time (+4hr GMT).\\n/Table Start\\nAverage Daily Value\\n(ADV)  ($USD)\\tLevy\\nADV ≤ 10m\\t0.0015%\\n10m < ADV ≤ 50m\\t0.0012%\\n50m < ADV ≤ 250m\\t0.0009%\\nADV > 250m\\t0.0006%\\n/Table End\\n'],\n",
       "  'Answer': 'FEES\\nCumulative application of Fees\\nPursuant to FEES Rule 3.15.1, an MTF using Virtual Assets must pay to the FSRA a trading levy on a sliding scale basis (as set out in the table below), payable monthly in USD.  Unless otherwise determined by an MTF (and agreed to by the FSRA), the FSRA expects that the calculation of average daily value should occur at 12am Abu Dhabi time (+4hr GMT).\\n/Table Start\\nAverage Daily Value\\n(ADV)  ($USD)\\tLevy\\nADV ≤ 10m\\t0.0015%\\n10m < ADV ≤ 50m\\t0.0012%\\n50m < ADV ≤ 250m\\t0.0009%\\nADV > 250m\\t0.0006%\\n/Table End\\n'},\n",
       " {'QuestionID': 'd997b233-eaeb-40b3-a769-8b67960c3c8f',\n",
       "  'RetrievedPassages': ['A Recognised Clearing House must use the results of stress testing to evaluate the adequacy of its liquidity risk-management framework and make any appropriate adjustments as needed.'],\n",
       "  'Answer': 'A Recognised Clearing House must use the results of stress testing to evaluate the adequacy of its liquidity risk-management framework and make any appropriate adjustments as needed.'},\n",
       " {'QuestionID': 'f3dca83c-3f58-46a7-80b8-b9b42223e895',\n",
       "  'RetrievedPassages': ['For the purpose of assessing whether Shareholders and creditors would have received better treatment if an Institution in Resolution had been Wound Up under Insolvency Proceedings, the Regulator shall, in accordance with any eligibility criteria prescribed under section \\u200e40, appoint an independent valuer to carry out a valuation as soon as practicable after the application of a Resolution Action.'],\n",
       "  'Answer': 'For the purpose of assessing whether Shareholders and creditors would have received better treatment if an Institution in Resolution had been Wound Up under Insolvency Proceedings, the Regulator shall, in accordance with any eligibility criteria prescribed under section \\u200e40, appoint an independent valuer to carry out a valuation as soon as practicable after the application of a Resolution Action.'}]"
      ]
     },
     "execution_count": 54,
     "metadata": {},
     "output_type": "execute_result"
    }
   ],
   "source": [
    "test_data = []\n",
    "\n",
    "for index, row in df.iterrows():\n",
    "    test_data.append({\n",
    "        \"QuestionID\": row['QuestionID'],\n",
    "        \"RetrievedPassages\": [element[\"Passage\"] for element in row['Passages']],\n",
    "        \"Answer\": \"\\n\".join([element[\"Passage\"] for element in row['Passages']])\n",
    "    })\n",
    "\n",
    "test_data[:10]"
   ]
  },
  {
   "cell_type": "code",
   "execution_count": null,
   "metadata": {},
   "outputs": [],
   "source": [
    "result_file_name = \"results-concat\"\n",
    "\n",
    "run_eval(test_data, result_file_name)"
   ]
  },
  {
   "cell_type": "markdown",
   "metadata": {},
   "source": [
    "### BM25"
   ]
  },
  {
   "cell_type": "code",
   "execution_count": 11,
   "metadata": {},
   "outputs": [
    {
     "data": {
      "text/html": [
       "<div>\n",
       "<style scoped>\n",
       "    .dataframe tbody tr th:only-of-type {\n",
       "        vertical-align: middle;\n",
       "    }\n",
       "\n",
       "    .dataframe tbody tr th {\n",
       "        vertical-align: top;\n",
       "    }\n",
       "\n",
       "    .dataframe thead th {\n",
       "        text-align: right;\n",
       "    }\n",
       "</style>\n",
       "<table border=\"1\" class=\"dataframe\">\n",
       "  <thead>\n",
       "    <tr style=\"text-align: right;\">\n",
       "      <th></th>\n",
       "      <th>QuestionID</th>\n",
       "      <th>IterId</th>\n",
       "      <th>PassageId</th>\n",
       "      <th>RetrievalPos</th>\n",
       "      <th>Score</th>\n",
       "      <th>ModelType</th>\n",
       "    </tr>\n",
       "  </thead>\n",
       "  <tbody>\n",
       "    <tr>\n",
       "      <th>0</th>\n",
       "      <td>777e7a14-fea3-4c37-a0e6-9ffb50024d5c</td>\n",
       "      <td>0</td>\n",
       "      <td>91cd8922-2b83-43f1-b258-40ea02eecce8</td>\n",
       "      <td>1</td>\n",
       "      <td>11.3694</td>\n",
       "      <td>bm25</td>\n",
       "    </tr>\n",
       "    <tr>\n",
       "      <th>1</th>\n",
       "      <td>777e7a14-fea3-4c37-a0e6-9ffb50024d5c</td>\n",
       "      <td>0</td>\n",
       "      <td>a068d4e0-2329-407f-8fa3-06bf38c0a3f5</td>\n",
       "      <td>2</td>\n",
       "      <td>10.6749</td>\n",
       "      <td>bm25</td>\n",
       "    </tr>\n",
       "    <tr>\n",
       "      <th>2</th>\n",
       "      <td>777e7a14-fea3-4c37-a0e6-9ffb50024d5c</td>\n",
       "      <td>0</td>\n",
       "      <td>fe6b58fc-14fb-46e4-a790-902c6dae6498</td>\n",
       "      <td>3</td>\n",
       "      <td>10.4845</td>\n",
       "      <td>bm25</td>\n",
       "    </tr>\n",
       "    <tr>\n",
       "      <th>3</th>\n",
       "      <td>777e7a14-fea3-4c37-a0e6-9ffb50024d5c</td>\n",
       "      <td>0</td>\n",
       "      <td>8f2d6ed9-f3a0-4c87-9abc-93c720355393</td>\n",
       "      <td>4</td>\n",
       "      <td>10.4292</td>\n",
       "      <td>bm25</td>\n",
       "    </tr>\n",
       "    <tr>\n",
       "      <th>4</th>\n",
       "      <td>777e7a14-fea3-4c37-a0e6-9ffb50024d5c</td>\n",
       "      <td>0</td>\n",
       "      <td>e246e133-be84-43b6-9018-08d6dd75dd9e</td>\n",
       "      <td>5</td>\n",
       "      <td>9.7701</td>\n",
       "      <td>bm25</td>\n",
       "    </tr>\n",
       "    <tr>\n",
       "      <th>...</th>\n",
       "      <td>...</td>\n",
       "      <td>...</td>\n",
       "      <td>...</td>\n",
       "      <td>...</td>\n",
       "      <td>...</td>\n",
       "      <td>...</td>\n",
       "    </tr>\n",
       "    <tr>\n",
       "      <th>278595</th>\n",
       "      <td>235c1a96-e7b2-4812-bd48-4fcc4d4f4202</td>\n",
       "      <td>0</td>\n",
       "      <td>6f1e9b26-ccce-40ff-9384-6b5ebfcc4ed9</td>\n",
       "      <td>96</td>\n",
       "      <td>8.6269</td>\n",
       "      <td>bm25</td>\n",
       "    </tr>\n",
       "    <tr>\n",
       "      <th>278596</th>\n",
       "      <td>235c1a96-e7b2-4812-bd48-4fcc4d4f4202</td>\n",
       "      <td>0</td>\n",
       "      <td>594d1d7c-01ab-4505-9df6-ae31218e6469</td>\n",
       "      <td>97</td>\n",
       "      <td>8.6233</td>\n",
       "      <td>bm25</td>\n",
       "    </tr>\n",
       "    <tr>\n",
       "      <th>278597</th>\n",
       "      <td>235c1a96-e7b2-4812-bd48-4fcc4d4f4202</td>\n",
       "      <td>0</td>\n",
       "      <td>715e2534-e356-4225-a409-dd70f18bffa6</td>\n",
       "      <td>98</td>\n",
       "      <td>8.5898</td>\n",
       "      <td>bm25</td>\n",
       "    </tr>\n",
       "    <tr>\n",
       "      <th>278598</th>\n",
       "      <td>235c1a96-e7b2-4812-bd48-4fcc4d4f4202</td>\n",
       "      <td>0</td>\n",
       "      <td>ababc144-e3e9-4d05-89c3-c882544fec2e</td>\n",
       "      <td>99</td>\n",
       "      <td>8.5797</td>\n",
       "      <td>bm25</td>\n",
       "    </tr>\n",
       "    <tr>\n",
       "      <th>278599</th>\n",
       "      <td>235c1a96-e7b2-4812-bd48-4fcc4d4f4202</td>\n",
       "      <td>0</td>\n",
       "      <td>2e243c0c-5991-475b-ab81-6a8aa84abe98</td>\n",
       "      <td>100</td>\n",
       "      <td>8.5651</td>\n",
       "      <td>bm25</td>\n",
       "    </tr>\n",
       "  </tbody>\n",
       "</table>\n",
       "<p>278600 rows × 6 columns</p>\n",
       "</div>"
      ],
      "text/plain": [
       "                                  QuestionID  IterId  \\\n",
       "0       777e7a14-fea3-4c37-a0e6-9ffb50024d5c       0   \n",
       "1       777e7a14-fea3-4c37-a0e6-9ffb50024d5c       0   \n",
       "2       777e7a14-fea3-4c37-a0e6-9ffb50024d5c       0   \n",
       "3       777e7a14-fea3-4c37-a0e6-9ffb50024d5c       0   \n",
       "4       777e7a14-fea3-4c37-a0e6-9ffb50024d5c       0   \n",
       "...                                      ...     ...   \n",
       "278595  235c1a96-e7b2-4812-bd48-4fcc4d4f4202       0   \n",
       "278596  235c1a96-e7b2-4812-bd48-4fcc4d4f4202       0   \n",
       "278597  235c1a96-e7b2-4812-bd48-4fcc4d4f4202       0   \n",
       "278598  235c1a96-e7b2-4812-bd48-4fcc4d4f4202       0   \n",
       "278599  235c1a96-e7b2-4812-bd48-4fcc4d4f4202       0   \n",
       "\n",
       "                                   PassageId  RetrievalPos    Score ModelType  \n",
       "0       91cd8922-2b83-43f1-b258-40ea02eecce8             1  11.3694      bm25  \n",
       "1       a068d4e0-2329-407f-8fa3-06bf38c0a3f5             2  10.6749      bm25  \n",
       "2       fe6b58fc-14fb-46e4-a790-902c6dae6498             3  10.4845      bm25  \n",
       "3       8f2d6ed9-f3a0-4c87-9abc-93c720355393             4  10.4292      bm25  \n",
       "4       e246e133-be84-43b6-9018-08d6dd75dd9e             5   9.7701      bm25  \n",
       "...                                      ...           ...      ...       ...  \n",
       "278595  6f1e9b26-ccce-40ff-9384-6b5ebfcc4ed9            96   8.6269      bm25  \n",
       "278596  594d1d7c-01ab-4505-9df6-ae31218e6469            97   8.6233      bm25  \n",
       "278597  715e2534-e356-4225-a409-dd70f18bffa6            98   8.5898      bm25  \n",
       "278598  ababc144-e3e9-4d05-89c3-c882544fec2e            99   8.5797      bm25  \n",
       "278599  2e243c0c-5991-475b-ab81-6a8aa84abe98           100   8.5651      bm25  \n",
       "\n",
       "[278600 rows x 6 columns]"
      ]
     },
     "execution_count": 11,
     "metadata": {},
     "output_type": "execute_result"
    }
   ],
   "source": [
    "# trec file (see retriever for more detail) for BM25\n",
    "ret_df = pd.read_csv(\"regnlp/ObliQADataset/bm25-rankings-topk-100.trec\", sep=\" \", names=[\"QuestionID\", \"IterId\", \"PassageId\", \"RetrievalPos\", \"Score\", \"ModelType\"])\n",
    "ret_df"
   ]
  },
  {
   "cell_type": "code",
   "execution_count": 12,
   "metadata": {},
   "outputs": [
    {
     "name": "stderr",
     "output_type": "stream",
     "text": [
      "/tmp/ipykernel_24038/1436655948.py:2: SettingWithCopyWarning: \n",
      "A value is trying to be set on a copy of a slice from a DataFrame.\n",
      "Try using .loc[row_indexer,col_indexer] = value instead\n",
      "\n",
      "See the caveats in the documentation: https://pandas.pydata.org/pandas-docs/stable/user_guide/indexing.html#returning-a-view-versus-a-copy\n",
      "  ret_df[\"Passage\"] = ret_df[\"PassageId\"].apply(lambda x: flattened_json_data_dict[x])\n",
      "/tmp/ipykernel_24038/1436655948.py:3: SettingWithCopyWarning: \n",
      "A value is trying to be set on a copy of a slice from a DataFrame.\n",
      "Try using .loc[row_indexer,col_indexer] = value instead\n",
      "\n",
      "See the caveats in the documentation: https://pandas.pydata.org/pandas-docs/stable/user_guide/indexing.html#returning-a-view-versus-a-copy\n",
      "  ret_df[\"Question\"] = ret_df[\"QuestionID\"].apply(lambda x: test_df_index.loc[x][\"Question\"])\n"
     ]
    }
   ],
   "source": [
    "ret_df = ret_df[ret_df[\"RetrievalPos\"] <= 2]\n",
    "ret_df[\"Passage\"] = ret_df[\"PassageId\"].apply(lambda x: flattened_json_data_dict[x])\n",
    "ret_df[\"Question\"] = ret_df[\"QuestionID\"].apply(lambda x: test_df_index.loc[x][\"Question\"])\n",
    "\n",
    "ret_df_grouped = ret_df.groupby([\"QuestionID\", \"Question\"])[\"Passage\"].apply(list).reset_index()\n",
    "ret_df_grouped[\"GroundTruth\"] = ret_df_grouped[\"QuestionID\"].apply(lambda x: test_df_index.loc[x][\"Passages\"])"
   ]
  },
  {
   "cell_type": "code",
   "execution_count": 13,
   "metadata": {},
   "outputs": [
    {
     "data": {
      "text/plain": [
       "[{'QuestionID': '0048b1b6-e739-49dc-91cb-3ec9061276d0',\n",
       "  'RetrievedPassages': ['A Person, referred to in this chapter as an applicant, who intends to carry on the Regulated Activity of Operating a Representative Office must apply to the Regulator for a Financial Services Permission in such form as the Regulator shall prescribe.'],\n",
       "  'Answer': 'A Representative Office seeking to have its Financial Services Permission withdrawn must submit a request in writing stating:\\n(1)\\tthe reasons for the request;\\n(2)\\tthat it has ceased or will cease to carry on the Regulated Activity of Operating a Representative Office in or from the ADGM; and\\n(3)\\tthe date on which it ceased or will cease to carry on the Regulated Activity of Operating a Representative Office in or from the ADGM.\\n\\nBecause of the limited nature of the Regulated Activity of Operating a Representative Office, much of the ADGM Rulebook has been disapplied for Representative Offices. While most of the key provisions applying to a Representative Office are contained in these Rules, a Representative Office should ensure that it complies with and has regard to other relevant provisions in other applicable ADGM Rulebooks including AML. The application section of each Rulebook sets out which chapters, if any, apply to a Representative Office.'},\n",
       " {'QuestionID': '005042ec-464a-426d-8c61-066360ea73d2',\n",
       "  'RetrievedPassages': [\"For the purposes of determining the net present value of expected future payments in accordance with Rule \\u200e6.10 or \\u200e6.11, a Captive Insurer must use as a discount rate the gross redemption yield of a portfolio of sovereign risk securities which:\\n(a)\\tare AAA-rated by Standard & Poor's (or the equivalent by another Approved Rating Agency); and\\n(b)\\thave a similar expected payment profile to the liability being measured.\\n\"],\n",
       "  'Answer': \"For the purposes of determining the net present value of expected future payments in accordance with Rule \\u200e6.10 or \\u200e6.11, a Captive Insurer must use as a discount rate the gross redemption yield of a portfolio of sovereign risk securities which:\\n(a)\\tare AAA-rated by Standard & Poor's (or the equivalent by another Approved Rating Agency); and\\n(b)\\thave a similar expected payment profile to the liability being measured.\\n\\n\\nFor the purposes of determining the net present value of expected future payments in accordance with Rule \\u200e5.4.10, an Insurer must use as a discount rate the gross redemption yield, as at the Solvency Reference Date, of a portfolio of AAA Rated sovereign risk securities with a similar expected payment profile to the liability being measured.\"},\n",
       " {'QuestionID': '0076d200-5221-48d7-ad69-84766de8827a',\n",
       "  'RetrievedPassages': ['Principle 2 – High Standards for Authorisation. This discerning approach is shown by the FSRA’s power to only permit VAs that it deems ‘acceptable’, as determined by risk factors such as security and traceability, in order to prevent the build-up of risk from illiquid or immature assets. Additionally, we do not permit stablecoins based on the algorithmic model of valuation to the underlying fiat currency.'],\n",
       "  'Answer': 'Principle 2 – High Standards for Authorisation. This discerning approach is shown by the FSRA’s power to only permit VAs that it deems ‘acceptable’, as determined by risk factors such as security and traceability, in order to prevent the build-up of risk from illiquid or immature assets. Additionally, we do not permit stablecoins based on the algorithmic model of valuation to the underlying fiat currency.\\n\\nREGULATORY REQUIREMENTS FOR AUTHORISED PERSONS ENGAGED IN REGULATED ACTIVITIES IN RELATION TO VIRTUAL ASSETS\\nKey considerations for AML/CFT compliance\\nWhen considering the FATF Recommendations, in combination with the application of the AML Rules, the FSRA notes the following key principles that an Authorised Person conducting a Regulated Activity in relation to Virtual Assets should consider:\\n\\na)\\tREGULATORY REQUIREMENTS FOR AUTHORISED PERSONS ENGAGED IN REGULATED ACTIVITIES IN RELATION TO VIRTUAL ASSETS\\nKey considerations for AML/CFT compliance\\nPrinciple 1: Risk Based Approach\\nFATF expects countries, regulators, financial institutions and other concerned parties to adopt a ‘Risk Based Approach’ (“RBA”). Authorised Persons are expected to understand the risks associated with their activities and allocate proper resources to mitigate those risks. A RBA can only be achieved if it is embedded into the compliance culture of the Authorised Person, which enables the Authorised Person to make decisions and allocate appropriate resources in the most efficient and effective way.\\n\\nb)\\tREGULATORY REQUIREMENTS FOR AUTHORISED PERSONS ENGAGED IN REGULATED ACTIVITIES IN RELATION TO VIRTUAL ASSETS\\nKey considerations for AML/CFT compliance\\nPrinciple 1: Risk Based Approach\\nAuthorised Persons should, on a periodic basis, carry out a proper risk based assessment of their processes and activities. In order to implement the RBA, Authorised Persons are expected to have processes in place to identify, assess, monitor, manage and mitigate ML risks. The general principle is that in circumstances where there are higher risks of ML, Authorised Persons are required to implement enhanced measures to manage and mitigate those risks.\\n\\nc)\\tREGULATORY REQUIREMENTS FOR AUTHORISED PERSONS ENGAGED IN REGULATED ACTIVITIES IN RELATION TO VIRTUAL ASSETS\\nKey considerations for AML/CFT compliance\\nPrinciple 1: Risk Based Approach\\nOne of the most challenging risks facing financial institutions is how the on-boarding of an Authorised Person may affect its relationship with foreign correspondent financial institutions, as well as the views of the regulator of those foreign correspondent financial institutions. In essence, a foreign correspondent financial institution relationship is built on the effectiveness of a financial institution’s ML compliance program and ongoing monitoring capabilities.\\n\\nd)\\tREGULATORY REQUIREMENTS FOR AUTHORISED PERSONS ENGAGED IN REGULATED ACTIVITIES IN RELATION TO VIRTUAL ASSETS\\nKey considerations for AML/CFT compliance\\nPrinciple 1: Risk Based Approach\\nWith the use of cryptology and block chain technologies at a nascent stage within financial services, any financial institution banking an Authorised Person must not only satisfy itself, but also its foreign correspondent financial institution(s), that the Authorised Person is well regulated and has appropriate systems and controls in place to address ML, TF and sanctions risks.  These systems and controls should include robust processes to carry out CDD on Clients and beneficial owners, to monitor transactions for these risks, and the willingness and ability of the Authorised Person to provide complete transparency to its financial institution(s) and foreign correspondent financial institution(s) if and when required.\\n\\n\\ne)\\tREGULATORY REQUIREMENTS FOR AUTHORISED PERSONS ENGAGED IN REGULATED ACTIVITIES IN RELATION TO VIRTUAL ASSETS\\nKey considerations for AML/CFT compliance\\nPrinciple 2: Business Risk Assessment\\nChapter 6 of the AML Rules requires Relevant Persons to take appropriate steps to identify and assess the ML risks to which their businesses are exposed, taking into consideration the nature, size and complexity of their activities. When identifying and assessing these risks, several factors should be considered, including an assessment of the use of new technologies.  Importantly, in the context of Virtual Assets, FATF Recommendation (15) states that:\\n\\n“Countries and financial institutions should identify and assess the money laundering or terrorist financing risks that may arise in relation to (a) the development of new products and new business practices, including new delivery mechanisms, and (b) the use of new or developing technologies for both new and pre-existing products. In the case of financial institutions, such a risk assessment should take place prior to the launch of the new products, business practices or the use of new or developing technologies. They should take appropriate measures to manage and mitigate those risks.”\\n\\nf)\\tREGULATORY REQUIREMENTS FOR AUTHORISED PERSONS ENGAGED IN REGULATED ACTIVITIES IN RELATION TO VIRTUAL ASSETS\\nKey considerations for AML/CFT compliance\\nPrinciple 2: Business Risk Assessment\\nAnother aspect of assessing the business risk relevant to Authorised Persons is gaining familiarity with the characteristics and terminology  of the Virtual Asset industry. Additionally, Authorised Persons, and their management and staff, should be aware of the possible misuse of Virtual Assets in criminal activities, as well as the technical and complicated nature of Virtual Assets (and the platforms they operate on).\\n\\ng)\\tREGULATORY REQUIREMENTS FOR AUTHORISED PERSONS ENGAGED IN REGULATED ACTIVITIES IN RELATION TO VIRTUAL ASSETS\\nKey considerations for AML/CFT compliance\\nPrinciple 2: Business Risk Assessment\\nWhen making its assessment, an Authorised Person must give consideration to all business risks. For example, while an issue may be identified in relation to cyber security (e.g., when dealing with hot wallets or using cloud computing to store data – being a ‘technology’ risk), the FSRA expects Authorised Persons to consider these risks from all perspectives to establish whether the risk triggers other issues for consideration (including ML/TF risks, technology governance and consumer protection).  An Authorised Person must then use the identified risks to develop and maintain its AML/CTF policies, procedures, systems and controls and take all reasonable steps to eliminate or manage such risks.\\n\\n\\nh)\\tREGULATORY REQUIREMENTS FOR AUTHORISED PERSONS ENGAGED IN REGULATED ACTIVITIES IN RELATION TO VIRTUAL ASSETS\\nKey considerations for AML/CFT compliance\\nPrinciple 3: Customer Risk Assessment and Customer Due Diligence\\nThe FSRA expects all Authorised Persons to have fully compliant Client on-boarding processes.  Virtual Assets have been criticised by regulatory bodies globally due to their (pseudo-)anonymity features, which makes tracking Client records and transactions more challenging for compliance officers and money laundering reporting officers.\\n\\ni)\\tREGULATORY REQUIREMENTS FOR AUTHORISED PERSONS ENGAGED IN REGULATED ACTIVITIES IN RELATION TO VIRTUAL ASSETS\\nKey considerations for AML/CFT compliance\\nPrinciple 3: Customer Risk Assessment and Customer Due Diligence\\nCustomer Risk Assessment and ‘Customer Due Diligence’ (“CDD”) policies and procedures are required to be implemented by all Authorised Persons. Authorised Persons should have a process to assess and rate all their Clients according to that Client’s risk profile (and taking into consideration the Authorised Persons’ RBA). This risk-based assessment is required to be undertaken for each Client prior to transacting any business on behalf of the Client. Authorised Persons must undertake CDD for each Client and comply in full with Chapter 8 of the AML Rules noting that the FSRA does not consider it appropriate for Authorised Persons to use simplified CDD when conducting a Regulated Activity in relation to Virtual Assets, largely due to issues surrounding the (pseudo-) anonymity of Clients and transactions associated with Virtual Assets.\\n\\nj)\\tREGULATORY REQUIREMENTS FOR AUTHORISED PERSONS ENGAGED IN REGULATED ACTIVITIES IN RELATION TO VIRTUAL ASSETS\\nKey considerations for AML/CFT compliance\\nPrinciple 3: Customer Risk Assessment and Customer Due Diligence\\nIn the case of non-face-to-face on-boarding and ongoing due diligence of Clients who are natural persons, the FSRA expects that an Authorised Person will develop appropriate policies to ensure that the Client’s identity is duly verified in accordance with all applicable Laws and Rules. This may include obtaining a “selfie” or by conducting a “liveness test”. Irrespective of the method employed, it should validate that the individual being on-boarded is present during the on-boarding process, matches the individual in the identity documentation, and that the ID presented is valid and authentic. It should also include obtaining and authenticating a valid form of the Client’s facial ID, which should be either the Client’s passport with all applicable details clear and, or the original version (front and back) of an official government issued document, such as a national ID or driver’s license. For the purposes of residents of the UAE, the primary form of documentation used should be the Client’s Emirates ID card.\\n\\nk)\\tREGULATORY REQUIREMENTS FOR AUTHORISED PERSONS ENGAGED IN REGULATED ACTIVITIES IN RELATION TO VIRTUAL ASSETS\\nKey considerations for AML/CFT compliance\\nPrinciple 3: Customer Risk Assessment and Customer Due Diligence\\nThe FSRA understands that Authorised Persons may need to use new technology to improve Client on-boarding processes for the purpose of assessing and managing ML and TF risks.  For example, in order for Authorised Persons to conduct non-face-to-face on-boarding they will need to implement facial recognition software to validate the “selfie” against the other uploaded documentation, or other suitable biometric technology.\\n\\nl)\\tREGULATORY REQUIREMENTS FOR AUTHORISED PERSONS ENGAGED IN REGULATED ACTIVITIES IN RELATION TO VIRTUAL ASSETS\\nKey considerations for AML/CFT compliance\\nPrinciple 3: Customer Risk Assessment and Customer Due Diligence\\nThe FSRA further understands that the proper use of such technologies (e.g., fingerprinting, retinal/eye scans, use of real-time video conference facilities to enable facial recognition) can assist with mitigation of the ML/TF risks associated with the use of Virtual Assets.  Technological features, such as secure digital signatures that allow the verification of a Client’s identity through a signed document, may also be acceptable to the FSRA. In all cases, an Authorised Person should ensure that the use of these technologies will not lead to a simplified process where the required Customer Risk Assessment and CDD requirements are not appropriately undertaken by an Authorised Person.\\n\\nm)\\tREGULATORY REQUIREMENTS FOR AUTHORISED PERSONS ENGAGED IN REGULATED ACTIVITIES IN RELATION TO VIRTUAL ASSETS\\nKey considerations for AML/CFT compliance\\nPrinciple 3: Customer Risk Assessment and Customer Due Diligence\\nThe FSRA recommends that Authorised Persons obtain a signed self-certification from their Clients identifying the details of all passports issued and held in their name(s). Authorised Persons may also use this as an opportunity to capture all tax related details in order to meet their international tax reporting obligations. Self-certification should not prevent Authorised Persons from conducting proper CDD.\\n\\n\\nn)\\tREGULATORY REQUIREMENTS FOR AUTHORISED PERSONS ENGAGED IN REGULATED ACTIVITIES IN RELATION TO VIRTUAL ASSETS\\nKey considerations for AML/CFT compliance\\nPrinciple 4: Governance, Systems and Controls\\nAuthorised Persons are required to implement an appropriate governance structure, especially in relation to Information Technology governance , and provide for the development and maintenance of all necessary systems and controls to ensure appropriate ML and TF compliance.\\n\\no)\\tREGULATORY REQUIREMENTS FOR AUTHORISED PERSONS ENGAGED IN REGULATED ACTIVITIES IN RELATION TO VIRTUAL ASSETS\\nKey considerations for AML/CFT compliance\\nPrinciple 4: Governance, Systems and Controls\\nThe FSRA expects that Authorised Persons may seek to utilise (their own or third-party) technologies and solutions to meet their regulatory obligations (e.g., customer risk assessment, detection of fraud, and transaction identification, monitoring and reporting) and risk management requirements (e.g., margin limits, large exposure monitoring).\\n\\np)\\tREGULATORY REQUIREMENTS FOR AUTHORISED PERSONS ENGAGED IN REGULATED ACTIVITIES IN RELATION TO VIRTUAL ASSETS\\nKey considerations for AML/CFT compliance\\nPrinciple 4: Governance, Systems and Controls\\nThe FSRA expects Authorised Persons to develop, implement and maintain effective transactional monitoring systems to determine the origin of a Virtual Asset and to monitor its destination, and to apply strong “know your transaction” measures which enable Authorised Persons to have complete granular data centric information about the transactions done by a Client.\\n\\nq)\\tREGULATORY REQUIREMENTS FOR AUTHORISED PERSONS ENGAGED IN REGULATED ACTIVITIES IN RELATION TO VIRTUAL ASSETS\\nKey considerations for AML/CFT compliance\\nPrinciple 4: Governance, Systems and Controls\\nThe FSRA expects Authorised Persons to act responsibly and always be vigilant in ensuring that their activities are not subject to any misuse by participants transacting with Virtual Assets that may have been tainted in any way from an illegal activity.  The FSRA expects that an Authorised Person’s internal processes establish the types of ‘indicators’ or activities that could be used to identify when Accepted Virtual Assets may have been used in an illegal manner.  An Authorised Person should have a process for the management of when such ‘indicators’ (for example, certain Client or use of “mixer” and “tumbler” services) are triggered.\\n\\nr)\\tREGULATORY REQUIREMENTS FOR AUTHORISED PERSONS ENGAGED IN REGULATED ACTIVITIES IN RELATION TO VIRTUAL ASSETS\\nKey considerations for AML/CFT compliance\\nPrinciple 4: Governance, Systems and Controls\\nWhile the FSRA cannot recommend particular vendors or providers, all technology solutions must be fit for purpose and Authorised Persons should consider using those with an established track record, and undertake their own due diligence/risk assessment to ensure competency and capability.  The FSRA recognises that many of the (technology) solutions appropriate for mitigating Virtual Asset risks are continuing to be developed within the Virtual Asset industry itself.\\n\\ns)\\tREGULATORY REQUIREMENTS FOR AUTHORISED PERSONS ENGAGED IN REGULATED ACTIVITIES IN RELATION TO VIRTUAL ASSETS\\nKey considerations for AML/CFT compliance\\nPrinciple 4: Governance, Systems and Controls\\nThe FSRA expects Authorised Persons to develop, implement and adhere to a “Virtual Asset Compliance Policy”, tailored to meet specific Virtual Asset business compliance requirements, and reflecting a clear comprehension of the Authorised Person’s understanding of its compliance responsibilities.  The FSRA expects this policy to be well defined, comprehensive, robust and as specific to an individual Authorised Person’s activities as possible. The policy can be separate or part of other compliance policies/manuals.\\n\\nt)\\tREGULATORY REQUIREMENTS FOR AUTHORISED PERSONS ENGAGED IN REGULATED ACTIVITIES IN RELATION TO VIRTUAL ASSETS\\nKey considerations for AML/CFT compliance\\nPrinciple 4: Governance, Systems and Controls\\nFollowing the development of the Virtual Asset Compliance Policy, Authorised Persons’ compliance officers are expected to establish a “Virtual Asset compliance monitoring program”, requiring internal reviews to be conducted in an efficient way, and on a periodic basis.\\n\\nu)\\tREGULATORY REQUIREMENTS FOR AUTHORISED PERSONS ENGAGED IN REGULATED ACTIVITIES IN RELATION TO VIRTUAL ASSETS\\nKey considerations for AML/CFT compliance\\nPrinciple 4: Governance, Systems and Controls\\nAuthorised Persons must appoint a Money Laundering Reporting Officer (“MLRO”) who will be responsible for the implementation and oversight of the Authorised Person’s compliance with the AML Rules.  Consistent with the FSRA’s expectation in relation to all other Authorised Persons, an MLRO should have an appropriate level of seniority and independence in order to be effective in the role.\\n\\nv)\\tREGULATORY REQUIREMENTS FOR AUTHORISED PERSONS ENGAGED IN REGULATED ACTIVITIES IN RELATION TO VIRTUAL ASSETS\\nKey considerations for AML/CFT compliance\\nPrinciple 5: Suspicious Activity Reporting obligations\\nAuthorised Persons should familiarise themselves with their reporting obligations under the AML Rules, in particular in relation to the reporting of suspicious activities/transactions.\\n\\nw)\\tREGULATORY REQUIREMENTS FOR AUTHORISED PERSONS ENGAGED IN REGULATED ACTIVITIES IN RELATION TO VIRTUAL ASSETS\\nKey considerations for AML/CFT compliance\\nPrinciple 5: Suspicious Activity Reporting obligations\\nPrior to commencing operations, the FSRA expects Authorised Persons to establish online connectivity with the UAE’s Financial Intelligence Unit for the purposes of submitting Suspicious Activity Reports (“SARs”). Instructions on how to do this can be found on the FSRA’s FCPU webpage.\\n\\nx)\\tREGULATORY REQUIREMENTS FOR AUTHORISED PERSONS ENGAGED IN REGULATED ACTIVITIES IN RELATION TO VIRTUAL ASSETS\\nKey considerations for AML/CFT compliance\\nPrinciple 5: Suspicious Activity Reporting obligations\\nAuthorised Persons are required to establish sophisticated transaction monitoring systems to detect possible ML and TF activities. Systems should also be implemented to effectively identify any attempt to breach domestic and international sanctions. Such systems may rely on new technological solutions (including monitoring algorithms or Artificial Intelligence (“AI”)).\\n\\ny)\\tREGULATORY REQUIREMENTS FOR AUTHORISED PERSONS ENGAGED IN REGULATED ACTIVITIES IN RELATION TO VIRTUAL ASSETS\\nKey considerations for AML/CFT compliance\\nPrinciple 6: Record keeping\\nAs proper documentation is one of the main pillars of ensuring AML/CFT compliance, Authorised Persons are required to have policies and procedures in place to ensure proper record keeping practices. It is expected that an Authorised Person will maintain up to date records in accordance with the CDD obligations applicable to it and be prepared to provide the records upon request from the FSRA.\\n\\nz)\\tREGULATORY REQUIREMENTS FOR AUTHORISED PERSONS ENGAGED IN REGULATED ACTIVITIES IN RELATION TO VIRTUAL ASSETS\\nKey considerations for AML/CFT compliance\\nPrinciple 6: Record keeping\\nThe FSRA understands that the transaction recording of many Virtual Asset transactions is linked to, or based on, DLT. This requires an Authorised Person to implement specific arrangements to ensure that, at a minimum, the Authorised Person and the FSRA have access to all relevant information as necessary. An Authorised Person may use a distributed ledger to store its data, provided it is able to provide this data, in an easily accessible format, to the FSRA when required.\\n\\naa)\\tREGULATORY REQUIREMENTS FOR AUTHORISED PERSONS ENGAGED IN REGULATED ACTIVITIES IN RELATION TO VIRTUAL ASSETS\\nKey considerations for AML/CFT compliance\\nPrinciple 6: Record keeping\\nThe FSRA views Virtual Asset activities that are linked to cash transactions as posing higher ML and TF risks, due to the source of funding being significantly more difficult to determine. Authorised Persons wishing to conduct cash transactions will be required to implement enhanced controls to mitigate the inherent risks of such transactions. Such controls may include, among other things, setting appropriate limits on cash deposits (e.g., daily, monthly, yearly limits), a prohibition on receiving cash directly, prohibitions on the receipt of cash other than from bank accounts, and prohibitions on receiving funds from third parties. In all cases, Authorised Persons will need to clearly demonstrate to the FSRA how their controls suitably mitigate the risks of cash transactions within their operations. Considering the wider consumer protection implications, the FSRA also considers it unlikely to be appropriate for Authorised Persons to accept deposits by way of credit card or credit facilities/credit lines.\\n\\nbb)\\tREGULATORY REQUIREMENTS FOR AUTHORISED PERSONS ENGAGED IN REGULATED ACTIVITIES IN RELATION TO VIRTUAL ASSETS\\nKey considerations for AML/CFT compliance\\nPrinciple 6: Record keeping\\nFSRA expects all Authorised Persons to exercise due care, to the utmost extent possible, in their day-to-day operations and when dealing with Clients or potential Clients.  An Authorised Person’s activities are expected to be in compliance with the AML Rules, ensuring that their activities do not pose a regulatory risk or reputational damage to the ADGM Financial System.\\n'},\n",
       " {'QuestionID': '0083176b-36bd-4a0b-b891-ba348b814227',\n",
       "  'RetrievedPassages': ['We may require any person subject to our Rules to provide us with a report from a Skilled Person on specified matters, in circumstances where (amongst other things):\\n(a)\\twe have concerns about the adequacy of systems and controls (such as compliance, internal audit, anti-money laundering, risk management and record keeping);\\n(b)\\twe seek verification of information submitted by it; or\\n(c)\\twe require remedial action to ensure the firm or Recognised Body complies with legislation administered by us.'],\n",
       "  'Answer': 'Compliance risk . The Senior Executive Officer of a firm is expected to take full responsibility for ensuring compliance with ADGM legislation by establishing a strong compliance culture which is fully embedded within the organisation. A start-up will be required to appoint a U.A.E. resident as the senior executive officer as well as the compliance officer and money laundering reporting officer (MLRO) with the requisite skills and relevant experience in compliance and anti-money laundering duties. The individuals fulfilling the compliance and MLRO roles will be expected to demonstrate to us their competence to perform the proposed roles and adequate knowledge of the relevant sections of ADGM legislation and, in the case of the MLRO, the wider anti-money laundering legislation.\\n\\n\\nINTERACTION OF CHAPTER 12 WITH OTHER RULE DISCLOSURE OBLIGATIONS.\\nOffers, and Admission to FSRA Official List of Securities\\nIn effect, the FSRA sees the ability of a Petroleum Reporting Entity to raise capital within ADGM and ensure ongoing compliance with the Rules as part of an over-arching set of regulatory requirements.  The following circumstances, therefore, are important to note:\\n\\na)\\tIf an Issuer was seeking to make a Prospectus Offer within ADGM, but was not seeking to be listed and traded within ADGM, then depending on where the listing and trading is to occur, the FSRA may not view the entity as having the required ‘investor protection’ and ‘disclosure’ protections in place, and therefore may not be in a position to form a view that it can approve the Prospectus under Rule 4.6.2.  In such circumstance, it may be the FSRA’s general view that the Issuer (or relevant entity) should also seek admission to the Official List of Securities and admission to trading on an RIE;\\n\\nb)\\tIf an issuer was seeking to make a prospectus offer outside ADGM, and then seeking to be listed and traded within ADGM, then depending on where the listing and trading was to occur the FSRA may not view the issuer as having made an offer of securities that is equivalent to those made under and in compliance with the requirements of the Rules.  The FSRA may, therefore, also form a view that it is not in a position to approve an admission to the Official List of Securities (under section 50(2) of FSMR) due to the offer having adequate ‘investor protection’ and ‘disclosure’ protections in place.  In such circumstance, it may be the FSRA’s general view that the Issuer (or relevant entity) should also make a Prospectus Offer within ADGM as well;\\n\\nc)\\tIf an Issuer was seeking to make a Prospectus Offer within ADGM and in another ‘equivalent’ jurisdiction,  but not seeking to be listed and traded within ADGM, the FSRA may be in a position to consider that the required ‘investor protection’ and ‘disclosure’ protections are in place, and form a view that it can approve the Prospectus under Rule 4.6.2;\\n\\nd)\\tIf an Issuer was seeking to make a Prospectus Offer within ADGM and outside ADGM (into an ‘equivalent jurisdiction’ ), as well as seeking admission to the Official List of Securities and admission to trading on an RIE (on a primary listing, dual-listing, or secondary listing basis), the FSRA may be in a position to consider that the required ‘investor protection’ and ‘disclosure’ protections are in place, and form a view that it can approve the Prospectus under Rule 4.6.2 and approve an admission to the Official List of Securities (under section 50(2) of FSMR).\\n'},\n",
       " {'QuestionID': '0090be4b-b92a-4c48-a8d2-4d06861f9844',\n",
       "  'RetrievedPassages': ['Non-submission of ESG disclosures by in-scope companies\\n\\nThe ESG Disclosures Framework offers flexibility through its ‘comply or explain’ approach, which is designed to encourage companies to develop governance processes and practices that are the most suitable for their particular circumstances and to report them in a meaningful way.\\n\\nWhile the Registrar expects all in-scope companies to submit ESG disclosures, it is acknowledged that it may take time for such companies to develop necessary systems and controls.  The Registrar encourages companies to embrace the flexibility offered by the ESG Disclosures Framework, consider their circumstances carefully and choose what is best for them, while clearly explaining any determination not to make ESG disclosures.\\n\\nWhen informing the Registrar of its decision not to submit ESG disclosures in accordance with subsection 399B(5) of the CR, a company should submit correspondence to monitoring@adgm.com, including a description of the reasons for its determination.\\n'],\n",
       "  'Answer': 'Purpose of the ESG Disclosures Framework\\n\\nThe RA’s ESG Disclosures Framework seeks to encourage good practice by ADGM companies in disclosing applicable information on ESG factors in line with a globally recognised disclosures standard.\\n\\nThe ESG Disclosures Framework may be applied by all ADGM entities on a voluntary basis.  For in-scope ADGM companies – being ADGM companies meeting one or more of the Threshold Conditions - the RA has adopted a flexible ‘comply or explain’ approach to applicable disclosures.  In doing so, ADGM wishes to foster an ecosystem of companies which seek to help play a part in meeting the UAE’s net zero by 2050 strategic initiative by disclosing the impact of their company’s operations on ESG factors.\\n\\nThe RA will monitor whether the ‘comply or explain’ approach is effective in achieving the stated outcomes of the ESG Disclosures Framework.  In the future, the RA may decide to impose a mandatory ESG disclosures framework for in-scope entities. Nothing in this Guidance should be interpreted as an assurance that the ‘comply or explain’ approach will continue in the future.\\n\\n\\n\\nNon-submission of ESG disclosures by in-scope companies\\n\\nThe ESG Disclosures Framework offers flexibility through its ‘comply or explain’ approach, which is designed to encourage companies to develop governance processes and practices that are the most suitable for their particular circumstances and to report them in a meaningful way.\\n\\nWhile the Registrar expects all in-scope companies to submit ESG disclosures, it is acknowledged that it may take time for such companies to develop necessary systems and controls.  The Registrar encourages companies to embrace the flexibility offered by the ESG Disclosures Framework, consider their circumstances carefully and choose what is best for them, while clearly explaining any determination not to make ESG disclosures.\\n\\nWhen informing the Registrar of its decision not to submit ESG disclosures in accordance with subsection 399B(5) of the CR, a company should submit correspondence to monitoring@adgm.com, including a description of the reasons for its determination.\\n'},\n",
       " {'QuestionID': '00ab4161-28d0-4be8-b964-c6f68c650ca5',\n",
       "  'RetrievedPassages': [\"A Recognised Body must provide all relevant information to the Regulator concerning:\\n(a)\\tthe constitution, Regulatory Provisions and practices of the Recognised Body;\\n(b)\\tthe nature (including complexity, diversity and risk) and scale of the Recognised Body's business;\\n(c)\\tthe size and nature of the market which is supported by the Recognised Body's facilities;\\n(d)\\tthe nature and status of the types of investor who use the Recognised Body's facilities or have an interest in the market supported by the Recognised Body’s facilities;\\n(e)\\tcompetition in the markets for services provided, or proposed to be provided, by the Recognised Body in its capacity as such; and\\n(f)\\tthe nature and scale of the risks to the Regulator's objectives associated with the matters described in \\u200e(a) to \\u200e(e).\",\n",
       "   'Key Individuals. A Recognised Body must, for the purposes of the proper discharge of its Regulatory Functions, appoint the following Key Individuals, where deemed necessary and required by the Regulator, ensuring that they are held by one or more individuals at all times:\\n(a)\\tMembers of the Governing Body;\\n(b)\\tSenior Executive Officer;\\n(c)\\tFinance Officer;\\n(d)\\tChief Operating Officer;\\n(e)\\tChief Technology Officer;\\n(f)\\tChief Information Security Officer;\\n(g)\\tHead of Market Supervision;\\n(h)\\tChief Compliance Officer\\n(i)\\tMoney Laundering Reporting Officer; and\\n(j)\\tChief Risk Officer.',\n",
       "   'The Recognised Body must appropriately consider, and make a reasonable determination, as to what other functions within its business are deemed Regulatory Functions, requiring the appointment of a Key Individual to head such function.  The Regulator may also make its own determination as to whether any other function in the Recognised Body should be deemed a Regulatory Function, requiring the appointment of a Key Individual to head such function.'],\n",
       "  'Answer': 'The Recognised Body must appropriately consider, and make a reasonable determination, as to what other functions within its business are deemed Regulatory Functions, requiring the appointment of a Key Individual to head such function.  The Regulator may also make its own determination as to whether any other function in the Recognised Body should be deemed a Regulatory Function, requiring the appointment of a Key Individual to head such function.\\n\\n\\nA Recognised Body should have systems for identifying, and drawing to the attention of its Senior Management and Governing Body, situations where its commercial interests conflict, or may potentially conflict, with the proper performance of its Regulatory Functions.  This would enable the Recognised Body to take appropriate steps to ensure that such conflicts do not adversely affect the proper performance by the Recognised Body of its Regulatory Functions. In particular, the Recognised Body should ensure that adequate human, financial and other resources (both in terms of quantity and quality) are provided for risk management, regulatory supervision, compliance and other similar functions.'},\n",
       " {'QuestionID': '010b81f5-e910-4ebb-97bb-6ed770877878',\n",
       "  'RetrievedPassages': ['The Regulator may by Rules prescribe –\\n(a)\\tthe requirements applicable to an Authorised Person conducting a Regulated Activity in relation to Virtual Assets or Spot Commodities;\\n(b)\\tthe requirements and factors that, in the opinion of the Regulator, are to be taken into account in determining whether or not:\\n(i)\\ta Virtual Asset meets the requirements to be considered an Accepted Virtual Asset; or\\n(ii)\\ta Spot Commodity meets the requirements to be considered an Accepted Spot Commodity; and\\n(c)\\tsuch additional requirements as the Regulator considers appropriate that an Authorised Person conducting a Regulated Activity in relation to Virtual Assets or Spot Commodities must comply with, including any requirements imposed under the Rules made under these Regulations.'],\n",
       "  'Answer': 'The Regulator may by Rules prescribe –\\n(a)\\tthe requirements applicable to an Authorised Person conducting a Regulated Activity in relation to Virtual Assets or Spot Commodities;\\n(b)\\tthe requirements and factors that, in the opinion of the Regulator, are to be taken into account in determining whether or not:\\n(i)\\ta Virtual Asset meets the requirements to be considered an Accepted Virtual Asset; or\\n(ii)\\ta Spot Commodity meets the requirements to be considered an Accepted Spot Commodity; and\\n(c)\\tsuch additional requirements as the Regulator considers appropriate that an Authorised Person conducting a Regulated Activity in relation to Virtual Assets or Spot Commodities must comply with, including any requirements imposed under the Rules made under these Regulations.\\n\\nWithout limiting the generality of its powers to issue Directions, the Regulator may, by written notice—\\n(a)\\texclude the application of any requirement imposed by the Rules upon an Authorised Person conducting a Regulated Activity in relation to Virtual Assets or Spot Commodities;\\n(b)\\timpose on an Authorised Person conducting a Regulated Activity in relation to Virtual Assets or Spot Commodities any additional obligations that the Regulator considers appropriate;\\n(c)\\trequire an Authorised Person conducting a Regulated Activity in relation to Virtual Assets or Spot Commodities to take such action as is specified by the Regulator; or\\n(d)\\trequire an Authorised Person Operating a Multilateral Trading Facility that admits Accepted Virtual Assets or Accepted Spot Commodities to trading to obtain a Recognition Order to become a Recognised Investment Exchange under section 121 of these Regulations;\\nwhere the Regulator is satisfied that it is in the interests of the Abu Dhabi Global Market to do so and on such terms and conditions as the Regulator considers appropriate.'},\n",
       " {'QuestionID': '010be7f5-8ec1-4d65-9626-d2912918abbf',\n",
       "  'RetrievedPassages': [\"Each Authorised Person must, subject to \\u200e(2), upon request by any Person, provide a copy of its most recent audited financial statements, together with the Financial Statement Auditor's Report to the Person. If the copy is made available in printed form, the Authorised Person may make a charge to cover reasonable costs incurred in providing the copy.\",\n",
       "   \"An Authorised Person or Recognised Body must ensure that, in procuring the production of a Regulatory Returns Auditor's Report for a Branch, an Auditor states whether:\\n(1)\\tthe Authorised Person or Recognised Body's Regulatory Returns have been properly reconciled with the Branch's financial statements; and\\n(2)\\tin the case of an Authorised Person only:\\n(a)\\tthe Regulatory Returns specified in PRU or PIN have been properly prepared by the Authorised Person in accordance with the applicable rules in PRU or PIN; and\\n(b)\\tthe Authorised Person has kept proper Accounting Records in accordance with the applicable Rules in PRU or PIN.\\n\"],\n",
       "  'Answer': \"Each Authorised Person must, subject to \\u200e(2), upon request by any Person, provide a copy of its most recent audited financial statements, together with the Financial Statement Auditor's Report to the Person. If the copy is made available in printed form, the Authorised Person may make a charge to cover reasonable costs incurred in providing the copy.\\n\\nA Reporting Entity must:\\n(a)\\tprepare such report:\\n(i)\\tfor the first six months of each financial year or period, and if there is a change to the accounting reference date, prepare such report in respect of the period up to the old accounting reference date; and\\n(ii)\\tin accordance with the applicable IFRS standards or other standards acceptable to the Regulator;\\n(b)\\tensure the financial statements have either been audited or reviewed by auditors, and the audit or review by the auditor is included within the report; and\\n(c)\\tensure that the report includes:\\n(i)\\texcept in the case of a Mining Exploration Reporting Entity or a Petroleum Exploration Reporting Entity, an indication of important events that have occurred during the first six months of the financial year, and their impact on the financial statements;\\n(ii)\\texcept in the case of a Mining Exploration Reporting Entity or a Petroleum Exploration Reporting Entity, a description of the principal risks and uncertainties for the remaining six months of the financial year; and\\n(iii)\\ta condensed set of financial statements, an interim management report and associated responsibility statements.\"},\n",
       " {'QuestionID': '010d333e-7b3b-4e47-a60c-dfd37522ec38',\n",
       "  'RetrievedPassages': ['The purpose of the Definitive Valuation is to—\\n(a)\\tensure that—\\n(i)\\tin the case of an In-Scope Entity that is not an ADGM Branch, the full extent of any losses on the assets of the In-Scope Entity is recognised in the accounting records of the In-Scope Entity;\\n(ii)\\tin the case of an ADGM Branch, the full extent of any losses on the property and rights of the Non-ADGM Institution which formed part of the Business of the ADGM Branch is recognised in the accounting records of the Non-ADGM Institution; and\\n(b)\\tinform a decision by the Regulator as to whether—\\n(i)\\tadditional consideration should be paid by a purchaser for any property, rights, liabilities or Shares transferred under a Sale of Business Tool; or\\n(ii)\\tto increase or reinstate any liability which has been reduced or cancelled by a Resolution Order.'],\n",
       "  'Answer': 'The purpose of the Definitive Valuation is to—\\n(a)\\tensure that—\\n(i)\\tin the case of an In-Scope Entity that is not an ADGM Branch, the full extent of any losses on the assets of the In-Scope Entity is recognised in the accounting records of the In-Scope Entity;\\n(ii)\\tin the case of an ADGM Branch, the full extent of any losses on the property and rights of the Non-ADGM Institution which formed part of the Business of the ADGM Branch is recognised in the accounting records of the Non-ADGM Institution; and\\n(b)\\tinform a decision by the Regulator as to whether—\\n(i)\\tadditional consideration should be paid by a purchaser for any property, rights, liabilities or Shares transferred under a Sale of Business Tool; or\\n(ii)\\tto increase or reinstate any liability which has been reduced or cancelled by a Resolution Order.\\n\\nWhere a Definitive Valuation produces a higher valuation of the net asset value of an In-Scope Entity than the Provisional Valuation, the Regulator may—\\n(a)\\tinstruct a purchaser to pay additional consideration for any rights, assets, liabilities or Shares transferred under the Sale of Business Tool; or\\n(b)\\tmodify any liability of—\\n(i)\\tin the case of an In-Scope Entity that is not an ADGM Branch, the In-Scope Entity; and\\n(ii)\\tin the case of an ADGM Branch, the Non-ADGM Institution,\\nwhich has been reduced, deferred or cancelled pursuant to the Write Down or Conversion Power or a Resolution Order so as to increase or reinstate that liability.'},\n",
       " {'QuestionID': '011098d7-6499-4c6a-9a9b-cd0df878cc5d',\n",
       "  'RetrievedPassages': ['\\nThis section prescribes the type of Offer of Securities that is an Exempt Offer. Pursuant to section 58(1) of FSMR, a Person may make an Offer of Securities in the circumstances specified in this Rule without a Prospectus.'],\n",
       "  'Answer': 'REGULATORY TREATMENT OF DIGITAL SECURITIES\\nTo use its powers under Section 58(2)(b), the FSRA expects that an Issuer will provide to it such information as is required to demonstrate that the proposed Digital Security meets the requirements of a “Security” (as defined in FSMR). In circumstances:\\n\\na)\\trequiring the submission of an Approved Prospectus to the FSRA, the FSRA will use the documentation submitted as part of this approval process to determine whether it will deem a Digital Security a Security under Section 58(2)(b) of FSMR; or\\n\\nb)\\trelating to an Exempt Offer, the FSRA will review the Exempt Offer documentation for the purposes of being able to make a determination under Section 58(2)(b).  The FSRA’s review will not be for the purposes of approving the Exempt Offer itself.\\n\\n\\n\\nThis section prescribes the type of Offer that is an Exempt Offer. The prohibition in section 58(1) of the FSMR does not apply to such Offers. Accordingly, a Person may make an Offer of Securities to the Public in the circumstances specified in this Rule without a Prospectus.\\n4.3.1 \\tFor the purposes of section 61(3)(a) of the FSMR the Regulator hereby prescribes the circumstances in which an Offer is an Exempt Offer:\\n(1)\\tan Offer made to or directed at only Professional Clients;\\n(2)\\tan Offer in or from the ADGM which is directed at no more than 50 Persons in any 12 month period, excluding Professional Clients who are not natural persons;\\n(3)\\tan Offer where the total consideration to be paid by a Person to acquire the Securities is at least $100,000, or an equivalent amount in another currency;\\n(4)\\tan Offer where the Securities are denominated in amounts of at least $100,000, or an equivalent amount in another currency;\\n(5)\\tan Offer where the total aggregate consideration for the Securities offered is less than $100,000, or an equivalent amount in another currency, calculated over a period of 12 months;\\n(6)\\tan Offer where Shares are issued in substitution for Shares of the same class as already issued, where the issue of the new Shares does not involve any increase in the issued Share capital;\\n(7)\\tan Offer where the Securities are Convertibles issued under a Prospectus to existing members or creditors of the Issuer or a member of its Group and there is no additional consideration to be paid;\\n(8)\\tan Offer where the Securities are offered in connection with a Takeover and a document is made available containing information which is considered by the Regulator as being equivalent to that of a Prospectus;\\n(9)\\tan Offer where the Securities are offered, allotted or to be allotted in connection with a merger if a document is available containing information which is regarded by the Regulator as being equivalent to that of a Prospectus;\\n(10)\\tan Offer where the Securities are offered, allotted or to be allotted in connection with a rights issue where:\\n(a)\\tthe Securities are of a class subject to Reporting Entity disclosure; and\\n(b)\\ta document is made available containing information on the number and nature of the Securities including rights attaching to those Securities and the reasons for and details of the Offer;\\n(11)\\tan Offer where the Shares are offered, allotted or to be allotted to existing Shareholders free of charge or dividends paid out in the form of Shares of the same class as the Shares in respect of which the dividends are paid, and a document is made available containing information on the number and nature of the Shares and the reasons for and details of the Offer;\\n(12)\\tan Offer where the Securities are offered, allotted or to be allotted to an existing or former Director or Employee, or any Close Relative of such a Director or Employee, of the Issuer or a member of the same Group as the Issuer and\\n(a)\\tthe Issuer or the member of the Group already has its Securities admitted to trading on a Regulated Exchange; and\\n(b)\\ta document is made available to the offerees containing information on the number and nature of the Securities and the reasons for and details of the Offer; or\\n(13)\\tan Offer in or from the ADGM which is directed at no more than 200 Persons that are not Professional Clients or Market Counterparties, in circumstances where the Securities are, or have been, offered within a Private Financing Platform or via a Multilateral Trading Facility\\n4.3.2 \\tWhere any Securities, which were previously the subject of an Exempt Offer, are subsequently offered to the public, such a subsequent Offer will be regarded, for the purposes of Part 6 of the FSMR and the Rules made for the purposes of that Part, as a separate and new Offer of Securities to the Public, unless that Offer meets one of the criteria in Rule 4.3.1.\\n4.3.3\\t(1)\\tSubject to (2), an Offer of Securities remains an Exempt Offer even if the Offer falls in whole or part within more than one of the circumstances specified in Rule 4.3.1, as long as all of the Offer falls within at least one of those circumstances.\\n(2)\\tAn Issuer must not aggregate the limits contained in Rule 4.3.1(2) and Rule 4.3.1(13) when making an Exempt Offer.\\n4.3.4\\tA Person making an Exempt Offer must ensure that an exempt offer statement is included in the Exempt Offer Document. An exempt offer statement must contain the following statement displayed prominently on its front page:\\n…\\n4.3.5\\tPursuant to an Exempt Offer under Rule 4.3.1(13), the Issuer must provide a Product Summary Note to investors in accordance with the following requirements:\\n(1)\\tThe Product Summary Note must:\\n(a)\\thighlight key information in the Offer document to investors;\\n(b)\\tclearly disclose required information in the format as set out in APP 7;\\n(c)\\tgive a fair and balanced view of the nature, material benefits and material risks of the Securities offered;\\n(d)\\tnot contain any statement or information that is false or misleading in the form and context in which it is included;\\n(e)\\tbe given together with the Offer document to investors. If the Issuer makes the Offer document available online, the Product Summary Note must be made available online together with the Offer document;\\n(f)\\tnot contain any information that is not contained in the Offer document;\\n(g)\\tnot contain any Inside Information that differs in any material particular from that set out in the Offer document; and\\n(h)\\tnot omit any information from any part of the Product Summary Note which would result in that part of the Product Summary Note being construed as false or misleading.\\n(2)\\tThe Product Summary Note shall contain the prominent disclaimer set out in Rule 4.3.4 in bold, on its front.\\n(3)\\tThe Issuer must give notice the Regulator of its intention to provide a Product Summary Note at least ten Business Days prior to the Exempt Offer, in such form as the Regulator may prescribe.\\n(4)\\tWhen the Issuer makes any change to the Offer document, the Product Summary Note must be updated if the change has a material effect on the key information of the Securities offered.\\n(5)\\tIssuers must ensure there is clear naming of the Securities offered. The name of the Securities must be descriptive of the nature of the Securities offered. It must not give investors a misleading view of the true nature and risks of the Securities offered.'}]"
      ]
     },
     "execution_count": 13,
     "metadata": {},
     "output_type": "execute_result"
    }
   ],
   "source": [
    "test_data = []\n",
    "\n",
    "for index, row in ret_df_grouped.iterrows():\n",
    "    test_data.append({\n",
    "        \"QuestionID\": row['QuestionID'],\n",
    "        \"RetrievedPassages\": [element[\"Passage\"] for element in row['GroundTruth']],\n",
    "        \"Answer\": \"\\n\\n\".join([element[\"Passage\"] for element in row['Passage']])\n",
    "    })\n",
    "\n",
    "test_data[:10]"
   ]
  },
  {
   "cell_type": "code",
   "execution_count": null,
   "metadata": {},
   "outputs": [
    {
     "name": "stdout",
     "output_type": "stream",
     "text": [
      "\n",
      "Average Entailment Score: 0.3921376288659794\n",
      "Average Contradiction Score: 0.1243821207658321\n",
      "Average Obligation Coverage Score: 0.6000736377025038\n",
      "Average Final Composite Score: 0.6226098085419736\n"
     ]
    },
    {
     "ename": "",
     "evalue": "",
     "output_type": "error",
     "traceback": [
      "\u001b[1;31mThe Kernel crashed while executing code in the current cell or a previous cell. \n",
      "\u001b[1;31mPlease review the code in the cell(s) to identify a possible cause of the failure. \n",
      "\u001b[1;31mClick <a href='https://aka.ms/vscodeJupyterKernelCrash'>here</a> for more info. \n",
      "\u001b[1;31mView Jupyter <a href='command:jupyter.viewOutput'>log</a> for further details."
     ]
    }
   ],
   "source": [
    "result_file_name = \"results-concat-bm25-top2-2newline\"\n",
    "\n",
    "run_eval(test_data, result_file_name)"
   ]
  },
  {
   "cell_type": "markdown",
   "metadata": {},
   "source": [
    "### BGE-EN-ICL 5 shot single passages"
   ]
  },
  {
   "cell_type": "code",
   "execution_count": 44,
   "metadata": {},
   "outputs": [
    {
     "data": {
      "text/html": [
       "<div>\n",
       "<style scoped>\n",
       "    .dataframe tbody tr th:only-of-type {\n",
       "        vertical-align: middle;\n",
       "    }\n",
       "\n",
       "    .dataframe tbody tr th {\n",
       "        vertical-align: top;\n",
       "    }\n",
       "\n",
       "    .dataframe thead th {\n",
       "        text-align: right;\n",
       "    }\n",
       "</style>\n",
       "<table border=\"1\" class=\"dataframe\">\n",
       "  <thead>\n",
       "    <tr style=\"text-align: right;\">\n",
       "      <th></th>\n",
       "      <th>QuestionID</th>\n",
       "      <th>IterId</th>\n",
       "      <th>PassageId</th>\n",
       "      <th>RetrievalPos</th>\n",
       "      <th>Score</th>\n",
       "      <th>ModelType</th>\n",
       "    </tr>\n",
       "  </thead>\n",
       "  <tbody>\n",
       "    <tr>\n",
       "      <th>0</th>\n",
       "      <td>777e7a14-fea3-4c37-a0e6-9ffb50024d5c</td>\n",
       "      <td>0</td>\n",
       "      <td>b626aec6-0610-4ad3-91e3-19f401aa3295</td>\n",
       "      <td>1</td>\n",
       "      <td>10</td>\n",
       "      <td>bge-en-icl</td>\n",
       "    </tr>\n",
       "    <tr>\n",
       "      <th>1</th>\n",
       "      <td>777e7a14-fea3-4c37-a0e6-9ffb50024d5c</td>\n",
       "      <td>0</td>\n",
       "      <td>91cd8922-2b83-43f1-b258-40ea02eecce8</td>\n",
       "      <td>2</td>\n",
       "      <td>10</td>\n",
       "      <td>bge-en-icl</td>\n",
       "    </tr>\n",
       "    <tr>\n",
       "      <th>2</th>\n",
       "      <td>777e7a14-fea3-4c37-a0e6-9ffb50024d5c</td>\n",
       "      <td>0</td>\n",
       "      <td>4d0bf908-0c5b-44b5-b7c6-29de0659158f</td>\n",
       "      <td>3</td>\n",
       "      <td>10</td>\n",
       "      <td>bge-en-icl</td>\n",
       "    </tr>\n",
       "    <tr>\n",
       "      <th>3</th>\n",
       "      <td>777e7a14-fea3-4c37-a0e6-9ffb50024d5c</td>\n",
       "      <td>0</td>\n",
       "      <td>cb2b9e90-74f0-4f59-8727-0596db814a53</td>\n",
       "      <td>4</td>\n",
       "      <td>10</td>\n",
       "      <td>bge-en-icl</td>\n",
       "    </tr>\n",
       "    <tr>\n",
       "      <th>4</th>\n",
       "      <td>777e7a14-fea3-4c37-a0e6-9ffb50024d5c</td>\n",
       "      <td>0</td>\n",
       "      <td>ca75fba7-00e1-4256-84b4-2d78c322102f</td>\n",
       "      <td>5</td>\n",
       "      <td>10</td>\n",
       "      <td>bge-en-icl</td>\n",
       "    </tr>\n",
       "    <tr>\n",
       "      <th>...</th>\n",
       "      <td>...</td>\n",
       "      <td>...</td>\n",
       "      <td>...</td>\n",
       "      <td>...</td>\n",
       "      <td>...</td>\n",
       "      <td>...</td>\n",
       "    </tr>\n",
       "    <tr>\n",
       "      <th>278595</th>\n",
       "      <td>235c1a96-e7b2-4812-bd48-4fcc4d4f4202</td>\n",
       "      <td>0</td>\n",
       "      <td>c8afc13a-f574-42ed-be48-f919bcd31e12</td>\n",
       "      <td>96</td>\n",
       "      <td>10</td>\n",
       "      <td>bge-en-icl</td>\n",
       "    </tr>\n",
       "    <tr>\n",
       "      <th>278596</th>\n",
       "      <td>235c1a96-e7b2-4812-bd48-4fcc4d4f4202</td>\n",
       "      <td>0</td>\n",
       "      <td>9eba26da-ae52-47b9-a5fa-fa3aab05752e</td>\n",
       "      <td>97</td>\n",
       "      <td>10</td>\n",
       "      <td>bge-en-icl</td>\n",
       "    </tr>\n",
       "    <tr>\n",
       "      <th>278597</th>\n",
       "      <td>235c1a96-e7b2-4812-bd48-4fcc4d4f4202</td>\n",
       "      <td>0</td>\n",
       "      <td>96e3ea38-01f8-4ddb-9ce7-d89177c97e38</td>\n",
       "      <td>98</td>\n",
       "      <td>10</td>\n",
       "      <td>bge-en-icl</td>\n",
       "    </tr>\n",
       "    <tr>\n",
       "      <th>278598</th>\n",
       "      <td>235c1a96-e7b2-4812-bd48-4fcc4d4f4202</td>\n",
       "      <td>0</td>\n",
       "      <td>441d4e0f-4330-48d0-9488-0775dc0ad3a2</td>\n",
       "      <td>99</td>\n",
       "      <td>10</td>\n",
       "      <td>bge-en-icl</td>\n",
       "    </tr>\n",
       "    <tr>\n",
       "      <th>278599</th>\n",
       "      <td>235c1a96-e7b2-4812-bd48-4fcc4d4f4202</td>\n",
       "      <td>0</td>\n",
       "      <td>93abeb72-be43-4651-af84-e744d0c36ccd</td>\n",
       "      <td>100</td>\n",
       "      <td>10</td>\n",
       "      <td>bge-en-icl</td>\n",
       "    </tr>\n",
       "  </tbody>\n",
       "</table>\n",
       "<p>278600 rows × 6 columns</p>\n",
       "</div>"
      ],
      "text/plain": [
       "                                  QuestionID  IterId  \\\n",
       "0       777e7a14-fea3-4c37-a0e6-9ffb50024d5c       0   \n",
       "1       777e7a14-fea3-4c37-a0e6-9ffb50024d5c       0   \n",
       "2       777e7a14-fea3-4c37-a0e6-9ffb50024d5c       0   \n",
       "3       777e7a14-fea3-4c37-a0e6-9ffb50024d5c       0   \n",
       "4       777e7a14-fea3-4c37-a0e6-9ffb50024d5c       0   \n",
       "...                                      ...     ...   \n",
       "278595  235c1a96-e7b2-4812-bd48-4fcc4d4f4202       0   \n",
       "278596  235c1a96-e7b2-4812-bd48-4fcc4d4f4202       0   \n",
       "278597  235c1a96-e7b2-4812-bd48-4fcc4d4f4202       0   \n",
       "278598  235c1a96-e7b2-4812-bd48-4fcc4d4f4202       0   \n",
       "278599  235c1a96-e7b2-4812-bd48-4fcc4d4f4202       0   \n",
       "\n",
       "                                   PassageId  RetrievalPos  Score   ModelType  \n",
       "0       b626aec6-0610-4ad3-91e3-19f401aa3295             1     10  bge-en-icl  \n",
       "1       91cd8922-2b83-43f1-b258-40ea02eecce8             2     10  bge-en-icl  \n",
       "2       4d0bf908-0c5b-44b5-b7c6-29de0659158f             3     10  bge-en-icl  \n",
       "3       cb2b9e90-74f0-4f59-8727-0596db814a53             4     10  bge-en-icl  \n",
       "4       ca75fba7-00e1-4256-84b4-2d78c322102f             5     10  bge-en-icl  \n",
       "...                                      ...           ...    ...         ...  \n",
       "278595  c8afc13a-f574-42ed-be48-f919bcd31e12            96     10  bge-en-icl  \n",
       "278596  9eba26da-ae52-47b9-a5fa-fa3aab05752e            97     10  bge-en-icl  \n",
       "278597  96e3ea38-01f8-4ddb-9ce7-d89177c97e38            98     10  bge-en-icl  \n",
       "278598  441d4e0f-4330-48d0-9488-0775dc0ad3a2            99     10  bge-en-icl  \n",
       "278599  93abeb72-be43-4651-af84-e744d0c36ccd           100     10  bge-en-icl  \n",
       "\n",
       "[278600 rows x 6 columns]"
      ]
     },
     "execution_count": 44,
     "metadata": {},
     "output_type": "execute_result"
    }
   ],
   "source": [
    "\"\"\"\n",
    "Zero shot examples used - \n",
    "\n",
    "[{'instruct': 'Given a web search query, retrieve relevant passages that answer the query.',\n",
    "  'query': 'What are the expectations of the ADGM regarding the level of access to information about numbered accounts and their holders that must be granted to staff involved in Anti-Money Laundering (AML) and Counter-Terrorist Financing (CTF) functions?',\n",
    "  'response': 'If a Relevant Person uses a numbered account with an abbreviated name, it must ensure that:\\n(a)\\tsuch an account is used only for internal purposes;\\n(b)\\tit has undertaken the same CDD procedures in relation to the account holder as are required for other account holders;\\n(c)\\tit maintains the same information in relation to the account and account holder as is required for other accounts and account holders; and\\n(d)\\tstaff performing AML/TFS functions, including staff responsible for identifying and monitoring transactions for suspicious activity, and staff performing compliance and audit functions, have full access to information about the account and the account holder.'},\n",
    " {'instruct': 'Given a web search query, retrieve relevant passages that answer the query.',\n",
    "  'query': \"What are the ADGM's expectations for stress and scenario testing in liquidity risk management, and how should these tests be documented and reviewed?\",\n",
    "  'response': 'Liquidity risk. A Recognised Clearing House must:\\n(a)\\tdetermine the amount of its minimum liquid resources;\\n(b)\\tmaintain sufficient liquid resources to be able to effect same-day, intra-day or multi-day settlement, as applicable, of its payment obligations with a high degree of confidence under a wide range of potential stress scenarios;\\n(c)\\tensure that all resources held for the purposes of meeting its minimum liquid resource requirement are available when needed;\\n(d)\\thave a well-documented rationale to support the amount and form of total liquid resources it maintains for the purposes of \\u200e(b) and \\u200e(c); and\\n(e)\\thave appropriate arrangements in order to be able to maintain, on an on-going basis, such amount and form of its total liquid resources.'},\n",
    " {'instruct': 'Given a web search query, retrieve relevant passages that answer the query.',\n",
    "  'query': 'Could the FSRA outline the criteria that determine whether an Authorised Person\\'s data processing activities qualify as \"adequate protection\" under the Data Protection Regulations?',\n",
    "  'response': 'SPECIFIC FSRA GUIDANCE ON THE VIRTUAL ASSET FRAMEWORK\\nData protection obligations for Authorised Persons\\nADGM’s data protection regime protects individuals’ right to privacy by controlling how personal information is used by organisations and businesses registered in ADGM.  All entities registered in ADGM that hold or process the personal data of an individual must protect personal data in compliance with the ADGM Data Protection Regulations 2015 (the “Data Protection Regulations”).  Specifically, an Authorised Person, as a data controller, will be responsible for determining the purposes for which, and the manner in which, personal data is processed in compliance with the Data Protection Regulations. Failure to do so risks enforcement action and compensation claims from individuals, each of which are considered data subjects under the Data Protection Regulations.\\n'},\n",
    " {'instruct': 'Given a web search query, retrieve relevant passages that answer the query.',\n",
    "  'query': \"When evaluating a Non Abu Dhabi Global Market Firm's adherence to Threshold Conditions, what types of opinions may the Regulator consider from Non Abu Dhabi Global Market Regulators?\",\n",
    "  'response': 'In determining whether a Non Abu Dhabi Global Market Firm is satisfying or will satisfy, and continue to satisfy, any one or more of the Threshold Conditions, the Regulator may have regard to any opinion notified to it by a Non Abu Dhabi Global Market Regulator which relates to the Non Abu Dhabi Global Market Firm and appears to the Regulator to be relevant to compliance with those conditions.'},\n",
    " {'instruct': 'Given a web search query, retrieve relevant passages that answer the query.',\n",
    "  'query': 'What constitutes \"readily accessible by the market\" for disclosures made outside of the annual report or periodic financial statements?',\n",
    "  'response': 'An Authorised Person may disclose the items marked as quantitative in App12 in a medium or location other than its annual report or periodic financial statements, provided that:\\n(a)\\tit has prior written approval of the Regulator to do so;\\n(b)\\tthe annual report or periodic financial statements contain clear references to the location of such disclosures; and\\n(c)\\tsuch disclosures are readily accessible by the market.'}]\n",
    "\"\"\"\n",
    "ret_df = pd.read_csv(\"regnlp/ObliQADataset/bge-en-icl-5-shot-single-5-rankings-exact-topk-100.trec\", sep=\" \", names=[\"QuestionID\", \"IterId\", \"PassageId\", \"RetrievalPos\", \"Score\", \"ModelType\"])\n",
    "ret_df"
   ]
  },
  {
   "cell_type": "code",
   "execution_count": 45,
   "metadata": {},
   "outputs": [
    {
     "name": "stderr",
     "output_type": "stream",
     "text": [
      "/tmp/ipykernel_24038/1436655948.py:2: SettingWithCopyWarning: \n",
      "A value is trying to be set on a copy of a slice from a DataFrame.\n",
      "Try using .loc[row_indexer,col_indexer] = value instead\n",
      "\n",
      "See the caveats in the documentation: https://pandas.pydata.org/pandas-docs/stable/user_guide/indexing.html#returning-a-view-versus-a-copy\n",
      "  ret_df[\"Passage\"] = ret_df[\"PassageId\"].apply(lambda x: flattened_json_data_dict[x])\n",
      "/tmp/ipykernel_24038/1436655948.py:3: SettingWithCopyWarning: \n",
      "A value is trying to be set on a copy of a slice from a DataFrame.\n",
      "Try using .loc[row_indexer,col_indexer] = value instead\n",
      "\n",
      "See the caveats in the documentation: https://pandas.pydata.org/pandas-docs/stable/user_guide/indexing.html#returning-a-view-versus-a-copy\n",
      "  ret_df[\"Question\"] = ret_df[\"QuestionID\"].apply(lambda x: test_df_index.loc[x][\"Question\"])\n"
     ]
    }
   ],
   "source": [
    "ret_df = ret_df[ret_df[\"RetrievalPos\"] <= 2]\n",
    "ret_df[\"Passage\"] = ret_df[\"PassageId\"].apply(lambda x: flattened_json_data_dict[x])\n",
    "ret_df[\"Question\"] = ret_df[\"QuestionID\"].apply(lambda x: test_df_index.loc[x][\"Question\"])\n",
    "\n",
    "ret_df_grouped = ret_df.groupby([\"QuestionID\", \"Question\"])[\"Passage\"].apply(list).reset_index()\n",
    "ret_df_grouped[\"GroundTruth\"] = ret_df_grouped[\"QuestionID\"].apply(lambda x: test_df_index.loc[x][\"Passages\"])"
   ]
  },
  {
   "cell_type": "code",
   "execution_count": 46,
   "metadata": {},
   "outputs": [
    {
     "data": {
      "text/plain": [
       "[{'QuestionID': '0048b1b6-e739-49dc-91cb-3ec9061276d0',\n",
       "  'RetrievedPassages': ['A Person, referred to in this chapter as an applicant, who intends to carry on the Regulated Activity of Operating a Representative Office must apply to the Regulator for a Financial Services Permission in such form as the Regulator shall prescribe.'],\n",
       "  'Answer': 'An applicant will only be authorised to carry on the Regulated Activity of Operating a Representative Office if the Regulator is satisfied that the applicant is fit and proper to hold a Financial Services Permission. In making this assessment the Regulator may consider:\\n(1)\\twhether the applicant is subject to supervision by a Non-ADGM Financial Services Regulator;\\n(2)\\twhether the applicant’s Non-ADGM Financial Services Regulator in its home state has been made aware of the proposed application and has expressed itself as having no objection to the establishment by the applicant of a Representative Office in the ADGM; and\\n(3)\\tany other relevant matters.\\n\\n\\nA Person, referred to in this chapter as an applicant, who intends to carry on the Regulated Activity of Operating a Representative Office must apply to the Regulator for a Financial Services Permission in such form as the Regulator shall prescribe.'},\n",
       " {'QuestionID': '005042ec-464a-426d-8c61-066360ea73d2',\n",
       "  'RetrievedPassages': [\"For the purposes of determining the net present value of expected future payments in accordance with Rule \\u200e6.10 or \\u200e6.11, a Captive Insurer must use as a discount rate the gross redemption yield of a portfolio of sovereign risk securities which:\\n(a)\\tare AAA-rated by Standard & Poor's (or the equivalent by another Approved Rating Agency); and\\n(b)\\thave a similar expected payment profile to the liability being measured.\\n\"],\n",
       "  'Answer': \"For the purposes of determining the net present value of expected future payments in accordance with Rule \\u200e6.10 or \\u200e6.11, a Captive Insurer must use as a discount rate the gross redemption yield of a portfolio of sovereign risk securities which:\\n(a)\\tare AAA-rated by Standard & Poor's (or the equivalent by another Approved Rating Agency); and\\n(b)\\thave a similar expected payment profile to the liability being measured.\\n\\n\\nFor the purposes of determining the net present value of expected future receipts in accordance with Rule \\u200e6.10.8, a Captive Insurer must use as a discount rate the gross redemption yield of a portfolio of sovereign risk securities which:\\n(a)\\tare AAA-rated by Standard & Poor's (or the equivalent by another Approved Rating Agency); and\\n(b)\\thave a similar expected payment profile to the liability being measured.\"},\n",
       " {'QuestionID': '0076d200-5221-48d7-ad69-84766de8827a',\n",
       "  'RetrievedPassages': ['Principle 2 – High Standards for Authorisation. This discerning approach is shown by the FSRA’s power to only permit VAs that it deems ‘acceptable’, as determined by risk factors such as security and traceability, in order to prevent the build-up of risk from illiquid or immature assets. Additionally, we do not permit stablecoins based on the algorithmic model of valuation to the underlying fiat currency.'],\n",
       "  'Answer': 'Principle 2 – High Standards for Authorisation. This discerning approach is shown by the FSRA’s power to only permit VAs that it deems ‘acceptable’, as determined by risk factors such as security and traceability, in order to prevent the build-up of risk from illiquid or immature assets. Additionally, we do not permit stablecoins based on the algorithmic model of valuation to the underlying fiat currency.\\n\\nFor the purposes of determining whether, in its opinion, a Virtual Asset meets the requirements of being an Accepted Virtual Asset, the Regulator will consider –\\n(a)\\ta maturity/market capitalisation threshold in respect of a Virtual Asset; and\\n(b)\\tother factors that, in the opinion of the Regulator, are to be taken into account in determining whether or not a Virtual Asset meets the requirements to be considered appropriate for the purpose of an Authorised Person conducting a Regulated Activity in relation to Virtual Assets.'},\n",
       " {'QuestionID': '0083176b-36bd-4a0b-b891-ba348b814227',\n",
       "  'RetrievedPassages': ['We may require any person subject to our Rules to provide us with a report from a Skilled Person on specified matters, in circumstances where (amongst other things):\\n(a)\\twe have concerns about the adequacy of systems and controls (such as compliance, internal audit, anti-money laundering, risk management and record keeping);\\n(b)\\twe seek verification of information submitted by it; or\\n(c)\\twe require remedial action to ensure the firm or Recognised Body complies with legislation administered by us.'],\n",
       "  'Answer': 'Compliance risk . The Senior Executive Officer of a firm is expected to take full responsibility for ensuring compliance with ADGM legislation by establishing a strong compliance culture which is fully embedded within the organisation. A start-up will be required to appoint a U.A.E. resident as the senior executive officer as well as the compliance officer and money laundering reporting officer (MLRO) with the requisite skills and relevant experience in compliance and anti-money laundering duties. The individuals fulfilling the compliance and MLRO roles will be expected to demonstrate to us their competence to perform the proposed roles and adequate knowledge of the relevant sections of ADGM legislation and, in the case of the MLRO, the wider anti-money laundering legislation.\\n\\n\\nSPECIFIC FSRA GUIDANCE ON THE SPOT COMMODITIES FRAMEWORK\\nSubstance requirements of Authorised Persons\\nIn order to operate effectively as an Authorised Person within ADGM, an Authorised Person conducting a Regulated Activity in relation to Accepted Spot Commodities must commit resources of a nature allowing it to be operating in substance within ADGM.  Depending on the relevant Regulated Activities being undertaken, the FSRA expects to see substantive resources committed within ADGM across all line of the Authorised Person’s activities, including, but not limited to, commercial, governance, compliance, market surveillance, operations, technical, IT, finance and HR functions.  The FSRA expects the ‘mind and management’ of an Authorised Person to be located within ADGM.\\n'},\n",
       " {'QuestionID': '0090be4b-b92a-4c48-a8d2-4d06861f9844',\n",
       "  'RetrievedPassages': ['Non-submission of ESG disclosures by in-scope companies\\n\\nThe ESG Disclosures Framework offers flexibility through its ‘comply or explain’ approach, which is designed to encourage companies to develop governance processes and practices that are the most suitable for their particular circumstances and to report them in a meaningful way.\\n\\nWhile the Registrar expects all in-scope companies to submit ESG disclosures, it is acknowledged that it may take time for such companies to develop necessary systems and controls.  The Registrar encourages companies to embrace the flexibility offered by the ESG Disclosures Framework, consider their circumstances carefully and choose what is best for them, while clearly explaining any determination not to make ESG disclosures.\\n\\nWhen informing the Registrar of its decision not to submit ESG disclosures in accordance with subsection 399B(5) of the CR, a company should submit correspondence to monitoring@adgm.com, including a description of the reasons for its determination.\\n'],\n",
       "  'Answer': 'Purpose of the ESG Disclosures Framework\\n\\nThe RA’s ESG Disclosures Framework seeks to encourage good practice by ADGM companies in disclosing applicable information on ESG factors in line with a globally recognised disclosures standard.\\n\\nThe ESG Disclosures Framework may be applied by all ADGM entities on a voluntary basis.  For in-scope ADGM companies – being ADGM companies meeting one or more of the Threshold Conditions - the RA has adopted a flexible ‘comply or explain’ approach to applicable disclosures.  In doing so, ADGM wishes to foster an ecosystem of companies which seek to help play a part in meeting the UAE’s net zero by 2050 strategic initiative by disclosing the impact of their company’s operations on ESG factors.\\n\\nThe RA will monitor whether the ‘comply or explain’ approach is effective in achieving the stated outcomes of the ESG Disclosures Framework.  In the future, the RA may decide to impose a mandatory ESG disclosures framework for in-scope entities. Nothing in this Guidance should be interpreted as an assurance that the ‘comply or explain’ approach will continue in the future.\\n\\n\\n\\nNon-submission of ESG disclosures by in-scope companies\\n\\nThe ESG Disclosures Framework offers flexibility through its ‘comply or explain’ approach, which is designed to encourage companies to develop governance processes and practices that are the most suitable for their particular circumstances and to report them in a meaningful way.\\n\\nWhile the Registrar expects all in-scope companies to submit ESG disclosures, it is acknowledged that it may take time for such companies to develop necessary systems and controls.  The Registrar encourages companies to embrace the flexibility offered by the ESG Disclosures Framework, consider their circumstances carefully and choose what is best for them, while clearly explaining any determination not to make ESG disclosures.\\n\\nWhen informing the Registrar of its decision not to submit ESG disclosures in accordance with subsection 399B(5) of the CR, a company should submit correspondence to monitoring@adgm.com, including a description of the reasons for its determination.\\n'},\n",
       " {'QuestionID': '00ab4161-28d0-4be8-b964-c6f68c650ca5',\n",
       "  'RetrievedPassages': [\"A Recognised Body must provide all relevant information to the Regulator concerning:\\n(a)\\tthe constitution, Regulatory Provisions and practices of the Recognised Body;\\n(b)\\tthe nature (including complexity, diversity and risk) and scale of the Recognised Body's business;\\n(c)\\tthe size and nature of the market which is supported by the Recognised Body's facilities;\\n(d)\\tthe nature and status of the types of investor who use the Recognised Body's facilities or have an interest in the market supported by the Recognised Body’s facilities;\\n(e)\\tcompetition in the markets for services provided, or proposed to be provided, by the Recognised Body in its capacity as such; and\\n(f)\\tthe nature and scale of the risks to the Regulator's objectives associated with the matters described in \\u200e(a) to \\u200e(e).\",\n",
       "   'Key Individuals. A Recognised Body must, for the purposes of the proper discharge of its Regulatory Functions, appoint the following Key Individuals, where deemed necessary and required by the Regulator, ensuring that they are held by one or more individuals at all times:\\n(a)\\tMembers of the Governing Body;\\n(b)\\tSenior Executive Officer;\\n(c)\\tFinance Officer;\\n(d)\\tChief Operating Officer;\\n(e)\\tChief Technology Officer;\\n(f)\\tChief Information Security Officer;\\n(g)\\tHead of Market Supervision;\\n(h)\\tChief Compliance Officer\\n(i)\\tMoney Laundering Reporting Officer; and\\n(j)\\tChief Risk Officer.',\n",
       "   'The Recognised Body must appropriately consider, and make a reasonable determination, as to what other functions within its business are deemed Regulatory Functions, requiring the appointment of a Key Individual to head such function.  The Regulator may also make its own determination as to whether any other function in the Recognised Body should be deemed a Regulatory Function, requiring the appointment of a Key Individual to head such function.'],\n",
       "  'Answer': \"The Recognised Body must appropriately consider, and make a reasonable determination, as to what other functions within its business are deemed Regulatory Functions, requiring the appointment of a Key Individual to head such function.  The Regulator may also make its own determination as to whether any other function in the Recognised Body should be deemed a Regulatory Function, requiring the appointment of a Key Individual to head such function.\\n\\nA Recognised Body must ensure that the systems and controls used in the performance of its Regulatory Functions are adequate, and appropriate for the scale and nature of its business. In particular, this applies to systems and controls concerning:\\n(a)\\tthe transmission of information;\\n(b)\\tthe assessment, mitigation and management of risks to the performance of the Recognised Body's Regulatory Functions, including conflicts of interest;\\n(c)\\tthe effecting and monitoring of transactions on the Recognised Body;\\n(d)\\tthe technical operation of the Recognised Body, including contingency arrangements for disruption to its facilities;\\n(e)\\tthe operation of its functions relating to the safeguards and protections to investors;\\n(f)\\t(where relevant) the safeguarding and administration of assets belonging to users of the Recognised Body's facilities; and\\n(g)\\toutsourcing.\"},\n",
       " {'QuestionID': '010b81f5-e910-4ebb-97bb-6ed770877878',\n",
       "  'RetrievedPassages': ['The Regulator may by Rules prescribe –\\n(a)\\tthe requirements applicable to an Authorised Person conducting a Regulated Activity in relation to Virtual Assets or Spot Commodities;\\n(b)\\tthe requirements and factors that, in the opinion of the Regulator, are to be taken into account in determining whether or not:\\n(i)\\ta Virtual Asset meets the requirements to be considered an Accepted Virtual Asset; or\\n(ii)\\ta Spot Commodity meets the requirements to be considered an Accepted Spot Commodity; and\\n(c)\\tsuch additional requirements as the Regulator considers appropriate that an Authorised Person conducting a Regulated Activity in relation to Virtual Assets or Spot Commodities must comply with, including any requirements imposed under the Rules made under these Regulations.'],\n",
       "  'Answer': 'Without limiting the generality of its powers to issue Directions, the Regulator may, by written notice—\\n(a)\\texclude the application of any requirement imposed by the Rules upon an Authorised Person conducting a Regulated Activity in relation to Virtual Assets or Spot Commodities;\\n(b)\\timpose on an Authorised Person conducting a Regulated Activity in relation to Virtual Assets or Spot Commodities any additional obligations that the Regulator considers appropriate;\\n(c)\\trequire an Authorised Person conducting a Regulated Activity in relation to Virtual Assets or Spot Commodities to take such action as is specified by the Regulator; or\\n(d)\\trequire an Authorised Person Operating a Multilateral Trading Facility that admits Accepted Virtual Assets or Accepted Spot Commodities to trading to obtain a Recognition Order to become a Recognised Investment Exchange under section 121 of these Regulations;\\nwhere the Regulator is satisfied that it is in the interests of the Abu Dhabi Global Market to do so and on such terms and conditions as the Regulator considers appropriate.\\n\\nSPECIFIC FSRA GUIDANCE ON THE SPOT COMMODITIES FRAMEWORK\\nSubstance requirements of Authorised Persons\\nIn order to operate effectively as an Authorised Person within ADGM, an Authorised Person conducting a Regulated Activity in relation to Accepted Spot Commodities must commit resources of a nature allowing it to be operating in substance within ADGM.  Depending on the relevant Regulated Activities being undertaken, the FSRA expects to see substantive resources committed within ADGM across all line of the Authorised Person’s activities, including, but not limited to, commercial, governance, compliance, market surveillance, operations, technical, IT, finance and HR functions.  The FSRA expects the ‘mind and management’ of an Authorised Person to be located within ADGM.\\n'},\n",
       " {'QuestionID': '010be7f5-8ec1-4d65-9626-d2912918abbf',\n",
       "  'RetrievedPassages': [\"Each Authorised Person must, subject to \\u200e(2), upon request by any Person, provide a copy of its most recent audited financial statements, together with the Financial Statement Auditor's Report to the Person. If the copy is made available in printed form, the Authorised Person may make a charge to cover reasonable costs incurred in providing the copy.\",\n",
       "   \"An Authorised Person or Recognised Body must ensure that, in procuring the production of a Regulatory Returns Auditor's Report for a Branch, an Auditor states whether:\\n(1)\\tthe Authorised Person or Recognised Body's Regulatory Returns have been properly reconciled with the Branch's financial statements; and\\n(2)\\tin the case of an Authorised Person only:\\n(a)\\tthe Regulatory Returns specified in PRU or PIN have been properly prepared by the Authorised Person in accordance with the applicable rules in PRU or PIN; and\\n(b)\\tthe Authorised Person has kept proper Accounting Records in accordance with the applicable Rules in PRU or PIN.\\n\"],\n",
       "  'Answer': \"Each Authorised Person must, subject to \\u200e(2), upon request by any Person, provide a copy of its most recent audited financial statements, together with the Financial Statement Auditor's Report to the Person. If the copy is made available in printed form, the Authorised Person may make a charge to cover reasonable costs incurred in providing the copy.\\n\\nEach Authorised Person and Recognised Body must, in writing, arrange for and ensure the submission of the following by its Auditor:\\n(1)\\ta Financial Statement Auditor's Report on the Authorised Person or Recognised Body's financial statements in accordance with the International Standards on Auditing following the performance of an audit;\\n(2)\\ta Regulatory Returns Auditor's Report in accordance with the Rules \\u200e6.6.4 and \\u200e6.6.5 as relevant;\\n(3)\\tif the Authorised Person is permitted to control or hold Client Money, a Client Money Auditor's Report in accordance with Rule \\u200e6.6.6;\\n(4)\\tif the Authorised Person is permitted to hold or control Client Investments or Provide Custody in or from the ADGM, a Safe Custody Auditor's Report in respect of such business as applicable, in accordance with the Rule \\u200e6.6.7;\\n(5)\\tif FUNDS is applicable, a Fund Auditor's Report in accordance with Rule \\u200e6.6.8; and\\n(6)\\tif the Authorised Person is a Public Listed Company, a Public Listed Company Auditor's Report in accordance with Rule \\u200e6.6.9.\"},\n",
       " {'QuestionID': '010d333e-7b3b-4e47-a60c-dfd37522ec38',\n",
       "  'RetrievedPassages': ['The purpose of the Definitive Valuation is to—\\n(a)\\tensure that—\\n(i)\\tin the case of an In-Scope Entity that is not an ADGM Branch, the full extent of any losses on the assets of the In-Scope Entity is recognised in the accounting records of the In-Scope Entity;\\n(ii)\\tin the case of an ADGM Branch, the full extent of any losses on the property and rights of the Non-ADGM Institution which formed part of the Business of the ADGM Branch is recognised in the accounting records of the Non-ADGM Institution; and\\n(b)\\tinform a decision by the Regulator as to whether—\\n(i)\\tadditional consideration should be paid by a purchaser for any property, rights, liabilities or Shares transferred under a Sale of Business Tool; or\\n(ii)\\tto increase or reinstate any liability which has been reduced or cancelled by a Resolution Order.'],\n",
       "  'Answer': 'The purpose of the Definitive Valuation is to—\\n(a)\\tensure that—\\n(i)\\tin the case of an In-Scope Entity that is not an ADGM Branch, the full extent of any losses on the assets of the In-Scope Entity is recognised in the accounting records of the In-Scope Entity;\\n(ii)\\tin the case of an ADGM Branch, the full extent of any losses on the property and rights of the Non-ADGM Institution which formed part of the Business of the ADGM Branch is recognised in the accounting records of the Non-ADGM Institution; and\\n(b)\\tinform a decision by the Regulator as to whether—\\n(i)\\tadditional consideration should be paid by a purchaser for any property, rights, liabilities or Shares transferred under a Sale of Business Tool; or\\n(ii)\\tto increase or reinstate any liability which has been reduced or cancelled by a Resolution Order.\\n\\nWhere a Definitive Valuation produces a higher valuation of the net asset value of an In-Scope Entity than the Provisional Valuation, the Regulator may—\\n(a)\\tinstruct a purchaser to pay additional consideration for any rights, assets, liabilities or Shares transferred under the Sale of Business Tool; or\\n(b)\\tmodify any liability of—\\n(i)\\tin the case of an In-Scope Entity that is not an ADGM Branch, the In-Scope Entity; and\\n(ii)\\tin the case of an ADGM Branch, the Non-ADGM Institution,\\nwhich has been reduced, deferred or cancelled pursuant to the Write Down or Conversion Power or a Resolution Order so as to increase or reinstate that liability.'},\n",
       " {'QuestionID': '011098d7-6499-4c6a-9a9b-cd0df878cc5d',\n",
       "  'RetrievedPassages': ['\\nThis section prescribes the type of Offer of Securities that is an Exempt Offer. Pursuant to section 58(1) of FSMR, a Person may make an Offer of Securities in the circumstances specified in this Rule without a Prospectus.'],\n",
       "  'Answer': 'The issue of Securities is not an activity that constitutes a Regulated Activity. Therefore, activities such as the issue of Shares, Debentures (Sukuk) or Warrants do not attract the Regulated Activity prohibitions in FSMR. The Offer of Securities, however, is an activity to which FSMR and the MKT Rulebook apply. Under FSMR, a Person making an Offer of Securities in the ADGM is subject to numerous disclosure requirements, unless exempt.\\n\\n\\nThis section prescribes the type of Offer that is an Exempt Offer. The prohibition in section 58(1) of the FSMR does not apply to such Offers. Accordingly, a Person may make an Offer of Securities to the Public in the circumstances specified in this Rule without a Prospectus.\\n4.3.1 \\tFor the purposes of section 61(3)(a) of the FSMR the Regulator hereby prescribes the circumstances in which an Offer is an Exempt Offer:\\n(1)\\tan Offer made to or directed at only Professional Clients;\\n(2)\\tan Offer in or from the ADGM which is directed at no more than 50 Persons in any 12 month period, excluding Professional Clients who are not natural persons;\\n(3)\\tan Offer where the total consideration to be paid by a Person to acquire the Securities is at least $100,000, or an equivalent amount in another currency;\\n(4)\\tan Offer where the Securities are denominated in amounts of at least $100,000, or an equivalent amount in another currency;\\n(5)\\tan Offer where the total aggregate consideration for the Securities offered is less than $100,000, or an equivalent amount in another currency, calculated over a period of 12 months;\\n(6)\\tan Offer where Shares are issued in substitution for Shares of the same class as already issued, where the issue of the new Shares does not involve any increase in the issued Share capital;\\n(7)\\tan Offer where the Securities are Convertibles issued under a Prospectus to existing members or creditors of the Issuer or a member of its Group and there is no additional consideration to be paid;\\n(8)\\tan Offer where the Securities are offered in connection with a Takeover and a document is made available containing information which is considered by the Regulator as being equivalent to that of a Prospectus;\\n(9)\\tan Offer where the Securities are offered, allotted or to be allotted in connection with a merger if a document is available containing information which is regarded by the Regulator as being equivalent to that of a Prospectus;\\n(10)\\tan Offer where the Securities are offered, allotted or to be allotted in connection with a rights issue where:\\n(a)\\tthe Securities are of a class subject to Reporting Entity disclosure; and\\n(b)\\ta document is made available containing information on the number and nature of the Securities including rights attaching to those Securities and the reasons for and details of the Offer;\\n(11)\\tan Offer where the Shares are offered, allotted or to be allotted to existing Shareholders free of charge or dividends paid out in the form of Shares of the same class as the Shares in respect of which the dividends are paid, and a document is made available containing information on the number and nature of the Shares and the reasons for and details of the Offer;\\n(12)\\tan Offer where the Securities are offered, allotted or to be allotted to an existing or former Director or Employee, or any Close Relative of such a Director or Employee, of the Issuer or a member of the same Group as the Issuer and\\n(a)\\tthe Issuer or the member of the Group already has its Securities admitted to trading on a Regulated Exchange; and\\n(b)\\ta document is made available to the offerees containing information on the number and nature of the Securities and the reasons for and details of the Offer; or\\n(13)\\tan Offer in or from the ADGM which is directed at no more than 200 Persons that are not Professional Clients or Market Counterparties, in circumstances where the Securities are, or have been, offered within a Private Financing Platform or via a Multilateral Trading Facility\\n4.3.2 \\tWhere any Securities, which were previously the subject of an Exempt Offer, are subsequently offered to the public, such a subsequent Offer will be regarded, for the purposes of Part 6 of the FSMR and the Rules made for the purposes of that Part, as a separate and new Offer of Securities to the Public, unless that Offer meets one of the criteria in Rule 4.3.1.\\n4.3.3\\t(1)\\tSubject to (2), an Offer of Securities remains an Exempt Offer even if the Offer falls in whole or part within more than one of the circumstances specified in Rule 4.3.1, as long as all of the Offer falls within at least one of those circumstances.\\n(2)\\tAn Issuer must not aggregate the limits contained in Rule 4.3.1(2) and Rule 4.3.1(13) when making an Exempt Offer.\\n4.3.4\\tA Person making an Exempt Offer must ensure that an exempt offer statement is included in the Exempt Offer Document. An exempt offer statement must contain the following statement displayed prominently on its front page:\\n…\\n4.3.5\\tPursuant to an Exempt Offer under Rule 4.3.1(13), the Issuer must provide a Product Summary Note to investors in accordance with the following requirements:\\n(1)\\tThe Product Summary Note must:\\n(a)\\thighlight key information in the Offer document to investors;\\n(b)\\tclearly disclose required information in the format as set out in APP 7;\\n(c)\\tgive a fair and balanced view of the nature, material benefits and material risks of the Securities offered;\\n(d)\\tnot contain any statement or information that is false or misleading in the form and context in which it is included;\\n(e)\\tbe given together with the Offer document to investors. If the Issuer makes the Offer document available online, the Product Summary Note must be made available online together with the Offer document;\\n(f)\\tnot contain any information that is not contained in the Offer document;\\n(g)\\tnot contain any Inside Information that differs in any material particular from that set out in the Offer document; and\\n(h)\\tnot omit any information from any part of the Product Summary Note which would result in that part of the Product Summary Note being construed as false or misleading.\\n(2)\\tThe Product Summary Note shall contain the prominent disclaimer set out in Rule 4.3.4 in bold, on its front.\\n(3)\\tThe Issuer must give notice the Regulator of its intention to provide a Product Summary Note at least ten Business Days prior to the Exempt Offer, in such form as the Regulator may prescribe.\\n(4)\\tWhen the Issuer makes any change to the Offer document, the Product Summary Note must be updated if the change has a material effect on the key information of the Securities offered.\\n(5)\\tIssuers must ensure there is clear naming of the Securities offered. The name of the Securities must be descriptive of the nature of the Securities offered. It must not give investors a misleading view of the true nature and risks of the Securities offered.'}]"
      ]
     },
     "execution_count": 46,
     "metadata": {},
     "output_type": "execute_result"
    }
   ],
   "source": [
    "test_data = []\n",
    "\n",
    "for index, row in ret_df_grouped.iterrows():\n",
    "    test_data.append({\n",
    "        \"QuestionID\": row['QuestionID'],\n",
    "        \"RetrievedPassages\": [element[\"Passage\"] for element in row['GroundTruth']],\n",
    "        \"Answer\": \"\\n\\n\".join([element[\"Passage\"] for element in row['Passage']])\n",
    "    })\n",
    "\n",
    "test_data[:10]"
   ]
  },
  {
   "cell_type": "code",
   "execution_count": null,
   "metadata": {},
   "outputs": [],
   "source": [
    "result_file_name = \"results-concat-bge-en-icl-5-shot-single-5-top2-2newline\"\n",
    "\n",
    "run_eval(test_data, result_file_name)"
   ]
  },
  {
   "cell_type": "markdown",
   "metadata": {},
   "source": [
    "## Same sentence"
   ]
  },
  {
   "cell_type": "code",
   "execution_count": 29,
   "metadata": {},
   "outputs": [
    {
     "data": {
      "text/plain": [
       "['Relevant Persons should comply with guidance issued by the EOCN with regard to identifying and reporting suspicious activity and Transactions relating to money laundering, terrorist financing and proliferation financing.']"
      ]
     },
     "execution_count": 29,
     "metadata": {},
     "output_type": "execute_result"
    }
   ],
   "source": [
    "sent_tokenize_uncached(df.iloc[0][\"Passages\"][0][\"Passage\"])"
   ]
  },
  {
   "cell_type": "code",
   "execution_count": 31,
   "metadata": {},
   "outputs": [
    {
     "data": {
      "text/plain": [
       "{'A Listed Entity must, on the occurrence of an event specified in column 1, undertake the requirements detailed in column 2, within the time specified in column 3, in respect of the Securities identified with a \"\\uf0fc\" in column 4, of this Table.',\n",
       " 'A Recognised Body must ensure that appropriate procedures are adopted for it to make rules, for keeping its rules under review and for amending them.',\n",
       " 'APP 1.A.2.2.1\\t/Table Start\\nEVENT \\tREQUIREMENTS\\tTIME\\tStructured Products \\tShares\\tWarrants over Shares\\tWarrants over Debentures\\tDebentures\\tCertificates\\tUnits\\nShares\\tDebentures\\nREGISTRATION\\n1.',\n",
       " \"Any proposed decision with regard to any change in its board of directors or Shari'a Supervisory Board\\tConsult with the Regulator\\tIn advance\\t\\uf0fc\\t\\uf0fc\\t\\uf0fc\\t\\uf0fc\\t\\uf0fc\\t\\uf0fc\\t\\uf0fc\\t\\uf0fc\\n/Table End\",\n",
       " \"Appointment of an independent Shari'a Supervisory Board to evaluate the Shari'a compliance of the Islamic equity Securities on an annual basis\\tNotify the Regulator\\tAnnually\\t\\t\\uf0fc\\t\\uf0fc\\t\\t\\t\\uf0fc\\n2.\",\n",
       " 'The procedures must include the arrangements for:\\n(a)\\ttaking decisions about making and amending Business Rules, Clearing Rules and Default Rules, including the level at which decisions are taken and any provision for the delegation of decisions by the Governing Body;\\n(b)\\tconsulting users of the Recognised Body’s facilities and having proper regard to any public comments received;\\n(c)\\tconsidering the impact the proposed amendment has on the interests of its Members and other stakeholders; and\\n(d)\\tnotifying Members and other stakeholders of rule amendments.'}"
      ]
     },
     "execution_count": 31,
     "metadata": {},
     "output_type": "execute_result"
    }
   ],
   "source": [
    "sent_set = set()\n",
    "for element in df.iloc[10][\"Passages\"]:\n",
    "    sent_set.update(sent_tokenize_uncached(element[\"Passage\"]))\n",
    "sent_set"
   ]
  },
  {
   "cell_type": "code",
   "execution_count": null,
   "metadata": {},
   "outputs": [],
   "source": [
    "tokenizer = nltk.load(f\"tokenizers/punkt/english.pickle\")"
   ]
  },
  {
   "cell_type": "code",
   "execution_count": 53,
   "metadata": {},
   "outputs": [
    {
     "data": {
      "text/plain": [
       "['any proposed decision with regard to any change in its board of directors or shari\\'a supervisory board\\tconsult with the regulator\\tin advance\\t\\uf0fc\\t\\uf0fc\\t\\uf0fc\\t\\uf0fc\\t\\uf0fc\\t\\uf0fc\\t\\uf0fc\\t\\uf0fc\\n/table end a recognised body must ensure that appropriate procedures are adopted for it to make rules, for keeping its rules under review and for amending them appointment of an independent shari\\'a supervisory board to evaluate the shari\\'a compliance of the islamic equity securities on an annual basis\\tnotify the regulator\\tannually\\t\\t\\uf0fc\\t\\uf0fc\\t\\t\\t\\uf0fc\\n2 a listed entity must, on the occurrence of an event specified in column 1, undertake the requirements detailed in column 2, within the time specified in column 3, in respect of the securities identified with a \"\\uf0fc\" in column 4, of this table the procedures must include the arrangements for:\\n(a)\\ttaking decisions about making and amending business rules, clearing rules and default rules, including the level at which decisions are taken and any provision for the delegation of decisions by the governing body;\\n(b)\\tconsulting users of the recognised body’s facilities and having proper regard to any public comments received;\\n(c)\\tconsidering the impact the proposed amendment has on the interests of its members and other stakeholders; and\\n(d)\\tnotifying members and other stakeholders of rule amendments app 1a221\\t/table start\\nevent \\trequirements\\ttime\\tstructured products \\tshares\\twarrants over shares\\twarrants over debentures\\tdebentures\\tcertificates\\tunits\\nshares\\tdebentures\\nregistration\\n1']"
      ]
     },
     "execution_count": 53,
     "metadata": {},
     "output_type": "execute_result"
    }
   ],
   "source": [
    "sent_tokenize_uncached(\" \".join([re.sub(tokenizer._lang_vars._re_sent_end_chars, \"\", sent).lower() for sent in sent_set]))"
   ]
  },
  {
   "cell_type": "code",
   "execution_count": 55,
   "metadata": {},
   "outputs": [
    {
     "data": {
      "text/plain": [
       "[{'QuestionID': '777e7a14-fea3-4c37-a0e6-9ffb50024d5c',\n",
       "  'RetrievedPassages': ['Relevant Persons should comply with guidance issued by the EOCN with regard to identifying and reporting suspicious activity and Transactions relating to money laundering, terrorist financing and proliferation financing.'],\n",
       "  'Answer': 'relevant persons should comply with guidance issued by the eocn with regard to identifying and reporting suspicious activity and transactions relating to money laundering, terrorist financing and proliferation financing'},\n",
       " {'QuestionID': '0eb99ea8-3810-492c-9986-7739006b5708',\n",
       "  'RetrievedPassages': ['REGULATORY REQUIREMENTS FOR AUTHORISED PERSONS ENGAGED IN REGULATED ACTIVITIES IN RELATION TO VIRTUAL ASSETS\\nMarket Abuse, Transaction Reporting and Misleading Impressions (FSMR)\\nSimilar to the reporting requirements imposed on Recognised Investment Exchanges and MTFs in relation to Financial Instruments, MTFs (pursuant to FSMR Section 149) are required to report details of transactions in Accepted Virtual Assets traded on their platforms.   The FSRA expects MTFs using Virtual Assets to report to the FSRA on both a real-time and batch basis.\\n'],\n",
       "  'Answer': 'the fsra expects mtfs using virtual assets to report to the fsra on both a real-time and batch basis regulatory requirements for authorised persons engaged in regulated activities in relation to virtual assets\\nmarket abuse, transaction reporting and misleading impressions (fsmr)\\nsimilar to the reporting requirements imposed on recognised investment exchanges and mtfs in relation to financial instruments, mtfs (pursuant to fsmr section 149) are required to report details of transactions in accepted virtual assets traded on their platforms'},\n",
       " {'QuestionID': 'd34e3516-f053-4652-a0ac-ede703144b9a',\n",
       "  'RetrievedPassages': ['As part of that framework, the Third Party Provider must establish and maintain effective incident management procedures, including for the detection and classification of major operational and security incidents.'],\n",
       "  'Answer': 'as part of that framework, the third party provider must establish and maintain effective incident management procedures, including for the detection and classification of major operational and security incidents'},\n",
       " {'QuestionID': '6d876d32-7557-4149-875e-8c66f13f3485',\n",
       "  'RetrievedPassages': ['Recognition of Credit Risk mitigations. Where the value of the Collateral under the stress scenario is lower than the value applied under Rule 4.15.12 the lower value should be used when determining the Exposure value for the purposes of this Section.'],\n",
       "  'Answer': 'where the value of the collateral under the stress scenario is lower than the value applied under rule 41512 the lower value should be used when determining the exposure value for the purposes of this section recognition of credit risk mitigations'},\n",
       " {'QuestionID': '2efd28f4-8677-4f05-82cd-d9989fb72409',\n",
       "  'RetrievedPassages': ['REGULATORY REQUIREMENTS - SPOT COMMODITY ACTIVITIES\\nDelivery & Storage\\nWhen applying COBS Rule 22.4.2(d), an Authorised Person should have independent third party audits carried out at appropriate times, for the inventories and deliveries undertaken at the storage facility, as well as the facilities infrastructure itself.  Where necessary, further third-party audits will be required for the obligations of Accepted Spot Commodities, as outlined in paragraph 26 above.\\n'],\n",
       "  'Answer': 'where necessary, further third-party audits will be required for the obligations of accepted spot commodities, as outlined in paragraph 26 above regulatory requirements - spot commodity activities\\ndelivery & storage\\nwhen applying cobs rule 2242(d), an authorised person should have independent third party audits carried out at appropriate times, for the inventories and deliveries undertaken at the storage facility, as well as the facilities infrastructure itself'},\n",
       " {'QuestionID': '84a753ca-2a42-4909-bf85-e4d5654cc605',\n",
       "  'RetrievedPassages': ['Whenever possible the Authorised Person should seek to split a mixed remittance before crediting the Client Account.'],\n",
       "  'Answer': 'whenever possible the authorised person should seek to split a mixed remittance before crediting the client account'},\n",
       " {'QuestionID': 'cfbe9040-6a57-4146-85f8-3d082b435bec',\n",
       "  'RetrievedPassages': ['Developing and testing the Model: the Digital Investment Manager must maintain proper documentation explaining the decision tree or logic of the algorithm to ensure that the outcomes produced by the Model are explainable, traceable and repeatable.  The Digital Investment Manager must also ensure the relevance of any data or assumptions upon which the Model is based, and that any client questionnaire it uses takes into account potential behavioural biases that may lower the accuracy of client responses. The Digital Investment Manager must carry out sufficient testing to demonstrate that its Model meets these principles.  Where appropriate (e.g. in the case of a complex Model), the FSRA may require a third-party audit to validate the performance outcomes of the Model as purported.\\n'],\n",
       "  'Answer': 'in the case of a complex model), the fsra may require a third-party audit to validate the performance outcomes of the model as purported the digital investment manager must carry out sufficient testing to demonstrate that its model meets these principles where appropriate (eg developing and testing the model: the digital investment manager must maintain proper documentation explaining the decision tree or logic of the algorithm to ensure that the outcomes produced by the model are explainable, traceable and repeatable the digital investment manager must also ensure the relevance of any data or assumptions upon which the model is based, and that any client questionnaire it uses takes into account potential behavioural biases that may lower the accuracy of client responses'},\n",
       " {'QuestionID': 'ca5c0779-8178-4e43-bdd3-fe171c573c0f',\n",
       "  'RetrievedPassages': ['FEES\\nCumulative application of Fees\\nPursuant to FEES Rule 3.15.1, an MTF using Virtual Assets must pay to the FSRA a trading levy on a sliding scale basis (as set out in the table below), payable monthly in USD.  Unless otherwise determined by an MTF (and agreed to by the FSRA), the FSRA expects that the calculation of average daily value should occur at 12am Abu Dhabi time (+4hr GMT).\\n/Table Start\\nAverage Daily Value\\n(ADV)  ($USD)\\tLevy\\nADV ≤ 10m\\t0.0015%\\n10m < ADV ≤ 50m\\t0.0012%\\n50m < ADV ≤ 250m\\t0.0009%\\nADV > 250m\\t0.0006%\\n/Table End\\n'],\n",
       "  'Answer': 'unless otherwise determined by an mtf (and agreed to by the fsra), the fsra expects that the calculation of average daily value should occur at 12am abu dhabi time (+4hr gmt) /table start\\naverage daily value\\n(adv)  ($usd)\\tlevy\\nadv ≤ 10m\\t00015%\\n10m < adv ≤ 50m\\t00012%\\n50m < adv ≤ 250m\\t00009%\\nadv > 250m\\t00006%\\n/table end fees\\ncumulative application of fees\\npursuant to fees rule 3151, an mtf using virtual assets must pay to the fsra a trading levy on a sliding scale basis (as set out in the table below), payable monthly in usd'},\n",
       " {'QuestionID': 'd997b233-eaeb-40b3-a769-8b67960c3c8f',\n",
       "  'RetrievedPassages': ['A Recognised Clearing House must use the results of stress testing to evaluate the adequacy of its liquidity risk-management framework and make any appropriate adjustments as needed.'],\n",
       "  'Answer': 'a recognised clearing house must use the results of stress testing to evaluate the adequacy of its liquidity risk-management framework and make any appropriate adjustments as needed'},\n",
       " {'QuestionID': 'f3dca83c-3f58-46a7-80b8-b9b42223e895',\n",
       "  'RetrievedPassages': ['For the purpose of assessing whether Shareholders and creditors would have received better treatment if an Institution in Resolution had been Wound Up under Insolvency Proceedings, the Regulator shall, in accordance with any eligibility criteria prescribed under section \\u200e40, appoint an independent valuer to carry out a valuation as soon as practicable after the application of a Resolution Action.'],\n",
       "  'Answer': 'for the purpose of assessing whether shareholders and creditors would have received better treatment if an institution in resolution had been wound up under insolvency proceedings, the regulator shall, in accordance with any eligibility criteria prescribed under section \\u200e40, appoint an independent valuer to carry out a valuation as soon as practicable after the application of a resolution action'}]"
      ]
     },
     "execution_count": 55,
     "metadata": {},
     "output_type": "execute_result"
    }
   ],
   "source": [
    "test_data = []\n",
    "\n",
    "for index, row in df.iterrows():\n",
    "    sent_set = set()\n",
    "    for element in row[\"Passages\"]:\n",
    "        sent_set.update(sent_tokenize_uncached(element[\"Passage\"]))\n",
    "    test_data.append({\n",
    "        \"QuestionID\": row['QuestionID'],\n",
    "        \"RetrievedPassages\": [element[\"Passage\"] for element in row['Passages']],\n",
    "        \"Answer\": \" \".join([re.sub(tokenizer._lang_vars._re_sent_end_chars, \"\", sent).lower() for sent in sent_set])\n",
    "    })\n",
    "\n",
    "test_data[:10]"
   ]
  },
  {
   "cell_type": "code",
   "execution_count": null,
   "metadata": {},
   "outputs": [],
   "source": [
    "result_file_name = \"results-same-line\"\n",
    "\n",
    "run_eval(test_data, result_file_name)"
   ]
  },
  {
   "cell_type": "markdown",
   "metadata": {},
   "source": [
    "# LLM for answer generations"
   ]
  },
  {
   "cell_type": "code",
   "execution_count": 16,
   "metadata": {},
   "outputs": [
    {
     "name": "stdout",
     "output_type": "stream",
     "text": [
      "{\"model\":\"llama3.1:8b-instruct-q4_K_M\",\"created_at\":\"2024-11-30T20:34:39.117375049Z\",\"response\":\"The sky appears blue because of a phenomenon called Rayleigh scattering, named after the British physicist Lord Rayleigh, who first described it in the late 19th century. Here's what happens:\\n\\n1. **Sunlight enters Earth's atmosphere**: When sunlight enters our atmosphere, it encounters tiny molecules of gases such as nitrogen (N2) and oxygen (O2).\\n\\n2. **Scattering occurs**: These gas molecules are much smaller than the wavelength of light. As a result, when sunlight hits them, they scatter the light in all directions.\\n\\n3. **Shorter wavelengths scattered more**: However, shorter wavelengths like blue and violet are scattered more than longer wavelengths like red and orange. This is because the smaller molecules can only interact with the shorter wavelengths effectively due to their size relative to the wavelength of light.\\n\\n4. **Blue light dominates**: Due to this scattering effect, the shorter wavelengths (like blue) are distributed throughout the atmosphere in all directions, making it appear as though the sky is blue. The longer wavelengths like red and orange continue to travel in a straight line, which is why we see them more concentrated towards the horizon during sunrise and sunset.\\n\\nThis phenomenon is known as Rayleigh scattering, named after Lord Rayleigh who discovered this property of light scattering by gas molecules in 1871. He measured the amount of light scattered at different wavelengths, finding that shorter wavelengths were scattered more than longer ones.\\n\\nIn essence, the blue color we see in the sky is due to the way our atmosphere scatters sunlight, specifically how it interacts with smaller gas molecules and favors the shorter blue wavelengths over other colors.\",\"done\":true,\"done_reason\":\"stop\",\"context\":[128006,882,128007,271,10445,374,279,13180,6437,30,128009,128006,78191,128007,271,791,13180,8111,6437,1606,315,264,25885,2663,13558,64069,72916,11,7086,1306,279,8013,83323,10425,13558,64069,11,889,1176,7633,433,304,279,3389,220,777,339,9478,13,5810,596,1148,8741,1473,16,13,3146,31192,4238,29933,9420,596,16975,96618,3277,40120,29933,1057,16975,11,433,35006,13987,35715,315,45612,1778,439,47503,320,45,17,8,323,24463,320,46,17,3677,17,13,3146,3407,31436,13980,96618,4314,6962,35715,527,1790,9333,1109,279,46406,315,3177,13,1666,264,1121,11,994,40120,13280,1124,11,814,45577,279,3177,304,682,18445,382,18,13,3146,12755,261,93959,38067,810,96618,4452,11,24210,93959,1093,6437,323,80836,527,38067,810,1109,5129,93959,1093,2579,323,19087,13,1115,374,1606,279,9333,35715,649,1193,16681,449,279,24210,93959,13750,4245,311,872,1404,8844,311,279,46406,315,3177,382,19,13,3146,10544,3177,83978,96618,24586,311,420,72916,2515,11,279,24210,93959,320,4908,6437,8,527,4332,6957,279,16975,304,682,18445,11,3339,433,5101,439,3582,279,13180,374,6437,13,578,5129,93959,1093,2579,323,19087,3136,311,5944,304,264,7833,1584,11,902,374,3249,584,1518,1124,810,38626,7119,279,35174,2391,64919,323,44084,382,2028,25885,374,3967,439,13558,64069,72916,11,7086,1306,10425,13558,64069,889,11352,420,3424,315,3177,72916,555,6962,35715,304,220,9674,16,13,1283,17303,279,3392,315,3177,38067,520,2204,93959,11,9455,430,24210,93959,1051,38067,810,1109,5129,6305,382,644,28591,11,279,6437,1933,584,1518,304,279,13180,374,4245,311,279,1648,1057,16975,1156,10385,40120,11,11951,1268,433,84261,449,9333,6962,35715,323,54947,279,24210,6437,93959,927,1023,8146,13],\"total_duration\":73449141506,\"load_duration\":60800194970,\"prompt_eval_count\":16,\"prompt_eval_duration\":4157000000,\"eval_count\":325,\"eval_duration\":8490000000}"
     ]
    }
   ],
   "source": [
    "# You will have to replace localhost:11434 with your ollama hosted instance\n",
    "!curl http://localhost:11434/api/generate -d '{\"model\": \"llama3.1:8b-instruct-q4_K_M\", \"prompt\": \"Why is the sky blue?\", \"stream\": false}'"
   ]
  },
  {
   "cell_type": "code",
   "execution_count": 32,
   "metadata": {},
   "outputs": [],
   "source": [
    "from langchain_ollama.llms import OllamaLLM\n",
    "\n",
    "model = OllamaLLM(base_url=\"http://localhost:11434\", model=\"llama3.1:8b-instruct-q4_K_M\", num_ctx=2048, num_predict=512)"
   ]
  },
  {
   "cell_type": "markdown",
   "metadata": {},
   "source": [
    "## rlm/rag-promp"
   ]
  },
  {
   "cell_type": "code",
   "execution_count": null,
   "metadata": {},
   "outputs": [],
   "source": [
    "from langchain_core.prompts import ChatPromptTemplate\n",
    "from langchain_ollama.llms import OllamaLLM\n",
    "from langchain import hub\n",
    "\n",
    "rag_prompt = hub.pull(\"rlm/rag-prompt\")\n",
    "\n",
    "print(\"*\" * 20 + \"Prompt[rlm/rag-prompt]\" + \"*\" * 20)\n",
    "rag_prompt.pretty_print()"
   ]
  },
  {
   "cell_type": "code",
   "execution_count": null,
   "metadata": {},
   "outputs": [],
   "source": [
    "def crawl(row):\n",
    "    answer = chain.invoke({\"question\": row[\"Question\"], \"context\": \"\\n---\\n\".join([element[\"Passage\"] for element in row[\"Passages\"]])})\n",
    "    return {\n",
    "        \"QuestionID\": row['QuestionID'],\n",
    "        \"RetrievedPassages\": [element[\"Passage\"] for element in row['Passages']],\n",
    "        \"Answer\": answer\n",
    "    }"
   ]
  },
  {
   "cell_type": "code",
   "execution_count": 32,
   "metadata": {},
   "outputs": [
    {
     "data": {
      "text/plain": [
       "{'QuestionID': '9bd38f26-b6ac-4062-b076-500c38063b1f',\n",
       " 'RetrievedPassages': ['A Listed Entity must, on the occurrence of an event specified in column 1, undertake the requirements detailed in column 2, within the time specified in column 3, in respect of the Securities identified with a \"\\uf0fc\" in column 4, of this Table.\\n\\nAPP 1.A.2.2.1\\t/Table Start\\nEVENT \\tREQUIREMENTS\\tTIME\\tStructured Products \\tShares\\tWarrants over Shares\\tWarrants over Debentures\\tDebentures\\tCertificates\\tUnits\\nShares\\tDebentures\\nREGISTRATION\\n1.\\tAppointment of an independent Shari\\'a Supervisory Board to evaluate the Shari\\'a compliance of the Islamic equity Securities on an annual basis\\tNotify the Regulator\\tAnnually\\t\\t\\uf0fc\\t\\uf0fc\\t\\t\\t\\uf0fc\\n2.\\tAny proposed decision with regard to any change in its board of directors or Shari\\'a Supervisory Board\\tConsult with the Regulator\\tIn advance\\t\\uf0fc\\t\\uf0fc\\t\\uf0fc\\t\\uf0fc\\t\\uf0fc\\t\\uf0fc\\t\\uf0fc\\t\\uf0fc\\n/Table End',\n",
       "  'A Recognised Body must ensure that appropriate procedures are adopted for it to make rules, for keeping its rules under review and for amending them. The procedures must include the arrangements for:\\n(a)\\ttaking decisions about making and amending Business Rules, Clearing Rules and Default Rules, including the level at which decisions are taken and any provision for the delegation of decisions by the Governing Body;\\n(b)\\tconsulting users of the Recognised Body’s facilities and having proper regard to any public comments received;\\n(c)\\tconsidering the impact the proposed amendment has on the interests of its Members and other stakeholders; and\\n(d)\\tnotifying Members and other stakeholders of rule amendments.'],\n",
       " 'Answer': 'Prior to making decisions regarding changes in the board of directors or Shari\\'a Supervisory Board, a Listed Entity must consult with the Regulator in advance, as specified in event 2 of APP 1.A.2.2.1/Table Start. This consultation requirement is a regulatory mandate to ensure that any proposed changes comply with relevant rules and regulations. The time frame for this consultation is not specified beyond \"in advance\".'}"
      ]
     },
     "execution_count": 32,
     "metadata": {},
     "output_type": "execute_result"
    }
   ],
   "source": [
    "crawl(df.iloc[10])"
   ]
  },
  {
   "cell_type": "code",
   "execution_count": 33,
   "metadata": {},
   "outputs": [
    {
     "name": "stderr",
     "output_type": "stream",
     "text": [
      "100%|██████████████████████████████████████████████████████████████████████████████████████████████████████████████████████████| 2786/2786 [1:17:39<00:00,  1.67s/it]\n"
     ]
    },
    {
     "data": {
      "text/plain": [
       "[{'QuestionID': '777e7a14-fea3-4c37-a0e6-9ffb50024d5c',\n",
       "  'RetrievedPassages': ['Relevant Persons should comply with guidance issued by the EOCN with regard to identifying and reporting suspicious activity and Transactions relating to money laundering, terrorist financing and proliferation financing.'],\n",
       "  'Answer': \"The ADGM doesn't provide explicit details on the level of documentation required for a report of suspicious activity. However, Relevant Persons are expected to comply with guidance issued by the EOCN regarding identifying and reporting suspicious activities. This implies that the EOCN's guidance should be consulted for clarity on regulatory standards.\"},\n",
       " {'QuestionID': '0eb99ea8-3810-492c-9986-7739006b5708',\n",
       "  'RetrievedPassages': ['REGULATORY REQUIREMENTS FOR AUTHORISED PERSONS ENGAGED IN REGULATED ACTIVITIES IN RELATION TO VIRTUAL ASSETS\\nMarket Abuse, Transaction Reporting and Misleading Impressions (FSMR)\\nSimilar to the reporting requirements imposed on Recognised Investment Exchanges and MTFs in relation to Financial Instruments, MTFs (pursuant to FSMR Section 149) are required to report details of transactions in Accepted Virtual Assets traded on their platforms.   The FSRA expects MTFs using Virtual Assets to report to the FSRA on both a real-time and batch basis.\\n'],\n",
       "  'Answer': \"I don't know.\"},\n",
       " {'QuestionID': 'd34e3516-f053-4652-a0ac-ede703144b9a',\n",
       "  'RetrievedPassages': ['As part of that framework, the Third Party Provider must establish and maintain effective incident management procedures, including for the detection and classification of major operational and security incidents.'],\n",
       "  'Answer': 'The Third Party Provider must establish and maintain effective incident management procedures to handle issues such as major operational and security incidents. These procedures should include steps for detecting and classifying these types of incidents. This framework is part of a larger framework that the provider must adhere to.'},\n",
       " {'QuestionID': '6d876d32-7557-4149-875e-8c66f13f3485',\n",
       "  'RetrievedPassages': ['Recognition of Credit Risk mitigations. Where the value of the Collateral under the stress scenario is lower than the value applied under Rule 4.15.12 the lower value should be used when determining the Exposure value for the purposes of this Section.'],\n",
       "  'Answer': 'The ADGM would allow using the original collateral value instead of stressed value in certain circumstances, but these exceptions are not specified in the provided context. The general rule is to use the lower value between the two scenarios. However, it does not provide information on specific exceptions or circumstances for using the original collateral value.'},\n",
       " {'QuestionID': '2efd28f4-8677-4f05-82cd-d9989fb72409',\n",
       "  'RetrievedPassages': ['REGULATORY REQUIREMENTS - SPOT COMMODITY ACTIVITIES\\nDelivery & Storage\\nWhen applying COBS Rule 22.4.2(d), an Authorised Person should have independent third party audits carried out at appropriate times, for the inventories and deliveries undertaken at the storage facility, as well as the facilities infrastructure itself.  Where necessary, further third-party audits will be required for the obligations of Accepted Spot Commodities, as outlined in paragraph 26 above.\\n'],\n",
       "  'Answer': \"The independent third-party audits should cover areas such as inventory management systems and procedures to ensure accurate recording and reporting, as well as delivery infrastructure including transportation methods and storage facilities. Additionally, audits may be required for the facilities' systems for tracking and monitoring inventories. The audits should also verify that the facilities' IT infrastructure supports secure data handling and transmission.\"},\n",
       " {'QuestionID': '84a753ca-2a42-4909-bf85-e4d5654cc605',\n",
       "  'RetrievedPassages': ['Whenever possible the Authorised Person should seek to split a mixed remittance before crediting the Client Account.'],\n",
       "  'Answer': 'An Authorized Person should aim to split a mixed remittance before it is credited to the Client Account. This is recommended whenever possible. Splitting the remittance allows for accurate accounting and minimizes potential issues with client funds.'},\n",
       " {'QuestionID': 'cfbe9040-6a57-4146-85f8-3d082b435bec',\n",
       "  'RetrievedPassages': ['Developing and testing the Model: the Digital Investment Manager must maintain proper documentation explaining the decision tree or logic of the algorithm to ensure that the outcomes produced by the Model are explainable, traceable and repeatable.  The Digital Investment Manager must also ensure the relevance of any data or assumptions upon which the Model is based, and that any client questionnaire it uses takes into account potential behavioural biases that may lower the accuracy of client responses. The Digital Investment Manager must carry out sufficient testing to demonstrate that its Model meets these principles.  Where appropriate (e.g. in the case of a complex Model), the FSRA may require a third-party audit to validate the performance outcomes of the Model as purported.\\n'],\n",
       "  'Answer': \"The Digital Investment Manager should review and update the data or assumptions upon which its Model is based regularly, but no specific frequency is stated in the provided context. This process should be ongoing to ensure continued relevance and accuracy of the Model's outcomes. The FSRA may also require periodic audits to validate the Model's performance.\"},\n",
       " {'QuestionID': 'ca5c0779-8178-4e43-bdd3-fe171c573c0f',\n",
       "  'RetrievedPassages': ['FEES\\nCumulative application of Fees\\nPursuant to FEES Rule 3.15.1, an MTF using Virtual Assets must pay to the FSRA a trading levy on a sliding scale basis (as set out in the table below), payable monthly in USD.  Unless otherwise determined by an MTF (and agreed to by the FSRA), the FSRA expects that the calculation of average daily value should occur at 12am Abu Dhabi time (+4hr GMT).\\n/Table Start\\nAverage Daily Value\\n(ADV)  ($USD)\\tLevy\\nADV ≤ 10m\\t0.0015%\\n10m < ADV ≤ 50m\\t0.0012%\\n50m < ADV ≤ 250m\\t0.0009%\\nADV > 250m\\t0.0006%\\n/Table End\\n'],\n",
       "  'Answer': 'For an MTF operating with Virtual Assets, the trading levy should be calculated based on the average daily value (ADV) for each month, using the sliding scale in the table provided. The FSRA expects the calculation to occur at 12am Abu Dhabi time (+4hr GMT). If there are significant fluctuations within a single month, the levy should be recalculated accordingly, using the relevant percentage based on the ADV.'},\n",
       " {'QuestionID': 'd997b233-eaeb-40b3-a769-8b67960c3c8f',\n",
       "  'RetrievedPassages': ['A Recognised Clearing House must use the results of stress testing to evaluate the adequacy of its liquidity risk-management framework and make any appropriate adjustments as needed.'],\n",
       "  'Answer': 'A Recognised Clearing House must evaluate the adequacy of its liquidity risk-management framework after stress testing, and if inadequacies are found, it should make appropriate adjustments. This involves reviewing and updating its existing processes to ensure they can effectively manage potential liquidity risks. Any changes made must be proportionate and aligned with regulatory requirements.'},\n",
       " {'QuestionID': 'f3dca83c-3f58-46a7-80b8-b9b42223e895',\n",
       "  'RetrievedPassages': ['For the purpose of assessing whether Shareholders and creditors would have received better treatment if an Institution in Resolution had been Wound Up under Insolvency Proceedings, the Regulator shall, in accordance with any eligibility criteria prescribed under section \\u200e40, appoint an independent valuer to carry out a valuation as soon as practicable after the application of a Resolution Action.'],\n",
       "  'Answer': 'The ADGM does not explicitly define or assess the independence of the valuer appointed under section 40 in the provided context. However, it implies that the Regulator shall appoint an independent valuer based on eligibility criteria prescribed under section 40. The specific criteria for this valuer are not specified in the given text.'}]"
      ]
     },
     "execution_count": 33,
     "metadata": {},
     "output_type": "execute_result"
    }
   ],
   "source": [
    "from multiprocessing.pool import ThreadPool\n",
    "\n",
    "test_data = []\n",
    "with ThreadPool(2) as p:\n",
    "    l = [row for _, row in df.iterrows()]\n",
    "    test_data = list(tqdm.tqdm(p.imap(crawl, l), total=len(l)))\n",
    "\n",
    "test_data[:10]"
   ]
  },
  {
   "cell_type": "code",
   "execution_count": null,
   "metadata": {},
   "outputs": [],
   "source": [
    "# save the test_data\n",
    "with open(f\"{output_dir}/rag_llama3_1_8b_test_data.jsonl\", \"w\") as f:\n",
    "    for item in test_data:\n",
    "        f.write(json.dumps(item) + \"\\n\")"
   ]
  },
  {
   "cell_type": "code",
   "execution_count": null,
   "metadata": {},
   "outputs": [],
   "source": [
    "result_file_name = \"results-rag-llama3_1_8b\"\n",
    "\n",
    "run_eval(test_data, result_file_name)"
   ]
  },
  {
   "cell_type": "markdown",
   "metadata": {},
   "source": [
    "## rlm/rag-promp without concise and don't answer part"
   ]
  },
  {
   "cell_type": "code",
   "execution_count": 9,
   "metadata": {},
   "outputs": [],
   "source": [
    "from langchain_core.prompts import PromptTemplate\n",
    "\n",
    "prompt = PromptTemplate(\n",
    "        template=\"\"\"You are an assistant for question-answering tasks. Use the following pieces of retrieved context to answer the question.\n",
    "Question: {question} \n",
    "Context: {context} \n",
    "Answer:\"\"\",\n",
    "        input_variables=[\"context\", \"question\"],\n",
    "    )"
   ]
  },
  {
   "cell_type": "code",
   "execution_count": 13,
   "metadata": {},
   "outputs": [],
   "source": [
    "chain = prompt | model"
   ]
  },
  {
   "cell_type": "code",
   "execution_count": 14,
   "metadata": {},
   "outputs": [],
   "source": [
    "def crawl(row):\n",
    "    answer = chain.invoke({\"question\": row[\"Question\"], \"context\": \"\\n---\\n\".join([element[\"Passage\"] for element in row[\"Passages\"]])})\n",
    "    return {\n",
    "        \"QuestionID\": row['QuestionID'],\n",
    "        \"RetrievedPassages\": [element[\"Passage\"] for element in row['Passages']],\n",
    "        \"Answer\": answer\n",
    "    }"
   ]
  },
  {
   "cell_type": "code",
   "execution_count": 15,
   "metadata": {},
   "outputs": [
    {
     "data": {
      "text/plain": [
       "{'QuestionID': '9bd38f26-b6ac-4062-b076-500c38063b1f',\n",
       " 'RetrievedPassages': ['A Listed Entity must, on the occurrence of an event specified in column 1, undertake the requirements detailed in column 2, within the time specified in column 3, in respect of the Securities identified with a \"\\uf0fc\" in column 4, of this Table.\\n\\nAPP 1.A.2.2.1\\t/Table Start\\nEVENT \\tREQUIREMENTS\\tTIME\\tStructured Products \\tShares\\tWarrants over Shares\\tWarrants over Debentures\\tDebentures\\tCertificates\\tUnits\\nShares\\tDebentures\\nREGISTRATION\\n1.\\tAppointment of an independent Shari\\'a Supervisory Board to evaluate the Shari\\'a compliance of the Islamic equity Securities on an annual basis\\tNotify the Regulator\\tAnnually\\t\\t\\uf0fc\\t\\uf0fc\\t\\t\\t\\uf0fc\\n2.\\tAny proposed decision with regard to any change in its board of directors or Shari\\'a Supervisory Board\\tConsult with the Regulator\\tIn advance\\t\\uf0fc\\t\\uf0fc\\t\\uf0fc\\t\\uf0fc\\t\\uf0fc\\t\\uf0fc\\t\\uf0fc\\t\\uf0fc\\n/Table End',\n",
       "  'A Recognised Body must ensure that appropriate procedures are adopted for it to make rules, for keeping its rules under review and for amending them. The procedures must include the arrangements for:\\n(a)\\ttaking decisions about making and amending Business Rules, Clearing Rules and Default Rules, including the level at which decisions are taken and any provision for the delegation of decisions by the Governing Body;\\n(b)\\tconsulting users of the Recognised Body’s facilities and having proper regard to any public comments received;\\n(c)\\tconsidering the impact the proposed amendment has on the interests of its Members and other stakeholders; and\\n(d)\\tnotifying Members and other stakeholders of rule amendments.'],\n",
       " 'Answer': 'Prior to making any decisions regarding changes in the board of directors or Shari\\'a Supervisory Board, a Listed Entity must consult with the Regulator. This is specified in APP 1.A.2.2.1/Table, under EVENT 2: \"Any proposed decision with regard to any change in its board of directors or Shari\\'a Supervisory Board\", where it states that the Listed Entity must \"Consult with the Regulator\" at least In advance.'}"
      ]
     },
     "execution_count": 15,
     "metadata": {},
     "output_type": "execute_result"
    }
   ],
   "source": [
    "crawl(df.iloc[10])"
   ]
  },
  {
   "cell_type": "code",
   "execution_count": 16,
   "metadata": {},
   "outputs": [
    {
     "name": "stderr",
     "output_type": "stream",
     "text": [
      "100%|██████████████████████████████████████████████████████████████████████████████████████████████████████████████████████████| 2786/2786 [2:33:46<00:00,  3.31s/it]\n"
     ]
    },
    {
     "data": {
      "text/plain": [
       "[{'QuestionID': '777e7a14-fea3-4c37-a0e6-9ffb50024d5c',\n",
       "  'RetrievedPassages': ['Relevant Persons should comply with guidance issued by the EOCN with regard to identifying and reporting suspicious activity and Transactions relating to money laundering, terrorist financing and proliferation financing.'],\n",
       "  'Answer': \"According to the provided context, the Abu Dhabi Global Market (ADGM) can likely provide clarity on the level of detail and documentation required for a report of suspicious activity. This is because Relevant Persons are expected to comply with guidance issued by the Emirate of Dubai's Economic Office Committee for Non-Resident Affairs (EOCN), which suggests that clear guidelines exist for reporting suspicious activities. However, it is advisable to consult directly with the ADGM or the relevant regulatory bodies within the Emirate of Dubai for the most accurate and up-to-date information on regulatory standards.\"},\n",
       " {'QuestionID': '0eb99ea8-3810-492c-9986-7739006b5708',\n",
       "  'RetrievedPassages': ['REGULATORY REQUIREMENTS FOR AUTHORISED PERSONS ENGAGED IN REGULATED ACTIVITIES IN RELATION TO VIRTUAL ASSETS\\nMarket Abuse, Transaction Reporting and Misleading Impressions (FSMR)\\nSimilar to the reporting requirements imposed on Recognised Investment Exchanges and MTFs in relation to Financial Instruments, MTFs (pursuant to FSMR Section 149) are required to report details of transactions in Accepted Virtual Assets traded on their platforms.   The FSRA expects MTFs using Virtual Assets to report to the FSRA on both a real-time and batch basis.\\n'],\n",
       "  'Answer': \"According to the context, there is no explicit mention of exceptions or specific circumstances under which the real-time reporting requirements for Virtual Asset transactions may be waived or modified. The text only states that MTFs are required to report details of transactions in Accepted Virtual Assets traded on their platforms on both a real-time and batch basis, implying a mandatory requirement without any apparent flexibility.\\n\\nHowever, it is worth noting that the context does not provide information about potential exceptions or circumstances that might allow for waivers or modifications. It's possible that such scenarios may be outlined in other regulatory documents or guidelines not provided here.\"},\n",
       " {'QuestionID': 'd34e3516-f053-4652-a0ac-ede703144b9a',\n",
       "  'RetrievedPassages': ['As part of that framework, the Third Party Provider must establish and maintain effective incident management procedures, including for the detection and classification of major operational and security incidents.'],\n",
       "  'Answer': 'Effective incident management procedures, including for the detection and classification of major operational and security incidents.'},\n",
       " {'QuestionID': '6d876d32-7557-4149-875e-8c66f13f3485',\n",
       "  'RetrievedPassages': ['Recognition of Credit Risk mitigations. Where the value of the Collateral under the stress scenario is lower than the value applied under Rule 4.15.12 the lower value should be used when determining the Exposure value for the purposes of this Section.'],\n",
       "  'Answer': 'Yes, there are exceptions to using the stressed value when determining exposure, as per Rule 4.15.12. If the collateral value under the stress scenario is lower than the original value, the ADGM would allow the use of the original (higher) collateral value rather than the stressed value.'},\n",
       " {'QuestionID': '2efd28f4-8677-4f05-82cd-d9989fb72409',\n",
       "  'RetrievedPassages': ['REGULATORY REQUIREMENTS - SPOT COMMODITY ACTIVITIES\\nDelivery & Storage\\nWhen applying COBS Rule 22.4.2(d), an Authorised Person should have independent third party audits carried out at appropriate times, for the inventories and deliveries undertaken at the storage facility, as well as the facilities infrastructure itself.  Where necessary, further third-party audits will be required for the obligations of Accepted Spot Commodities, as outlined in paragraph 26 above.\\n'],\n",
       "  'Answer': 'The specific areas of inventory and delivery infrastructure that should be covered in the independent third-party audits to satisfy the requirements of COBS Rule 22.4.2(d) are:\\n\\n1. Inventories undertaken at the storage facility\\n2. Deliveries undertaken at the storage facility\\n3. The facilities infrastructure itself\\n\\nThese areas should be audited by an independent third party at appropriate times to ensure compliance with the regulatory requirements.'},\n",
       " {'QuestionID': '84a753ca-2a42-4909-bf85-e4d5654cc605',\n",
       "  'RetrievedPassages': ['Whenever possible the Authorised Person should seek to split a mixed remittance before crediting the Client Account.'],\n",
       "  'Answer': 'The Authorized Person should aim to split a mixed remittance before it is credited to the Client Account, if possible.'},\n",
       " {'QuestionID': 'cfbe9040-6a57-4146-85f8-3d082b435bec',\n",
       "  'RetrievedPassages': ['Developing and testing the Model: the Digital Investment Manager must maintain proper documentation explaining the decision tree or logic of the algorithm to ensure that the outcomes produced by the Model are explainable, traceable and repeatable.  The Digital Investment Manager must also ensure the relevance of any data or assumptions upon which the Model is based, and that any client questionnaire it uses takes into account potential behavioural biases that may lower the accuracy of client responses. The Digital Investment Manager must carry out sufficient testing to demonstrate that its Model meets these principles.  Where appropriate (e.g. in the case of a complex Model), the FSRA may require a third-party audit to validate the performance outcomes of the Model as purported.\\n'],\n",
       "  'Answer': \"The question does not provide explicit guidance on the frequency at which the Digital Investment Manager should review and update its data or assumptions, but based on the provided context:\\n\\nRegular reviews and updates are implied as necessary for the model's continued relevance. The context emphasizes the importance of maintaining up-to-date and accurate data to ensure that the model produces relevant outcomes. This suggests that a periodic review process should be in place, allowing the Digital Investment Manager to assess whether its assumptions remain valid and if any changes or updates are needed.\\n\\nA possible answer could be:\\n\\nThe Digital Investment Manager should regularly review and update the data or assumptions upon which its Model is based at least annually, or whenever there are significant market or regulatory changes that may impact its validity.\"},\n",
       " {'QuestionID': 'ca5c0779-8178-4e43-bdd3-fe171c573c0f',\n",
       "  'RetrievedPassages': ['FEES\\nCumulative application of Fees\\nPursuant to FEES Rule 3.15.1, an MTF using Virtual Assets must pay to the FSRA a trading levy on a sliding scale basis (as set out in the table below), payable monthly in USD.  Unless otherwise determined by an MTF (and agreed to by the FSRA), the FSRA expects that the calculation of average daily value should occur at 12am Abu Dhabi time (+4hr GMT).\\n/Table Start\\nAverage Daily Value\\n(ADV)  ($USD)\\tLevy\\nADV ≤ 10m\\t0.0015%\\n10m < ADV ≤ 50m\\t0.0012%\\n50m < ADV ≤ 250m\\t0.0009%\\nADV > 250m\\t0.0006%\\n/Table End\\n'],\n",
       "  'Answer': \"For an MTF operating with Virtual Assets, if there are significant fluctuations in average daily value within a single month, the trading levy should be calculated based on the applicable sliding scale rate (as per the table) for each day's average daily value, and then the total levies for each rate band should be summed. This approach ensures that the MTF pays the correct amount of trading levy to the FSRA, taking into account the varying average daily values throughout the month.\"},\n",
       " {'QuestionID': 'd997b233-eaeb-40b3-a769-8b67960c3c8f',\n",
       "  'RetrievedPassages': ['A Recognised Clearing House must use the results of stress testing to evaluate the adequacy of its liquidity risk-management framework and make any appropriate adjustments as needed.'],\n",
       "  'Answer': 'A Recognised Clearing House must make appropriate adjustments to its liquidity risk-management framework if stress testing reveals inadequacies in it.'},\n",
       " {'QuestionID': 'f3dca83c-3f58-46a7-80b8-b9b42223e895',\n",
       "  'RetrievedPassages': ['For the purpose of assessing whether Shareholders and creditors would have received better treatment if an Institution in Resolution had been Wound Up under Insolvency Proceedings, the Regulator shall, in accordance with any eligibility criteria prescribed under section \\u200e40, appoint an independent valuer to carry out a valuation as soon as practicable after the application of a Resolution Action.'],\n",
       "  'Answer': \"According to the ADGM (Abu Dhabi Global Market) regulations, the independence of the appointed valuer is defined and assessed based on eligibility criteria prescribed under section 40. The valuer must meet specific criteria to be considered independent. However, the detailed criteria are not specified in the provided context.\\n\\nTo provide a more comprehensive answer, it's likely that the ADGM has established guidelines or regulations outlining the qualifications and experience required for an independent valuer. These might include factors such as:\\n\\n*   Professional certifications (e.g., CVA or RICS)\\n*   Relevant industry experience\\n*   Independence from any conflicts of interest\\n*   Objectivity in valuation assessment\\n\\nThe specific criteria may be outlined in ADGM regulations, guidelines, or policies related to the appointment of independent valuers.\"}]"
      ]
     },
     "execution_count": 16,
     "metadata": {},
     "output_type": "execute_result"
    }
   ],
   "source": [
    "from multiprocessing.pool import ThreadPool\n",
    "\n",
    "test_data = []\n",
    "with ThreadPool(2) as p:\n",
    "    l = [row for _, row in df.iterrows()]\n",
    "    test_data = list(tqdm.tqdm(p.imap(crawl, l), total=len(l)))\n",
    "\n",
    "test_data[:10]"
   ]
  },
  {
   "cell_type": "code",
   "execution_count": null,
   "metadata": {},
   "outputs": [],
   "source": [
    "result_file_name = \"results-rag-llama3_1_8b-prompt-without\"\n",
    "\n",
    "run_eval(test_data, result_file_name)"
   ]
  },
  {
   "cell_type": "markdown",
   "metadata": {},
   "source": [
    "## RegNLP paper prompt"
   ]
  },
  {
   "cell_type": "code",
   "execution_count": 33,
   "metadata": {},
   "outputs": [],
   "source": [
    "from langchain_core.prompts import PromptTemplate\n",
    "\n",
    "prompt = PromptTemplate(\n",
    "        template=\"\"\"You are a regulatory compliance assistant. Provide a detailed answer for the question that fully integrates all the obligations and best practices from the given passages. Ensure your response is cohesive and directly addresses the question. Synthesize the information from all passages into a single, unified answer.\n",
    "question: {question} \n",
    "passages: {context} \n",
    "answer:\"\"\",\n",
    "        input_variables=[\"context\", \"question\"],\n",
    "    )"
   ]
  },
  {
   "cell_type": "code",
   "execution_count": 34,
   "metadata": {},
   "outputs": [],
   "source": [
    "chain = prompt | model"
   ]
  },
  {
   "cell_type": "code",
   "execution_count": 21,
   "metadata": {},
   "outputs": [
    {
     "data": {
      "text/html": [
       "<div>\n",
       "<style scoped>\n",
       "    .dataframe tbody tr th:only-of-type {\n",
       "        vertical-align: middle;\n",
       "    }\n",
       "\n",
       "    .dataframe tbody tr th {\n",
       "        vertical-align: top;\n",
       "    }\n",
       "\n",
       "    .dataframe thead th {\n",
       "        text-align: right;\n",
       "    }\n",
       "</style>\n",
       "<table border=\"1\" class=\"dataframe\">\n",
       "  <thead>\n",
       "    <tr style=\"text-align: right;\">\n",
       "      <th></th>\n",
       "      <th>QuestionID</th>\n",
       "      <th>RetrievedPassages</th>\n",
       "      <th>Answer</th>\n",
       "    </tr>\n",
       "  </thead>\n",
       "  <tbody>\n",
       "    <tr>\n",
       "      <th>0</th>\n",
       "      <td>0048b1b6-e739-49dc-91cb-3ec9061276d0</td>\n",
       "      <td>[An application to Operate a Representative Of...</td>\n",
       "      <td>An application to Operate a Representative Off...</td>\n",
       "    </tr>\n",
       "    <tr>\n",
       "      <th>1</th>\n",
       "      <td>005042ec-464a-426d-8c61-066360ea73d2</td>\n",
       "      <td>[For the purposes of determining the net prese...</td>\n",
       "      <td>For the purposes of determining the net presen...</td>\n",
       "    </tr>\n",
       "    <tr>\n",
       "      <th>2</th>\n",
       "      <td>0076d200-5221-48d7-ad69-84766de8827a</td>\n",
       "      <td>[Principle 2 – High Standards for Authorisatio...</td>\n",
       "      <td>Principle 2 – High Standards for Authorisation...</td>\n",
       "    </tr>\n",
       "    <tr>\n",
       "      <th>3</th>\n",
       "      <td>0083176b-36bd-4a0b-b891-ba348b814227</td>\n",
       "      <td>[Compliance risk . The Senior Executive Office...</td>\n",
       "      <td>Compliance risk . The Senior Executive Officer...</td>\n",
       "    </tr>\n",
       "    <tr>\n",
       "      <th>4</th>\n",
       "      <td>0090be4b-b92a-4c48-a8d2-4d06861f9844</td>\n",
       "      <td>[Non-submission of ESG disclosures by in-scope...</td>\n",
       "      <td>Non-submission of ESG disclosures by in-scope ...</td>\n",
       "    </tr>\n",
       "    <tr>\n",
       "      <th>...</th>\n",
       "      <td>...</td>\n",
       "      <td>...</td>\n",
       "      <td>...</td>\n",
       "    </tr>\n",
       "    <tr>\n",
       "      <th>2781</th>\n",
       "      <td>ff96547f-63b3-4140-9aed-4abecbf601e0</td>\n",
       "      <td>[An Authorised Person with a Financial Service...</td>\n",
       "      <td>An Authorised Person with a Financial Services...</td>\n",
       "    </tr>\n",
       "    <tr>\n",
       "      <th>2782</th>\n",
       "      <td>ffb8ab74-8b2e-408e-82fc-e68a532f0067</td>\n",
       "      <td>[\\nWhen determining whether it has satisfactor...</td>\n",
       "      <td>\\nWhen determining whether it has satisfactory...</td>\n",
       "    </tr>\n",
       "    <tr>\n",
       "      <th>2783</th>\n",
       "      <td>ffc7adc3-a684-46a2-bfc1-fd93420dcc49</td>\n",
       "      <td>[REGULATORY REQUIREMENTS FOR AUTHORISED PERSON...</td>\n",
       "      <td>REGULATORY REQUIREMENTS FOR AUTHORISED PERSONS...</td>\n",
       "    </tr>\n",
       "    <tr>\n",
       "      <th>2784</th>\n",
       "      <td>ffca564d-b579-4af5-b2b8-4367004a0957</td>\n",
       "      <td>[Guidance on risks to be covered as part of th...</td>\n",
       "      <td>Guidance on risks to be covered as part of the...</td>\n",
       "    </tr>\n",
       "    <tr>\n",
       "      <th>2785</th>\n",
       "      <td>ffd2ce80-644b-47d2-8dd8-396ceff8e4ce</td>\n",
       "      <td>[REGULATORY REQUIREMENTS - SPOT COMMODITY ACTI...</td>\n",
       "      <td>REGULATORY REQUIREMENTS - SPOT COMMODITY ACTIV...</td>\n",
       "    </tr>\n",
       "  </tbody>\n",
       "</table>\n",
       "<p>2786 rows × 3 columns</p>\n",
       "</div>"
      ],
      "text/plain": [
       "                                QuestionID  \\\n",
       "0     0048b1b6-e739-49dc-91cb-3ec9061276d0   \n",
       "1     005042ec-464a-426d-8c61-066360ea73d2   \n",
       "2     0076d200-5221-48d7-ad69-84766de8827a   \n",
       "3     0083176b-36bd-4a0b-b891-ba348b814227   \n",
       "4     0090be4b-b92a-4c48-a8d2-4d06861f9844   \n",
       "...                                    ...   \n",
       "2781  ff96547f-63b3-4140-9aed-4abecbf601e0   \n",
       "2782  ffb8ab74-8b2e-408e-82fc-e68a532f0067   \n",
       "2783  ffc7adc3-a684-46a2-bfc1-fd93420dcc49   \n",
       "2784  ffca564d-b579-4af5-b2b8-4367004a0957   \n",
       "2785  ffd2ce80-644b-47d2-8dd8-396ceff8e4ce   \n",
       "\n",
       "                                      RetrievedPassages  \\\n",
       "0     [An application to Operate a Representative Of...   \n",
       "1     [For the purposes of determining the net prese...   \n",
       "2     [Principle 2 – High Standards for Authorisatio...   \n",
       "3     [Compliance risk . The Senior Executive Office...   \n",
       "4     [Non-submission of ESG disclosures by in-scope...   \n",
       "...                                                 ...   \n",
       "2781  [An Authorised Person with a Financial Service...   \n",
       "2782  [\\nWhen determining whether it has satisfactor...   \n",
       "2783  [REGULATORY REQUIREMENTS FOR AUTHORISED PERSON...   \n",
       "2784  [Guidance on risks to be covered as part of th...   \n",
       "2785  [REGULATORY REQUIREMENTS - SPOT COMMODITY ACTI...   \n",
       "\n",
       "                                                 Answer  \n",
       "0     An application to Operate a Representative Off...  \n",
       "1     For the purposes of determining the net presen...  \n",
       "2     Principle 2 – High Standards for Authorisation...  \n",
       "3     Compliance risk . The Senior Executive Officer...  \n",
       "4     Non-submission of ESG disclosures by in-scope ...  \n",
       "...                                                 ...  \n",
       "2781  An Authorised Person with a Financial Services...  \n",
       "2782  \\nWhen determining whether it has satisfactory...  \n",
       "2783  REGULATORY REQUIREMENTS FOR AUTHORISED PERSONS...  \n",
       "2784  Guidance on risks to be covered as part of the...  \n",
       "2785  REGULATORY REQUIREMENTS - SPOT COMMODITY ACTIV...  \n",
       "\n",
       "[2786 rows x 3 columns]"
      ]
     },
     "execution_count": 21,
     "metadata": {},
     "output_type": "execute_result"
    }
   ],
   "source": [
    "# Llama generated answers\n",
    "ret_df = pd.read_json(\"regnlp/ObliQADataset/RIRAGSharedTask/yay-2.json\")\n",
    "ret_df"
   ]
  },
  {
   "cell_type": "code",
   "execution_count": 28,
   "metadata": {},
   "outputs": [
    {
     "data": {
      "text/html": [
       "<div>\n",
       "<style scoped>\n",
       "    .dataframe tbody tr th:only-of-type {\n",
       "        vertical-align: middle;\n",
       "    }\n",
       "\n",
       "    .dataframe tbody tr th {\n",
       "        vertical-align: top;\n",
       "    }\n",
       "\n",
       "    .dataframe thead th {\n",
       "        text-align: right;\n",
       "    }\n",
       "</style>\n",
       "<table border=\"1\" class=\"dataframe\">\n",
       "  <thead>\n",
       "    <tr style=\"text-align: right;\">\n",
       "      <th></th>\n",
       "      <th>QuestionID</th>\n",
       "      <th>RetrievedPassages</th>\n",
       "      <th>Answer</th>\n",
       "      <th>Question</th>\n",
       "    </tr>\n",
       "  </thead>\n",
       "  <tbody>\n",
       "    <tr>\n",
       "      <th>0</th>\n",
       "      <td>0048b1b6-e739-49dc-91cb-3ec9061276d0</td>\n",
       "      <td>[An application to Operate a Representative Of...</td>\n",
       "      <td>An application to Operate a Representative Off...</td>\n",
       "      <td>To whom should an applicant submit their appli...</td>\n",
       "    </tr>\n",
       "    <tr>\n",
       "      <th>1</th>\n",
       "      <td>005042ec-464a-426d-8c61-066360ea73d2</td>\n",
       "      <td>[For the purposes of determining the net prese...</td>\n",
       "      <td>For the purposes of determining the net presen...</td>\n",
       "      <td>Could you please provide detailed guidance on ...</td>\n",
       "    </tr>\n",
       "    <tr>\n",
       "      <th>2</th>\n",
       "      <td>0076d200-5221-48d7-ad69-84766de8827a</td>\n",
       "      <td>[Principle 2 – High Standards for Authorisatio...</td>\n",
       "      <td>Principle 2 – High Standards for Authorisation...</td>\n",
       "      <td>In the context of Principle 2 – High Standards...</td>\n",
       "    </tr>\n",
       "    <tr>\n",
       "      <th>3</th>\n",
       "      <td>0083176b-36bd-4a0b-b891-ba348b814227</td>\n",
       "      <td>[Compliance risk . The Senior Executive Office...</td>\n",
       "      <td>Compliance risk . The Senior Executive Officer...</td>\n",
       "      <td>Can the ADGM provide a detailed outline of the...</td>\n",
       "    </tr>\n",
       "    <tr>\n",
       "      <th>4</th>\n",
       "      <td>0090be4b-b92a-4c48-a8d2-4d06861f9844</td>\n",
       "      <td>[Non-submission of ESG disclosures by in-scope...</td>\n",
       "      <td>Non-submission of ESG disclosures by in-scope ...</td>\n",
       "      <td>Can the ADGM provide guidance on best practice...</td>\n",
       "    </tr>\n",
       "    <tr>\n",
       "      <th>...</th>\n",
       "      <td>...</td>\n",
       "      <td>...</td>\n",
       "      <td>...</td>\n",
       "      <td>...</td>\n",
       "    </tr>\n",
       "    <tr>\n",
       "      <th>2781</th>\n",
       "      <td>ff96547f-63b3-4140-9aed-4abecbf601e0</td>\n",
       "      <td>[An Authorised Person with a Financial Service...</td>\n",
       "      <td>An Authorised Person with a Financial Services...</td>\n",
       "      <td>Can an Authorised Person expect to pay more th...</td>\n",
       "    </tr>\n",
       "    <tr>\n",
       "      <th>2782</th>\n",
       "      <td>ffb8ab74-8b2e-408e-82fc-e68a532f0067</td>\n",
       "      <td>[\\nWhen determining whether it has satisfactor...</td>\n",
       "      <td>\\nWhen determining whether it has satisfactory...</td>\n",
       "      <td>Could you provide clarification on the process...</td>\n",
       "    </tr>\n",
       "    <tr>\n",
       "      <th>2783</th>\n",
       "      <td>ffc7adc3-a684-46a2-bfc1-fd93420dcc49</td>\n",
       "      <td>[REGULATORY REQUIREMENTS FOR AUTHORISED PERSON...</td>\n",
       "      <td>REGULATORY REQUIREMENTS FOR AUTHORISED PERSONS...</td>\n",
       "      <td>In the case of a conflict between the inherent...</td>\n",
       "    </tr>\n",
       "    <tr>\n",
       "      <th>2784</th>\n",
       "      <td>ffca564d-b579-4af5-b2b8-4367004a0957</td>\n",
       "      <td>[Guidance on risks to be covered as part of th...</td>\n",
       "      <td>Guidance on risks to be covered as part of the...</td>\n",
       "      <td>Can you elaborate on what constitutes adequate...</td>\n",
       "    </tr>\n",
       "    <tr>\n",
       "      <th>2785</th>\n",
       "      <td>ffd2ce80-644b-47d2-8dd8-396ceff8e4ce</td>\n",
       "      <td>[REGULATORY REQUIREMENTS - SPOT COMMODITY ACTI...</td>\n",
       "      <td>REGULATORY REQUIREMENTS - SPOT COMMODITY ACTIV...</td>\n",
       "      <td>What are the steps and requirements for an RIE...</td>\n",
       "    </tr>\n",
       "  </tbody>\n",
       "</table>\n",
       "<p>2786 rows × 4 columns</p>\n",
       "</div>"
      ],
      "text/plain": [
       "                                QuestionID  \\\n",
       "0     0048b1b6-e739-49dc-91cb-3ec9061276d0   \n",
       "1     005042ec-464a-426d-8c61-066360ea73d2   \n",
       "2     0076d200-5221-48d7-ad69-84766de8827a   \n",
       "3     0083176b-36bd-4a0b-b891-ba348b814227   \n",
       "4     0090be4b-b92a-4c48-a8d2-4d06861f9844   \n",
       "...                                    ...   \n",
       "2781  ff96547f-63b3-4140-9aed-4abecbf601e0   \n",
       "2782  ffb8ab74-8b2e-408e-82fc-e68a532f0067   \n",
       "2783  ffc7adc3-a684-46a2-bfc1-fd93420dcc49   \n",
       "2784  ffca564d-b579-4af5-b2b8-4367004a0957   \n",
       "2785  ffd2ce80-644b-47d2-8dd8-396ceff8e4ce   \n",
       "\n",
       "                                      RetrievedPassages  \\\n",
       "0     [An application to Operate a Representative Of...   \n",
       "1     [For the purposes of determining the net prese...   \n",
       "2     [Principle 2 – High Standards for Authorisatio...   \n",
       "3     [Compliance risk . The Senior Executive Office...   \n",
       "4     [Non-submission of ESG disclosures by in-scope...   \n",
       "...                                                 ...   \n",
       "2781  [An Authorised Person with a Financial Service...   \n",
       "2782  [\\nWhen determining whether it has satisfactor...   \n",
       "2783  [REGULATORY REQUIREMENTS FOR AUTHORISED PERSON...   \n",
       "2784  [Guidance on risks to be covered as part of th...   \n",
       "2785  [REGULATORY REQUIREMENTS - SPOT COMMODITY ACTI...   \n",
       "\n",
       "                                                 Answer  \\\n",
       "0     An application to Operate a Representative Off...   \n",
       "1     For the purposes of determining the net presen...   \n",
       "2     Principle 2 – High Standards for Authorisation...   \n",
       "3     Compliance risk . The Senior Executive Officer...   \n",
       "4     Non-submission of ESG disclosures by in-scope ...   \n",
       "...                                                 ...   \n",
       "2781  An Authorised Person with a Financial Services...   \n",
       "2782  \\nWhen determining whether it has satisfactory...   \n",
       "2783  REGULATORY REQUIREMENTS FOR AUTHORISED PERSONS...   \n",
       "2784  Guidance on risks to be covered as part of the...   \n",
       "2785  REGULATORY REQUIREMENTS - SPOT COMMODITY ACTIV...   \n",
       "\n",
       "                                               Question  \n",
       "0     To whom should an applicant submit their appli...  \n",
       "1     Could you please provide detailed guidance on ...  \n",
       "2     In the context of Principle 2 – High Standards...  \n",
       "3     Can the ADGM provide a detailed outline of the...  \n",
       "4     Can the ADGM provide guidance on best practice...  \n",
       "...                                                 ...  \n",
       "2781  Can an Authorised Person expect to pay more th...  \n",
       "2782  Could you provide clarification on the process...  \n",
       "2783  In the case of a conflict between the inherent...  \n",
       "2784  Can you elaborate on what constitutes adequate...  \n",
       "2785  What are the steps and requirements for an RIE...  \n",
       "\n",
       "[2786 rows x 4 columns]"
      ]
     },
     "execution_count": 28,
     "metadata": {},
     "output_type": "execute_result"
    }
   ],
   "source": [
    "ret_df[\"Question\"] = ret_df[\"QuestionID\"].apply(lambda x: test_df_index.loc[x][\"Question\"])\n",
    "ret_df"
   ]
  },
  {
   "cell_type": "code",
   "execution_count": 35,
   "metadata": {},
   "outputs": [],
   "source": [
    "def crawl(row):\n",
    "    # print(row)\n",
    "    answer = chain.invoke({\"question\": row[\"Question\"], \"context\": \"\\n---\\n\".join(row[\"RetrievedPassages\"])})\n",
    "    return {\n",
    "        \"QuestionID\": row['QuestionID'],\n",
    "        \"RetrievedPassages\": row['RetrievedPassages'],\n",
    "        \"Answer\": answer\n",
    "    }"
   ]
  },
  {
   "cell_type": "code",
   "execution_count": 36,
   "metadata": {},
   "outputs": [
    {
     "data": {
      "text/plain": [
       "{'QuestionID': '0175a778-59d5-467a-a74a-899fde4f6b2f',\n",
       " 'RetrievedPassages': ['PROSPECTUS DISCLOSURE. Importantly, Rule 11.3.1(1) requires that in addition to complying with Chapter 4 of the Rules, a Prospectus that includes a statement about Exploration Targets, Exploration Results, Mineral Resources, Ore Reserves or Production Targets must comply with Rule 11.2.1 (in that such Prospectus must also (in terms of the disclosures made within such Prospectus) comply with a Mining Reporting Standard and Chapter 11 of the Rules.\\n',\n",
       "  '\\nRule 11.2.1 applies to all disclosures made or required to be made under the Rules which include a statement about Exploration Targets, Exploration Results, Mineral Resources, Ore Reserves or Production Targets, including within a Prospectus, Exempt Offer document, bidder’s and target’s statements, annual reports, financial statements, technical papers, presentations, and website content and disclosures.\\nIn order to ensure consistency of its disclosures, Issuers and Mining Reporting Entities should be mindful of the table format for disclosure of Ore Reserves and Mineral Resources set out in MKT Form-11-1.',\n",
       "  'In addition to complying with the requirements of Chapter 4, a Prospectus:\\n(1)\\tthat includes a statement about Exploration Targets, Exploration Results, Mineral Resources, Ore Reserves or Production Targets, must comply with Rule 11.2.1; and\\n(2)\\tmust include details in relation to the Mining Reporting Entity’s policies and practices in relation to operating in a sustainable manner, including:\\n(i)\\tthe Mining Reporting Entity’s policy with regards to environmental and social issues;\\n(ii)\\timpact of the Mining Reporting Entity’s business practices on the environment and the communities in which it operates; and\\n(iii)\\tthe environmental and social risks faced by the Mining Reporting Entity.\\n'],\n",
       " 'Answer': 'To address the question regarding the level of detail expected in a statement about Exploration Targets, Exploration Results, Mineral Resources, Ore Reserves, or Production Targets to be compliant with Rule 11.3.1(1), we must synthesize information from all relevant passages.\\n\\nFirstly, it is essential to note that a Prospectus that includes a statement about these topics must comply not only with Chapter 4 of the Rules but also with Rule 11.2.1 (PROSPECTUS DISCLOSURE). This indicates that such statements should adhere to a Mining Reporting Standard and Chapter 11 of the Rules.\\n\\nSecondly, as per Rule 11.2.1, any disclosure about Exploration Targets, Exploration Results, Mineral Resources, Ore Reserves, or Production Targets must comply with a Mining Reporting Standard (PROSPECTUS DISCLOSURE). This implies that the level of detail expected is one that aligns with these standards.\\n\\nFurthermore, to ensure consistency and adherence to best practices, Issuers and Mining Reporting Entities should refer to MKT Form-11-1 for guidance on presenting such information in a table format (Rule 11.2.1).\\n\\nLastly, when including a statement about these topics within a Prospectus, issuers must also provide details on the Mining Reporting Entity’s policies and practices regarding operating sustainably, as outlined in Chapter 4 of the Rules.\\n\\nTo summarize, for compliance with Rule 11.3.1(1), statements about Exploration Targets, Exploration Results, Mineral Resources, Ore Reserves, or Production Targets should be detailed enough to meet the requirements of a Mining Reporting Standard and Chapter 11 of the Rules, presented in accordance with MKT Form-11-1, and also include details on the issuer’s sustainable practices as outlined in Chapter 4.'}"
      ]
     },
     "execution_count": 36,
     "metadata": {},
     "output_type": "execute_result"
    }
   ],
   "source": [
    "crawl(ret_df.iloc[10])"
   ]
  },
  {
   "cell_type": "code",
   "execution_count": 37,
   "metadata": {},
   "outputs": [
    {
     "name": "stderr",
     "output_type": "stream",
     "text": [
      "100%|██████████████████████████████████████████████████████████████████████████████████████████████████████████████████████████| 2786/2786 [8:49:18<00:00, 11.40s/it]\n"
     ]
    },
    {
     "data": {
      "text/plain": [
       "[{'QuestionID': '0048b1b6-e739-49dc-91cb-3ec9061276d0',\n",
       "  'RetrievedPassages': ['An application to Operate a Representative Office may only be made by a Person who is:\\n(a)\\tincorporated; and\\n(b)\\tregulated by a Non-ADGM Financial Services Regulator\\nin a jurisdiction other than the ADGM.',\n",
       "   'A Person, referred to in this chapter as an applicant, who intends to carry on the Regulated Activity of Operating a Representative Office must apply to the Regulator for a Financial Services Permission in such form as the Regulator shall prescribe.'],\n",
       "  'Answer': 'To whom should an applicant submit their application for permission to operate a Representative Office?\\n\\nBased on the provided passages, it is clear that only a Person who meets specific criteria can submit an application to operate a Representative Office. The Person must be:\\n\\n1. Incorporated\\n2. Regulated by a Non-ADGM Financial Services Regulator in a jurisdiction other than the ADGM.\\n\\nGiven these requirements, an applicant seeking permission to operate a Representative Office should submit their application directly to the Regulator for a Financial Services Permission, as prescribed by the Regulator.\\n\\nTherefore, the correct answer is: The applicant should submit their application to the Regulator.'},\n",
       " {'QuestionID': '005042ec-464a-426d-8c61-066360ea73d2',\n",
       "  'RetrievedPassages': [\"For the purposes of determining the net present value of expected future payments in accordance with Rule \\u200e6.10 or \\u200e6.11, a Captive Insurer must use as a discount rate the gross redemption yield of a portfolio of sovereign risk securities which:\\n(a)\\tare AAA-rated by Standard & Poor's (or the equivalent by another Approved Rating Agency); and\\n(b)\\thave a similar expected payment profile to the liability being measured.\\n\",\n",
       "   \"For the purposes of determining the net present value of expected future receipts in accordance with Rule \\u200e6.10.8, a Captive Insurer must use as a discount rate the gross redemption yield of a portfolio of sovereign risk securities which:\\n(a)\\tare AAA-rated by Standard & Poor's (or the equivalent by another Approved Rating Agency); and\\n(b)\\thave a similar expected payment profile to the liability being measured.\",\n",
       "   'For the purposes of determining the net present value of expected future receipts in accordance with Rule \\u200e5.4.11, an Insurer must use as a discount rate the gross redemption yield, as at the Solvency Reference Date, of a portfolio of AAA Rated sovereign risk securities with a similar expected payment profile to the asset being measured.'],\n",
       "  'Answer': \"When selecting a portfolio of sovereign risk securities for discount rate purposes under Rule 6.10 or 6.11, a Captive Insurer must identify a portfolio that meets two key criteria:\\n\\n**1. AAA-Rating**: The selected sovereign risk securities must be AAA-rated by Standard & Poor's (or the equivalent rating from another Approved Rating Agency). This ensures that the chosen securities have a high credit quality and low default risk.\\n\\n**2. Similar Expected Payment Profile**: The portfolio of sovereign risk securities must have a similar expected payment profile to the liability being measured. To determine whether the payment profiles are similar, Captive Insurers should consider the following factors:\\n\\n* **Cash Flow Patterns**: The frequency and timing of cash inflows and outflows in the selected portfolio should be comparable to those of the liability being measured. For example, if the liability has a regular annual premium stream, the chosen sovereign risk securities should also have a similar regular payment schedule.\\n* **Cash Flow Volatility**: The volatility of cash flows in the selected portfolio should be comparable to that of the liability being measured. For instance, if the liability has significant upfront payments or unpredictable cash outflows, the chosen sovereign risk securities should also exhibit similar characteristics.\\n* **Payment Duration**: The duration of payments in the selected portfolio should align with the expected payment profile of the liability being measured. This means that if the liability has a long-term obligation, the chosen sovereign risk securities should have a similar long-term payment structure.\\n* **Repayment Terms**: The repayment terms of the selected portfolio should be comparable to those of the liability being measured. For example, if the liability has balloon payments or amortizing schedules, the chosen sovereign risk securities should also have similar repayment structures.\\n\\nTo ensure compliance with these requirements, Captive Insurers can consider the following best practices:\\n\\n* **Analysis of Credit Rating Agencies' Reports**: Review reports from Standard & Poor's (or equivalent) to verify that the selected sovereign risk securities meet the AAA-rating threshold.\\n* **Customized Stress Testing**: Conduct stress testing to assess how the selected portfolio would perform under various economic scenarios, including changes in interest rates, inflation, or credit spreads.\\n* **Review of Historical Data**: Examine historical payment data for both the liability being measured and the chosen sovereign risk securities to identify any similarities or differences in cash flow patterns.\\n\\nBy carefully evaluating these factors and considering best practices, Captive Insurers can select a suitable portfolio of sovereign risk securities that meets the requirements of Rule 6.10 or 6.11 and provides an accurate\"},\n",
       " {'QuestionID': '0076d200-5221-48d7-ad69-84766de8827a',\n",
       "  'RetrievedPassages': ['Principle 2 – High Standards for Authorisation. This discerning approach is shown by the FSRA’s power to only permit VAs that it deems ‘acceptable’, as determined by risk factors such as security and traceability, in order to prevent the build-up of risk from illiquid or immature assets. Additionally, we do not permit stablecoins based on the algorithmic model of valuation to the underlying fiat currency.',\n",
       "   'Principle 2 – High Standards for Authorisation. The FSRA’s risk appetite for VA activities is such that it will only admit operators to its jurisdiction who at the outset can unequivocally meet the transparent, high standards outlined in its framework. This will maintain the best-in-class reputation of the ADGM ecosystem and instil market confidence to promote growth and investment.',\n",
       "   'Principle 2 – High Standards for Authorisation. ADGM has become the destination of choice for many start-ups and investors in the VA sector as well as extant financial institutions looking to expand into this area. Since 2018 the FSRA has issued a number of Financial Services Permissions (FSPs) to trading venues (e.g. multilateral trading facilities (MTFs)) and market intermediaries, such as broker dealers, custodians and asset managers, and continues to provide the regulatory architecture for a vibrant, VA ecosystem.'],\n",
       "  'Answer': \"In the context of Principle 2 – High Standards for Authorisation, the ADGM evaluates and defines 'acceptable' Virtual Assets (VAs) through a discerning approach that prioritizes risk management and upholds high standards. The evaluation process involves assessing various risk factors to ensure that only VAs with robust security and traceability measures are permitted. This assessment is critical in preventing the accumulation of risk from illiquid or immature assets.\\n\\nThe key risk factors considered in this assessment include:\\n\\n1. **Security**: The ADGM evaluates the security protocols and controls implemented by the VA to prevent unauthorized access, hacking, or other forms of cyber threats.\\n2. **Traceability**: The FSRA assesses the ability of VAs to provide a clear audit trail, enabling the identification of transactions and participants in the event of any issues.\\n\\nIn addition to these risk factors, the ADGM also considers the VA's underlying model of valuation. Specifically, it does not permit stablecoins based on an algorithmic model of valuation tied to the underlying fiat currency. This approach ensures that VAs are not subject to potential volatility or manipulation risks associated with algorithmic valuation models.\\n\\nThe FSRA's risk appetite for VA activities is such that it will only admit operators to its jurisdiction who can demonstrate a high level of transparency and adherence to best-in-class standards. This includes:\\n\\n1. **Transparent business practices**: The ADGM requires VAs to maintain transparent business practices, including clear disclosure of fees, risks, and other material information.\\n2. **Compliance with regulatory requirements**: VA operators must demonstrate compliance with all applicable regulations and laws in the ADGM jurisdiction.\\n\\nThe goal of these high standards is to instill market confidence, promote growth and investment, and maintain the best-in-class reputation of the ADGM ecosystem. By admitting only operators who meet these rigorous standards, the ADGM provides a secure and stable environment for VA activities, making it an attractive destination for start-ups, investors, and established financial institutions looking to expand into the VA sector.\\n\\nIn summary, the ADGM's evaluation and definition of 'acceptable' VAs are guided by a discerning approach that prioritizes risk management, security, traceability, transparency, and compliance with regulatory requirements. By adopting this approach, the ADGM ensures a high level of confidence among market participants, fosters growth and investment in the VA sector, and maintains its position as a leading jurisdiction for Virtual Asset activities.\"},\n",
       " {'QuestionID': '0083176b-36bd-4a0b-b891-ba348b814227',\n",
       "  'RetrievedPassages': ['Compliance risk . The Senior Executive Officer of a firm is expected to take full responsibility for ensuring compliance with ADGM legislation by establishing a strong compliance culture which is fully embedded within the organisation. A start-up will be required to appoint a U.A.E. resident as the senior executive officer as well as the compliance officer and money laundering reporting officer (MLRO) with the requisite skills and relevant experience in compliance and anti-money laundering duties. The individuals fulfilling the compliance and MLRO roles will be expected to demonstrate to us their competence to perform the proposed roles and adequate knowledge of the relevant sections of ADGM legislation and, in the case of the MLRO, the wider anti-money laundering legislation.\\n',\n",
       "   \"On-site visits . On-site visits provide us with an overview of the firm's operations and enable us to form a first-hand view of the personnel, systems and controls and compliance culture within the firm as well as identifying and evaluating the risks to our objectives, taking into account any mitigation by the firm. They enable us to test the soundness of the firm's systems and controls and the extent to which we can continue to rely on them and the firm's senior management to prevent or mitigate risks to our objectives. On-site visits will also assist us to assess the extent of supervision and the use of other supervisory tools required to address certain key risk areas.\\n\",\n",
       "   \"Periodic communications. From time to time, we may consider a particular item of communication to a firm to be of key regulatory importance. For this reason, it may be necessary to issue such communications directly to a senior member of staff at the board level of the ADGM entity copied (where appropriate) to the group's home regulator. For entities established as a Branch in the ADGM, these communications will likely be delivered to the Chairman of the Board at the ADGM Branch entity's head or Parent office. For ADGM incorporated entities, these communications will likely be delivered directly to the Chairman of the firm's board or head office. These communications may include, for example, the findings of our risk assessment visits where a risk mitigation plan has been sent that contains significant matters of concern to our objectives.\\n\\n\"],\n",
       "  'Answer': \"The Abu Dhabi Global Market (ADGM) expects firms operating within its jurisdiction to maintain a strong compliance culture that is deeply ingrained in their organization. As a regulatory compliance assistant, I can provide a detailed outline of the compliance culture expectations for a firm within the ADGM jurisdiction.\\n\\n**Compliance Culture Expectations:**\\n\\n1. **Leadership and Accountability**: The Senior Executive Officer (SEO) of a firm must take full responsibility for ensuring compliance with ADGM legislation by establishing a strong compliance culture that is fully embedded within the organization.\\n2. **Competence and Experience**: A start-up firm will be required to appoint a U.A.E. resident as the SEO, Compliance Officer, and Money Laundering Reporting Officer (MLRO) with the requisite skills and relevant experience in compliance and anti-money laundering duties.\\n3. **Demonstrated Competence and Knowledge**: The individuals fulfilling the compliance and MLRO roles must demonstrate their competence to perform the proposed roles and adequate knowledge of the relevant sections of ADGM legislation, as well as the wider anti-money laundering legislation.\\n4. **Ongoing Training and Development**: Firms must ensure that their employees are adequately trained and developed to maintain a strong compliance culture, including regular training on ADGM legislation and anti-money laundering duties.\\n\\n**On-Site Visits:**\\n\\nADGM's on-site visits aim to provide an overview of the firm's operations, identify and evaluate risks to its objectives, and test the soundness of the firm's systems and controls. The purpose of these visits is to:\\n\\n1. **Assess Compliance Culture**: Evaluate the extent to which the firm's compliance culture is embedded in the organization.\\n2. **Identify Key Risk Areas**: Identify areas where the firm may be at risk of non-compliance with ADGM legislation or anti-money laundering duties.\\n3. **Test Systems and Controls**: Test the effectiveness of the firm's systems and controls to prevent or mitigate risks to our objectives.\\n\\n**Periodic Communications:**\\n\\nADGM may issue periodic communications to firms, which may include:\\n\\n1. **Risk Assessment Visit Findings**: Firms may receive findings from risk assessment visits, including any mitigation plans that address significant matters of concern.\\n2. **Key Regulatory Importance**: Communications may be issued directly to a senior member of staff at the board level or copied to the group's home regulator.\\n\\n**Best Practices:**\\n\\nTo maintain a strong compliance culture, firms within the ADGM jurisdiction should:\\n\\n1. **Embed Compliance into Daily Operations**: Ensure that compliance is integrated into daily operations and decision-making processes\"},\n",
       " {'QuestionID': '0090be4b-b92a-4c48-a8d2-4d06861f9844',\n",
       "  'RetrievedPassages': ['Non-submission of ESG disclosures by in-scope companies\\n\\nThe ESG Disclosures Framework offers flexibility through its ‘comply or explain’ approach, which is designed to encourage companies to develop governance processes and practices that are the most suitable for their particular circumstances and to report them in a meaningful way.\\n\\nWhile the Registrar expects all in-scope companies to submit ESG disclosures, it is acknowledged that it may take time for such companies to develop necessary systems and controls.  The Registrar encourages companies to embrace the flexibility offered by the ESG Disclosures Framework, consider their circumstances carefully and choose what is best for them, while clearly explaining any determination not to make ESG disclosures.\\n\\nWhen informing the Registrar of its decision not to submit ESG disclosures in accordance with subsection 399B(5) of the CR, a company should submit correspondence to monitoring@adgm.com, including a description of the reasons for its determination.\\n',\n",
       "   'General. The \"comply or explain\" approach reflected in the standards recognises that there is more than one way to comply with the Principles to achieve sound and prudent governance of the Reporting Entity. It also gives the Reporting Entity the flexibility to tailor its governance practices to achieve effective outcomes taking into account the nature, size and complexity of its business. For example, a Reporting Entity may have a small Board to reflect the small and less complex nature of its business, as opposed to a larger and more complex business which requires a larger Board. It may not be possible to have a large number of committees of the small Board to undertake the functions of committees discussed in this Appendix. In such cases, the Board as a whole may undertake all these functions, or alternatively, combine the roles of committees as appropriate.',\n",
       "   'Purpose of the ESG Disclosures Framework\\n\\nThe RA’s ESG Disclosures Framework seeks to encourage good practice by ADGM companies in disclosing applicable information on ESG factors in line with a globally recognised disclosures standard.\\n\\nThe ESG Disclosures Framework may be applied by all ADGM entities on a voluntary basis.  For in-scope ADGM companies – being ADGM companies meeting one or more of the Threshold Conditions - the RA has adopted a flexible ‘comply or explain’ approach to applicable disclosures.  In doing so, ADGM wishes to foster an ecosystem of companies which seek to help play a part in meeting the UAE’s net zero by 2050 strategic initiative by disclosing the impact of their company’s operations on ESG factors.\\n\\nThe RA will monitor whether the ‘comply or explain’ approach is effective in achieving the stated outcomes of the ESG Disclosures Framework.  In the future, the RA may decide to impose a mandatory ESG disclosures framework for in-scope entities. Nothing in this Guidance should be interpreted as an assurance that the ‘comply or explain’ approach will continue in the future.\\n\\n'],\n",
       "  'Answer': 'Here is a detailed answer that fully integrates all the obligations and best practices from the given passages:\\n\\n**ADGM\\'s Guidance on Best Practices for Documenting Corporate Governance Practices Related to ESG Issues**\\n\\nIn light of the \"comply or explain\" approach adopted by ADGM, we understand that companies may choose not to disclose certain ESG-related information. To provide guidance on documenting corporate governance practices related to such issues, we recommend the following best practices:\\n\\n1. **Clear Rationale**: When deciding not to submit ESG disclosures, it is essential to clearly articulate the reasons for this determination. This should be documented in a formal correspondence addressed to monitoring@adgm.com, as required by subsection 399B(5) of the CR.\\n2. **Explanation**: The company should provide a comprehensive explanation for its decision, highlighting any challenges or circumstances that led to this choice. This explanation should demonstrate an understanding of the \"comply or explain\" approach and the flexibility it offers.\\n3. **Governance Processes**: Companies are encouraged to document their governance processes related to ESG issues, even if they choose not to disclose certain information. This includes describing how they assess, manage, and monitor ESG risks and opportunities.\\n4. **Tailored Approach**: Recognizing that there is no one-size-fits-all approach to corporate governance, companies should tailor their practices to suit their specific circumstances. This may involve adapting the principles outlined in the standards or adopting alternative approaches that achieve effective outcomes.\\n5. **Transparency**: While not disclosing all ESG-related information, companies are still expected to provide transparency regarding their decision-making process and any relevant factors considered. This can be achieved by documenting the rationale behind their choice and providing context for stakeholders.\\n6. **Board Considerations**: As emphasized in the General passage, companies with smaller boards or less complex businesses may choose not to establish multiple committees. In such cases, the board as a whole should undertake these functions, and this decision should be documented accordingly.\\n7. **Continuous Improvement**: Companies that choose not to disclose ESG-related information should remain committed to continuous improvement in their governance practices. This involves regularly reviewing and assessing their processes to ensure they are aligned with the company\\'s goals and values.\\n\\nBy following these best practices, companies can effectively document their corporate governance practices related to ESG issues, even if they choose not to disclose certain information. This ensures transparency, accountability, and a commitment to continuous improvement, all of which are essential for fostering an ecosystem that supports good practice in disclosing applicable information on ESG factors.\\n\\n**'},\n",
       " {'QuestionID': '00ab4161-28d0-4be8-b964-c6f68c650ca5',\n",
       "  'RetrievedPassages': ['The Recognised Body must appropriately consider, and make a reasonable determination, as to what other functions within its business are deemed Regulatory Functions, requiring the appointment of a Key Individual to head such function.  The Regulator may also make its own determination as to whether any other function in the Recognised Body should be deemed a Regulatory Function, requiring the appointment of a Key Individual to head such function.',\n",
       "   'General. When assessing whether its systems and controls in the performance of its Regulatory Functions are adequate and appropriate for the scale and nature of its business, a Recognised Body should have regard to its:\\n(a)\\tarrangements for managing, controlling and carrying out its Regulatory Functions, including the:\\n(i)\\tdistribution of duties and responsibilities among its Key Individuals and the departments of the Recognised Body responsible for performing its Regulatory Functions;\\n(ii)\\tstaffing and resources of the departments of the Recognised Body responsible for performing its Regulatory Functions;\\n(iii)\\tarrangements made to enable Key Individuals to supervise the departments for which they are responsible;\\n(iv)\\tarrangements for appointing and supervising the performance of Key Individuals (and their departments); and\\n(v)\\tarrangements by which the Governing Body is able to keep the allocation of responsibilities between, and the appointment, supervision and remuneration of, Key Individuals under review;\\n(b)\\tarrangements for the identification and management of conflicts of interest;\\n(c)\\tarrangements for internal and external audit; and\\n(d)\\tinformation technology systems.\\n',\n",
       "   'Performance of Regulatory Functions . A Recognised Body must take all reasonable steps to ensure that the performance of its Regulatory Functions is not adversely affected by its commercial interests.'],\n",
       "  'Answer': 'To reasonably determine other business functions that should be deemed Regulatory Functions, a Recognised Body should follow a comprehensive and structured approach. This process involves a thorough assessment of its systems and controls in relation to its Regulatory Functions, as outlined in the general guidelines.\\n\\nFirstly, the Recognised Body must appropriately consider and make a reasonable determination as to what other functions within its business are deemed Regulatory Functions, requiring the appointment of a Key Individual to head such function. This determination should be made with regard to the distribution of duties and responsibilities among its Key Individuals and departments responsible for performing its Regulatory Functions (point (a)(i)).\\n\\nIn making this determination, the Recognised Body must consider the staffing and resources of the departments responsible for performing its Regulatory Functions (point (a)(ii)). This includes ensuring that there are adequate personnel with sufficient expertise to perform these functions. The Recognised Body should also establish arrangements for Key Individuals to supervise their respective departments (point (a)(iii)).\\n\\nFurthermore, the Recognised Body must have in place arrangements for appointing and supervising the performance of Key Individuals (and their departments) (point (a)(iv)). This includes the process for selecting and recruiting Key Individuals, as well as their roles and responsibilities. The Governing Body should regularly review the allocation of responsibilities between, and the appointment, supervision, and remuneration of, Key Individuals (point (a)(v)).\\n\\nIn addition to these considerations, the Recognised Body must also have arrangements in place for identifying and managing conflicts of interest (point (b)). This includes policies and procedures for dealing with potential conflicts of interest arising from its commercial interests. To mitigate any adverse effects on the performance of its Regulatory Functions, the Recognised Body should ensure that its information technology systems are adequate and appropriate (point (d)).\\n\\nThe Regulator may also make its own determination as to whether any other function in the Recognised Body is deemed a Regulatory Function requiring the appointment of a Key Individual. In this case, the Recognised Body must be prepared to demonstrate compliance with these determinations.\\n\\nIn summary, a Recognised Body should approach the process of reasonably determining other business functions that should be deemed Regulatory Functions by:\\n\\n1. Appropriately considering and making a reasonable determination as to which functions are deemed Regulatory Functions.\\n2. Assessing its systems and controls in relation to its Regulatory Functions, including distribution of duties, staffing and resources, supervision arrangements, appointment and supervision processes, and internal audit procedures.\\n3. Ensuring that its information technology systems are adequate and appropriate for the performance of'},\n",
       " {'QuestionID': '010b81f5-e910-4ebb-97bb-6ed770877878',\n",
       "  'RetrievedPassages': ['The Regulator may by Rules prescribe –\\n(a)\\tthe requirements applicable to an Authorised Person conducting a Regulated Activity in relation to Virtual Assets or Spot Commodities;\\n(b)\\tthe requirements and factors that, in the opinion of the Regulator, are to be taken into account in determining whether or not:\\n(i)\\ta Virtual Asset meets the requirements to be considered an Accepted Virtual Asset; or\\n(ii)\\ta Spot Commodity meets the requirements to be considered an Accepted Spot Commodity; and\\n(c)\\tsuch additional requirements as the Regulator considers appropriate that an Authorised Person conducting a Regulated Activity in relation to Virtual Assets or Spot Commodities must comply with, including any requirements imposed under the Rules made under these Regulations.'],\n",
       "  'Answer': \"Based on the provided passages, there are indeed current and anticipated amendments to the requirements for Authorized Persons dealing with Virtual Assets or Spot Commodities that we should be aware of.\\n\\nThe Regulator has the authority to prescribe rules (Regulations) governing the requirements applicable to Authorized Persons conducting regulated activities in relation to these assets. Specifically:\\n\\n* The Regulator may establish specific requirements for Authorized Persons handling Virtual Assets and Spot Commodities, including:\\n\\t+ Determining whether a Virtual Asset meets the criteria to be considered an Accepted Virtual Asset (Section b(i)).\\n\\t+ Determining whether a Spot Commodity meets the criteria to be considered an Accepted Spot Commodity (Section b(ii)).\\n* The Regulator may also impose additional requirements on Authorized Persons, which could include:\\n\\t+ Compliance with Rules made under these Regulations.\\n\\t+ Specific guidelines or standards for handling Virtual Assets and Spot Commodities.\\n\\nIn terms of current or anticipated amendments, the Regulator's ability to prescribe rules (Regulations) indicates that there may be changes to existing requirements or new requirements being introduced in the future. It is essential for Authorized Persons to remain informed about any updates to these regulations to ensure ongoing compliance with applicable laws and regulations.\\n\\nTo stay aware of potential amendments or new requirements, we recommend:\\n\\n* Regularly reviewing the Regulator's publications and announcements for updates on proposed or enacted Regulations.\\n* Participating in industry forums and discussions to stay informed about regulatory developments affecting Virtual Assets and Spot Commodities.\\n* Consulting with our compliance team to assess any implications of updated regulations on existing business practices.\\n\\nBy remaining vigilant and informed, we can ensure that our organization remains compliant with evolving regulatory requirements.\"},\n",
       " {'QuestionID': '010be7f5-8ec1-4d65-9626-d2912918abbf',\n",
       "  'RetrievedPassages': [\"Each Authorised Person must, subject to \\u200e(2), upon request by any Person, provide a copy of its most recent audited financial statements, together with the Financial Statement Auditor's Report to the Person. If the copy is made available in printed form, the Authorised Person may make a charge to cover reasonable costs incurred in providing the copy.\"],\n",
       "  'Answer': \"Based on the provided passage, it appears that there are no explicit exceptions or specific circumstances where an Authorised Person is not required to provide a copy of its audited financial statements and the Financial Statement Auditor's Report upon request. The language used suggests that this obligation is a general requirement for all Authorised Persons.\\n\\nHowever, one potential implication of the passage can be interpreted as an exception: if the person requesting the financial statements asks for it in printed form, the Authorised Person may make a charge to cover reasonable costs incurred in providing the copy. This could be seen as a circumstance where the Authorised Person is not required to provide the documents free-of-charge but rather can recoup their expenses associated with printing and distributing the information.\\n\\nIt's worth noting that this interpretation might not be comprehensive, and further clarification or context may be necessary to fully determine any exceptions or circumstances where an Authorised Person would not have to comply with this requirement.\"},\n",
       " {'QuestionID': '010d333e-7b3b-4e47-a60c-dfd37522ec38',\n",
       "  'RetrievedPassages': ['The purpose of the Definitive Valuation is to—\\n(a)\\tensure that—\\n(i)\\tin the case of an In-Scope Entity that is not an ADGM Branch, the full extent of any losses on the assets of the In-Scope Entity is recognised in the accounting records of the In-Scope Entity;\\n(ii)\\tin the case of an ADGM Branch, the full extent of any losses on the property and rights of the Non-ADGM Institution which formed part of the Business of the ADGM Branch is recognised in the accounting records of the Non-ADGM Institution; and\\n(b)\\tinform a decision by the Regulator as to whether—\\n(i)\\tadditional consideration should be paid by a purchaser for any property, rights, liabilities or Shares transferred under a Sale of Business Tool; or\\n(ii)\\tto increase or reinstate any liability which has been reduced or cancelled by a Resolution Order.',\n",
       "   'Where a Definitive Valuation produces a higher valuation of the net asset value of an In-Scope Entity than the Provisional Valuation, the Regulator may—\\n(a)\\tinstruct a purchaser to pay additional consideration for any rights, assets, liabilities or Shares transferred under the Sale of Business Tool; or\\n(b)\\tmodify any liability of—\\n(i)\\tin the case of an In-Scope Entity that is not an ADGM Branch, the In-Scope Entity; and\\n(ii)\\tin the case of an ADGM Branch, the Non-ADGM Institution,\\nwhich has been reduced, deferred or cancelled pursuant to the Write Down or Conversion Power or a Resolution Order so as to increase or reinstate that liability.',\n",
       "   'A power under subsection \\u200e(1)—\\n(a)\\tshall not be exercised so as to increase the value of the liability beyond the value it would have had if the Resolution Order which reduced, cancelled or deferred it had not been made; and\\n(b)\\tshall be exercised by the issue by the Regulator of a Resolution Order (whether or not that instrument contains any other provisions authorised by this subsection or subsection \\u200e(1)).'],\n",
       "  'Answer': \"When determining whether to increase or reinstate any liability reduced or cancelled by a Resolution Order, in accordance with the definitive valuation purpose (b)(ii), the ADGM considers the following factors:\\n\\nFirstly, the Regulator reviews the Definitive Valuation report to identify any discrepancies between the Provisional Valuation and the actual net asset value of the In-Scope Entity. If the Definitive Valuation produces a higher valuation, the Regulator will consider modifying any liability that has been reduced or cancelled by a Resolution Order.\\n\\nIn making this decision, the ADGM takes into account the original value of the liability as it would have existed if the Resolution Order had not been made. The power to increase or reinstate the liability is exercised in accordance with subsection (1), which states that the value of the liability shall not be increased beyond its original value.\\n\\nThe Regulator will also exercise this power by issuing a new Resolution Order, which may contain provisions authorized by subsection (1) and subsection (2). This ensures that any modifications to the liability are made through a formal instrument, rather than an informal decision or communication.\\n\\nIn determining whether to increase or reinstate a particular liability, the ADGM will consider the following factors:\\n\\n* The original value of the liability as it would have existed if the Resolution Order had not been made;\\n* The provisions of the Resolution Order that reduced or cancelled the liability; and\\n* The net asset value of the In-Scope Entity as determined by the Definitive Valuation.\\n\\nBy considering these factors, the ADGM can ensure that any modifications to the liability are fair, reasonable, and in accordance with the law. This approach also promotes transparency and accountability, as all decisions regarding liability modifications are made through formal instruments issued by the Regulator.\\n\\nUltimately, the decision to increase or reinstate a liability reduced or cancelled by a Resolution Order is made on a case-by-case basis, taking into account the specific circumstances of each In-Scope Entity. The ADGM's approach ensures that any such modifications are made in accordance with the law and in the best interests of all parties involved.\"},\n",
       " {'QuestionID': '011098d7-6499-4c6a-9a9b-cd0df878cc5d',\n",
       "  'RetrievedPassages': ['\\nThis section prescribes the type of Offer of Securities that is an Exempt Offer. Pursuant to section 58(1) of FSMR, a Person may make an Offer of Securities in the circumstances specified in this Rule without a Prospectus.',\n",
       "   '\\nThis section prescribes the type of Offer that is an Exempt Offer. The prohibition in section 58(1) of the FSMR does not apply to such Offers. Accordingly, a Person may make an Offer of Securities to the Public in the circumstances specified in this Rule without a Prospectus.\\n4.3.1 \\tFor the purposes of section 61(3)(a) of the FSMR the Regulator hereby prescribes the circumstances in which an Offer is an Exempt Offer:\\n(1)\\tan Offer made to or directed at only Professional Clients;\\n(2)\\tan Offer in or from the ADGM which is directed at no more than 50 Persons in any 12 month period, excluding Professional Clients who are not natural persons;\\n(3)\\tan Offer where the total consideration to be paid by a Person to acquire the Securities is at least $100,000, or an equivalent amount in another currency;\\n(4)\\tan Offer where the Securities are denominated in amounts of at least $100,000, or an equivalent amount in another currency;\\n(5)\\tan Offer where the total aggregate consideration for the Securities offered is less than $100,000, or an equivalent amount in another currency, calculated over a period of 12 months;\\n(6)\\tan Offer where Shares are issued in substitution for Shares of the same class as already issued, where the issue of the new Shares does not involve any increase in the issued Share capital;\\n(7)\\tan Offer where the Securities are Convertibles issued under a Prospectus to existing members or creditors of the Issuer or a member of its Group and there is no additional consideration to be paid;\\n(8)\\tan Offer where the Securities are offered in connection with a Takeover and a document is made available containing information which is considered by the Regulator as being equivalent to that of a Prospectus;\\n(9)\\tan Offer where the Securities are offered, allotted or to be allotted in connection with a merger if a document is available containing information which is regarded by the Regulator as being equivalent to that of a Prospectus;\\n(10)\\tan Offer where the Securities are offered, allotted or to be allotted in connection with a rights issue where:\\n(a)\\tthe Securities are of a class subject to Reporting Entity disclosure; and\\n(b)\\ta document is made available containing information on the number and nature of the Securities including rights attaching to those Securities and the reasons for and details of the Offer;\\n(11)\\tan Offer where the Shares are offered, allotted or to be allotted to existing Shareholders free of charge or dividends paid out in the form of Shares of the same class as the Shares in respect of which the dividends are paid, and a document is made available containing information on the number and nature of the Shares and the reasons for and details of the Offer;\\n(12)\\tan Offer where the Securities are offered, allotted or to be allotted to an existing or former Director or Employee, or any Close Relative of such a Director or Employee, of the Issuer or a member of the same Group as the Issuer and\\n(a)\\tthe Issuer or the member of the Group already has its Securities admitted to trading on a Regulated Exchange; and\\n(b)\\ta document is made available to the offerees containing information on the number and nature of the Securities and the reasons for and details of the Offer; or\\n(13)\\tan Offer in or from the ADGM which is directed at no more than 200 Persons that are not Professional Clients or Market Counterparties, in circumstances where the Securities are, or have been, offered within a Private Financing Platform or via a Multilateral Trading Facility\\n4.3.2 \\tWhere any Securities, which were previously the subject of an Exempt Offer, are subsequently offered to the public, such a subsequent Offer will be regarded, for the purposes of Part 6 of the FSMR and the Rules made for the purposes of that Part, as a separate and new Offer of Securities to the Public, unless that Offer meets one of the criteria in Rule 4.3.1.\\n4.3.3\\t(1)\\tSubject to (2), an Offer of Securities remains an Exempt Offer even if the Offer falls in whole or part within more than one of the circumstances specified in Rule 4.3.1, as long as all of the Offer falls within at least one of those circumstances.\\n(2)\\tAn Issuer must not aggregate the limits contained in Rule 4.3.1(2) and Rule 4.3.1(13) when making an Exempt Offer.\\n4.3.4\\tA Person making an Exempt Offer must ensure that an exempt offer statement is included in the Exempt Offer Document. An exempt offer statement must contain the following statement displayed prominently on its front page:\\n…\\n4.3.5\\tPursuant to an Exempt Offer under Rule 4.3.1(13), the Issuer must provide a Product Summary Note to investors in accordance with the following requirements:\\n(1)\\tThe Product Summary Note must:\\n(a)\\thighlight key information in the Offer document to investors;\\n(b)\\tclearly disclose required information in the format as set out in APP 7;\\n(c)\\tgive a fair and balanced view of the nature, material benefits and material risks of the Securities offered;\\n(d)\\tnot contain any statement or information that is false or misleading in the form and context in which it is included;\\n(e)\\tbe given together with the Offer document to investors. If the Issuer makes the Offer document available online, the Product Summary Note must be made available online together with the Offer document;\\n(f)\\tnot contain any information that is not contained in the Offer document;\\n(g)\\tnot contain any Inside Information that differs in any material particular from that set out in the Offer document; and\\n(h)\\tnot omit any information from any part of the Product Summary Note which would result in that part of the Product Summary Note being construed as false or misleading.\\n(2)\\tThe Product Summary Note shall contain the prominent disclaimer set out in Rule 4.3.4 in bold, on its front.\\n(3)\\tThe Issuer must give notice the Regulator of its intention to provide a Product Summary Note at least ten Business Days prior to the Exempt Offer, in such form as the Regulator may prescribe.\\n(4)\\tWhen the Issuer makes any change to the Offer document, the Product Summary Note must be updated if the change has a material effect on the key information of the Securities offered.\\n(5)\\tIssuers must ensure there is clear naming of the Securities offered. The name of the Securities must be descriptive of the nature of the Securities offered. It must not give investors a misleading view of the true nature and risks of the Securities offered.',\n",
       "   'For the purposes of section 61(3)(a) of the FSMR, the Regulator prescribes the following to be circumstances in which an Offer is an Exempt Offer:\\n(1)\\tan Offer made to or directed at only Professional Clients;\\n(2)\\tan Offer in or from the ADGM which is directed at no more than 50 Persons in any 12-month period, excluding Professional Clients who are not natural persons;\\n(3)\\tan Offer where the total consideration to be paid by a Person to acquire the Securities is at least $100,000, or an equivalent amount in another currency;\\n(4)\\tan Offer where the Securities are denominated in amounts of at least $100,000, or an equivalent amount in another currency;\\n(5)\\tan Offer where the total aggregate consideration for the Securities offered is less than $100,000, or an equivalent amount in another currency, calculated over a period of 12 months;\\n(6)\\tan Offer where Shares are issued in substitution for Shares of the same class as already issued, where the issue of the new Shares does not involve any increase in the issued Share capital;\\n(7)\\tan Offer where the Securities are Convertibles issued under a Prospectus to existing members or creditors of the Issuer or a member of its Group and there is no additional consideration to be paid;\\n(8)\\tan Offer where the Securities are offered in connection with a Takeover and a document is made available containing information which is considered by the Regulator as being equivalent to that of a Prospectus;\\n(9)\\tan Offer where the Securities are offered, allotted or to be allotted in connection with a merger if a document is available containing information which is regarded by the Regulator as being equivalent to that of a Prospectus;\\n(10)\\tan Offer where the Securities are offered, allotted or to be allotted in connection with a rights issue where:\\n(a)\\tthe Securities are of a class subject to Reporting Entity disclosure; and\\n(b)\\ta document is made available containing information on the number and nature of the Securities including rights attaching to those Securities and the reasons for and details of the Offer;\\n(11)\\tan Offer where the Shares are offered, allotted or to be allotted to existing Shareholders free of charge or dividends paid out in the form of Shares of the same class as the Shares in respect of which the dividends are paid, and a document is made available containing information on the number and nature of the Shares and the reasons for and details of the Offer;\\n(12)\\tan Offer where the Securities are offered, allotted or to be allotted to an existing or former Director or Employee, or any Close Relative of such a Director or Employee, of the Issuer or a member of the same Group as the Issuer and:\\n(a)\\tthe Issuer or the member of the Group already has its Securities admitted to trading on a Regulated Exchange; and\\n(b)\\ta document is made available to the offerees containing information on the number and nature of the Securities and the reasons for and details of the Offer; or\\n(13)\\tother than in relation to Debentures and Sukuk, an Offer in or from the ADGM which is directed at no more than 200 Persons that are not Professional Clients or Market Counterparties, in circumstances where the Securities are, or have been, offered within a Private Financing Platform or via a Multilateral Trading Facility.'],\n",
       "  'Answer': \"It seems like you've provided a text about regulatory rules governing Exempt Offers under section 61(3)(a) of the Financial Services and Markets Act 2000 (FSMA). \\n\\nTo summarize:\\n\\n1. **Exempt Offer Conditions**: An offer is considered an Exempt Offer if it meets one or more of the following conditions:\\n\\t* Made to or directed at only Professional Clients.\\n\\t* In or from the Abu Dhabi Global Market (ADGM) and directed at no more than 50 Persons in any 12-month period, excluding Professional Clients who are not natural persons.\\n\\t* Total consideration paid by a Person to acquire Securities is at least $100,000 or an equivalent amount in another currency.\\n\\t* Securities are denominated in amounts of at least $100,000 or an equivalent amount in another currency.\\n\\t* Total aggregate consideration for the Securities offered is less than $100,000 or an equivalent amount in another currency, calculated over a period of 12 months.\\n2. **Special Exempt Offer Conditions**:\\n\\t* Shares issued in substitution for existing shares without increasing Share capital.\\n\\t* Convertible securities issued under a Prospectus to existing members or creditors with no additional consideration.\\n\\t* Securities offered in connection with a Takeover, merger, or rights issue (with specific requirements).\\n3. **Exempt Offers by ADGM Residents**:\\n\\t* Offers made in or from the ADGM are Exempt if directed at no more than 200 Persons who are not Professional Clients or Market Counterparties, provided Securities are offered through a Private Financing Platform or Multilateral Trading Facility.\\n\\nAdditionally, you've highlighted specific requirements for Product Summary Notes:\\n\\n1. **Product Summary Note Requirements**: A Product Summary Note must:\\n\\t* Be given together with the Offer document.\\n\\t* Not contain false or misleading information.\\n\\t* Give a fair and balanced view of the Securities offered.\\n\\t* Not omit material information.\\n\\nPlease let me know if you need any further assistance!\"}]"
      ]
     },
     "execution_count": 37,
     "metadata": {},
     "output_type": "execute_result"
    }
   ],
   "source": [
    "from multiprocessing.pool import ThreadPool\n",
    "\n",
    "test_data = []\n",
    "with ThreadPool(2) as p:\n",
    "    l = [row for _, row in ret_df.iterrows()]\n",
    "    test_data = list(tqdm.tqdm(p.imap(crawl, l), total=len(l)))\n",
    "\n",
    "test_data[:10]"
   ]
  },
  {
   "cell_type": "code",
   "execution_count": 41,
   "metadata": {},
   "outputs": [],
   "source": [
    "# dump jsonl\n",
    "with open(f\"{output_dir}/rag_llama3_1_8b_reglp_paper_prompt_test_data_score_filter.jsonl\", \"w\") as f:\n",
    "    for item in test_data:\n",
    "        f.write(json.dumps(item) + \"\\n\")"
   ]
  },
  {
   "cell_type": "code",
   "execution_count": null,
   "metadata": {},
   "outputs": [],
   "source": [
    "result_file_name = \"results-rag-llama3_1_8b-regnlp-paper-prompt-retrieved-score-filter\"\n",
    "\n",
    "run_eval(test_data, result_file_name)"
   ]
  },
  {
   "cell_type": "markdown",
   "metadata": {},
   "source": [
    "# Bruteforce Programtic Optimisation of RePASs"
   ]
  },
  {
   "cell_type": "markdown",
   "metadata": {},
   "source": [
    "## Ground Truth"
   ]
  },
  {
   "cell_type": "code",
   "execution_count": null,
   "metadata": {},
   "outputs": [],
   "source": [
    "test_data = []\n",
    "\n",
    "for index, row in tqdm.tqdm(list(df.iterrows())):\n",
    "    passages = [element[\"Passage\"] for element in row['Passages']]\n",
    "\n",
    "    sent_set = set()\n",
    "    for element in passages:\n",
    "        sent_set.update(sent_tokenize_uncached(element))\n",
    "\n",
    "    temp_answers = \" \".join([sent for sent in sent_set])\n",
    "\n",
    "    passage_boundaries = []\n",
    "\n",
    "    i = 0\n",
    "    for passage in passages:\n",
    "        for sent in sent_tokenize(passage):\n",
    "            i += 1\n",
    "        passage_boundaries.append(i)\n",
    "\n",
    "    passage_sentences = [sent for passage in passages for sent in sent_tokenize(passage)]\n",
    "    answer_sentences = [sent for sent in sent_tokenize(temp_answers)]\n",
    "    entailment_matrix, contradiction_matrix = get_nli_matrix(passage_sentences, answer_sentences)\n",
    "    \n",
    "    obligation_sentences_source = []\n",
    "    source_obligation_count = 0\n",
    "    for passage in passage_sentences:\n",
    "        sentences = sent_tokenize(passage)\n",
    "        is_obligation = classify_obligations(sentences)\n",
    "        sentence_labels = [(sent, label) for sent, label in zip(sentences, is_obligation)]\n",
    "        obligation_sentences_source.extend(sentence_labels)\n",
    "        source_obligation_count += sum(is_obligation)\n",
    "\n",
    "    obligation_sentences_indexes = [i for i, (sent, label) in enumerate(obligation_sentences_source) if label == 1]\n",
    "\n",
    "    # Filter obligation sentences from answers\n",
    "    obligation_sentences_answer = []\n",
    "    for answer in answer_sentences:\n",
    "        sentences = sent_tokenize(answer)\n",
    "        is_obligation = classify_obligations(sentences)\n",
    "        obligation_sentences_answer.extend([(sent, label) for sent, label in zip(sentences, is_obligation)])\n",
    "    \n",
    "    obligation_matrix = np.zeros((len(passage_sentences), len(answer_sentences)))\n",
    "    obligation_mask = np.zeros((len(passage_sentences), len(answer_sentences)))\n",
    "\n",
    "    for idx_source, (obligation, source_label) in enumerate(obligation_sentences_source):\n",
    "        for idx_answer, (answer_sentence, answer_label) in enumerate(obligation_sentences_answer):\n",
    "            if source_label == 1:\n",
    "                obligation_mask[idx_source, idx_answer] = 1\n",
    "                nli_result = coverage_nli_model(f\"{answer_sentence} [SEP] {obligation}\")\n",
    "                if nli_result[0]['label'].lower() == 'entailment' and nli_result[0]['score'] > 0.7:\n",
    "                    obligation_matrix[idx_source, idx_answer] = 1\n",
    "    \n",
    "    e_score = np.max(entailment_matrix, axis=0)\n",
    "    c_score = np.max(contradiction_matrix, axis=0)\n",
    "\n",
    "    obligation_matrix_w_ignore = obligation_matrix + (1 - obligation_mask)\n",
    "\n",
    "    # Try all subsets of answer sentences\n",
    "\n",
    "    best_score = 0\n",
    "    best_subset = list(range(len(answer_sentences)))\n",
    "    for i in range(1, len(answer_sentences) + 1):\n",
    "        for subset in itertools.combinations(range(len(answer_sentences)), i):\n",
    "            e = np.mean(e_score[list(subset)])\n",
    "            c = np.mean(c_score[list(subset)]) + 1\n",
    "            obl = np.mean(np.max(obligation_matrix[np.ix_(obligation_sentences_indexes, list(subset))], axis=1))\n",
    "            # if no obligation sentence nan is returned, falling back to 0 in this case as done in metric's implementation\n",
    "            if np.isnan(obl) is np.nan:\n",
    "                obl = 0.0\n",
    "            subset_score =  (e - c + obl + 1) / 3\n",
    "            if subset_score > best_score:\n",
    "                best_score = subset_score\n",
    "                best_subset = list(subset)\n",
    "\n",
    "    test_data.append({\n",
    "        \"QuestionID\": row['QuestionID'],\n",
    "        \"RetrievedPassages\": [element[\"Passage\"] for element in row['Passages']],\n",
    "        \"Answer\": \"\\n\".join(np.array(list(sent_set))[best_subset])\n",
    "    })\n",
    "\n",
    "test_data[:10]"
   ]
  },
  {
   "cell_type": "code",
   "execution_count": null,
   "metadata": {},
   "outputs": [],
   "source": [
    "result_file_name = \"results-bruteforce-optimised\"\n",
    "\n",
    "run_eval(test_data, result_file_name)"
   ]
  }
 ],
 "metadata": {
  "kernelspec": {
   "display_name": "regnlp",
   "language": "python",
   "name": "python3"
  },
  "language_info": {
   "codemirror_mode": {
    "name": "ipython",
    "version": 3
   },
   "file_extension": ".py",
   "mimetype": "text/x-python",
   "name": "python",
   "nbconvert_exporter": "python",
   "pygments_lexer": "ipython3",
   "version": "3.10.12"
  }
 },
 "nbformat": 4,
 "nbformat_minor": 2
}
