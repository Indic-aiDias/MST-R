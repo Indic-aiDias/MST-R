{
  "cells": [
    {
      "cell_type": "markdown",
      "metadata": {
        "id": "meqjkKHYxrLa"
      },
      "source": [
        "# BM25 Retrieval (Copied from RIRAG challenge)"
      ]
    },
    {
      "cell_type": "markdown",
      "metadata": {
        "id": "5gHEah1uxWyK"
      },
      "source": [
        "## Imports"
      ]
    },
    {
      "cell_type": "code",
      "execution_count": null,
      "metadata": {
        "colab": {
          "background_save": true,
          "base_uri": "https://localhost:8080/"
        },
        "collapsed": true,
        "id": "zKBRL8GtDOn8",
        "outputId": "8602c95d-d105-4595-9dac-394d242a2098"
      },
      "outputs": [],
      "source": [
        "!git clone https://github.com/RegNLP/ObliQADataset.git\n",
        "!pip install faiss-cpu pyserini==0.22.1\n",
        "!wget https://gist.githubusercontent.com/kwang2049/63ed76eb0f4d79ca81caecdb06897bfb/raw/1d86978275d666dff904fba65a34ce3e71b3cf1d/bm25.py"
      ]
    },
    {
      "cell_type": "code",
      "execution_count": null,
      "metadata": {
        "id": "RseD-nN2xc1u"
      },
      "outputs": [],
      "source": [
        "import os\n",
        "import json\n",
        "from typing import Dict"
      ]
    },
    {
      "cell_type": "markdown",
      "metadata": {
        "id": "51cnn3YexuQh"
      },
      "source": [
        "## Data Loading"
      ]
    },
    {
      "cell_type": "code",
      "execution_count": null,
      "metadata": {
        "colab": {
          "background_save": true
        },
        "id": "n1K8SXctD0Uw"
      },
      "outputs": [],
      "source": [
        "def load_qrels(docs_dir: str, fqrels: str) -> Dict[str, Dict[str, int]]:\n",
        "    ndocs = 40\n",
        "    docs = []\n",
        "    for i in range(1, ndocs + 1):\n",
        "        with open(os.path.join(docs_dir, f\"{i}.json\")) as f:\n",
        "            doc = json.load(f)\n",
        "            docs.append(doc)\n",
        "\n",
        "    did2pid2id: Dict[str, Dict[str, str]] = {}\n",
        "    for doc in docs:\n",
        "        for psg in doc:\n",
        "            did2pid2id.setdefault(psg[\"DocumentID\"], {})\n",
        "            assert psg[\"ID\"] not in did2pid2id[psg[\"DocumentID\"]]\n",
        "            did2pid2id[psg[\"DocumentID\"]].setdefault(psg[\"PassageID\"], psg[\"ID\"])\n",
        "\n",
        "    with open(fqrels) as f:\n",
        "        data = json.load(f)\n",
        "    qrels = {}\n",
        "    for e in data:\n",
        "        qid = e[\"QuestionID\"]\n",
        "        for psg in e[\"Passages\"]:\n",
        "            qrels.setdefault(qid, {})\n",
        "            pid = did2pid2id[psg[\"DocumentID\"]][psg[\"PassageID\"]]\n",
        "            qrels[qid][pid] = 1\n",
        "    return qrels"
      ]
    },
    {
      "cell_type": "code",
      "execution_count": null,
      "metadata": {
        "colab": {
          "background_save": true
        },
        "id": "RSVrz2DPD4Sz"
      },
      "outputs": [],
      "source": [
        "qrels = load_qrels(\"ObliQADataset/StructuredRegulatoryDocuments\", \"ObliQADataset/ObliQA_test.json\")\n",
        "with open(\"qrels\", \"w\") as f:\n",
        "    for qid, rels in qrels.items():\n",
        "        for pid, rel in rels.items():\n",
        "            line = f\"{qid} Q0 {pid} {rel}\"\n",
        "            f.write(line + \"\\n\")"
      ]
    },
    {
      "cell_type": "markdown",
      "metadata": {
        "id": "gtLpuWekx0xY"
      },
      "source": [
        "## Building Index"
      ]
    },
    {
      "cell_type": "code",
      "execution_count": null,
      "metadata": {
        "colab": {
          "background_save": true
        },
        "collapsed": true,
        "id": "-B0RWSNRD18h",
        "outputId": "5fbcf51c-1a3c-4517-d37c-1a589f96ee86"
      },
      "outputs": [],
      "source": [
        "from bm25 import BM25, Document, Query\n",
        "\n",
        "bm25 = BM25()\n",
        "ndocs = 40\n",
        "collection = []\n",
        "for i in range(1, ndocs + 1):\n",
        "    with open(os.path.join(\"ObliQADataset/StructuredRegulatoryDocuments\", f\"{i}.json\")) as f:\n",
        "        doc = json.load(f)\n",
        "        for psg in doc:\n",
        "          collection.append(Document(psg[\"ID\"], \"\", psg[\"PassageID\"] + \" \" + psg[\"Passage\"]))\n",
        "bm25.index(iter(collection), len(collection), \"./index\")"
      ]
    },
    {
      "cell_type": "markdown",
      "metadata": {
        "id": "cVXeC4acx3ua"
      },
      "source": [
        "## Querying"
      ]
    },
    {
      "cell_type": "code",
      "execution_count": null,
      "metadata": {
        "colab": {
          "background_save": true
        },
        "id": "hbPF6-YoN7PQ",
        "outputId": "b9ff350e-7963-4133-b4bf-a4de76611fc1"
      },
      "outputs": [],
      "source": [
        "queries = []\n",
        "with open(\"ObliQADataset/ObliQA_test.json\") as f:\n",
        "    data = json.load(f)\n",
        "    for e in data:\n",
        "      queries.append(Query(e[\"QuestionID\"], e[\"Question\"]))\n",
        "retrieved = bm25.search(\n",
        "    queries=queries,\n",
        "    index_path=\"./index\",\n",
        "    topk=100,\n",
        "    batch_size=1,\n",
        ")\n",
        "with open(\"bm25.trec\", \"w\") as f:\n",
        "  for qid, hits in retrieved.items():\n",
        "    for i, hit in enumerate(sorted(hits, key=lambda hit:hit.score, reverse=True)):\n",
        "      line = f\"{qid} 0 {hit.docid} {i+1} {hit.score} bm25\"\n",
        "      f.write(line + \"\\n\")"
      ]
    },
    {
      "cell_type": "markdown",
      "metadata": {
        "id": "fzfIL90Yx8qV"
      },
      "source": [
        "## Evaluation"
      ]
    },
    {
      "cell_type": "code",
      "execution_count": null,
      "metadata": {
        "id": "eVWcEMRRQfWZ"
      },
      "outputs": [],
      "source": [
        "!git clone https://github.com/usnistgov/trec_eval.git && cd trec_eval && make\n",
        "!trec_eval/trec_eval -m recall.10 -m map_cut.10 ./qrels ./bm25.trec -q > ind_bm25_scores.csv"
      ]
    }
  ],
  "metadata": {
    "colab": {
      "provenance": []
    },
    "kernelspec": {
      "display_name": "Python 3",
      "name": "python3"
    },
    "language_info": {
      "name": "python"
    }
  },
  "nbformat": 4,
  "nbformat_minor": 0
}
