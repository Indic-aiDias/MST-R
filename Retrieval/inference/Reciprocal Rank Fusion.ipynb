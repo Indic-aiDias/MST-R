{
 "cells": [
  {
   "cell_type": "markdown",
   "metadata": {},
   "source": [
    "# Imports"
   ]
  },
  {
   "cell_type": "code",
   "execution_count": 15,
   "metadata": {
    "_cell_guid": "b1076dfc-b9ad-4769-8c92-a6c4dae69d19",
    "_uuid": "8f2839f25d086af736a60e9eeb907d3b93b6e0e5",
    "execution": {
     "iopub.execute_input": "2025-01-19T14:12:40.609250Z",
     "iopub.status.busy": "2025-01-19T14:12:40.608752Z",
     "iopub.status.idle": "2025-01-19T14:12:40.615428Z",
     "shell.execute_reply": "2025-01-19T14:12:40.614118Z",
     "shell.execute_reply.started": "2025-01-19T14:12:40.609178Z"
    },
    "trusted": true
   },
   "outputs": [],
   "source": [
    "from glob import glob\n",
    "\n",
    "import pandas as pd\n",
    "import numpy as np"
   ]
  },
  {
   "cell_type": "markdown",
   "metadata": {},
   "source": [
    "## Data Loading"
   ]
  },
  {
   "cell_type": "code",
   "execution_count": null,
   "metadata": {
    "execution": {
     "iopub.execute_input": "2025-01-19T14:12:43.009183Z",
     "iopub.status.busy": "2025-01-19T14:12:43.008774Z",
     "iopub.status.idle": "2025-01-19T14:12:45.351157Z",
     "shell.execute_reply": "2025-01-19T14:12:45.349777Z",
     "shell.execute_reply.started": "2025-01-19T14:12:43.009149Z"
    },
    "trusted": true
   },
   "outputs": [],
   "source": [
    "!git clone https://github.com/usnistgov/trec_eval.git\n",
    "!cd trec_eval && make"
   ]
  },
  {
   "cell_type": "code",
   "execution_count": 17,
   "metadata": {
    "execution": {
     "iopub.execute_input": "2025-01-19T14:12:45.354140Z",
     "iopub.status.busy": "2025-01-19T14:12:45.353739Z",
     "iopub.status.idle": "2025-01-19T14:12:45.359681Z",
     "shell.execute_reply": "2025-01-19T14:12:45.358510Z",
     "shell.execute_reply.started": "2025-01-19T14:12:45.354099Z"
    },
    "trusted": true
   },
   "outputs": [],
   "source": [
    "#folder where retrieval results are stored, file name should be {alg}.trec\n",
    "l1_retrievers_trec_folder = \"regnlp-test-l1\""
   ]
  },
  {
   "cell_type": "code",
   "execution_count": 18,
   "metadata": {
    "execution": {
     "iopub.execute_input": "2025-01-19T14:12:48.292071Z",
     "iopub.status.busy": "2025-01-19T14:12:48.291631Z",
     "iopub.status.idle": "2025-01-19T14:12:50.832628Z",
     "shell.execute_reply": "2025-01-19T14:12:50.831432Z",
     "shell.execute_reply.started": "2025-01-19T14:12:48.292032Z"
    },
    "trusted": true
   },
   "outputs": [],
   "source": [
    "results = []\n",
    "for e in glob(f\"/kaggle/input/{l1_retrievers_trec_folder}/*.trec\"):\n",
    "    retrieval_results = pd.read_csv(e, sep=\" \", names=[\"qid\", \"_\", 'pid', 'ind', 'score', \"alg\"])\n",
    "    retrieval_results['alg'] = e.split(\"/\")[-1].split(\".\")[0]\n",
    "    results.append(retrieval_results)\n",
    "df = pd.concat(results).reset_index(drop=True).drop_duplicates(subset=[\"qid\", \"pid\", \"alg\"])\n",
    "retrieval_algorithms = df['alg'].unique()\n",
    "df = df.set_index(['qid', 'alg']).sort_index()"
   ]
  },
  {
   "cell_type": "markdown",
   "metadata": {},
   "source": [
    "## Algorithm"
   ]
  },
  {
   "cell_type": "code",
   "execution_count": 19,
   "metadata": {
    "execution": {
     "iopub.execute_input": "2025-01-19T14:12:50.834590Z",
     "iopub.status.busy": "2025-01-19T14:12:50.834196Z",
     "iopub.status.idle": "2025-01-19T14:13:03.315781Z",
     "shell.execute_reply": "2025-01-19T14:13:03.314327Z",
     "shell.execute_reply.started": "2025-01-19T14:12:50.834531Z"
    },
    "trusted": true
   },
   "outputs": [],
   "source": [
    "# naive implementation of RRF \n",
    "rrf_q = 4\n",
    "questions = np.unique([e[0] for e in df.index])\n",
    "final_answers = []\n",
    "for each_question in (questions):\n",
    "    passages = {}\n",
    "    for each_alg in retrieval_algorithms:\n",
    "        subset = df.loc[(each_question, each_alg)].sort_values(by=['score'], ascending=False)\n",
    "        count = 0\n",
    "        for each_passage in list(subset['pid']):\n",
    "            if each_passage not in passages:\n",
    "                passages[each_passage] = 0\n",
    "            passages[each_passage]+=(1/(rrf_q+count))\n",
    "            count += 1\n",
    "    count = 0\n",
    "    for each_passage in sorted(passages, key=lambda e: -1*passages[e])[:50]:\n",
    "        final_answers.append([each_question, \"0\",  each_passage, count, passages[each_passage], 'alg'])\n",
    "        count += 1\n",
    "pd.DataFrame(final_answers).drop_duplicates(subset=[0, 2]).to_csv(\"./rrf.trec\", index=False, sep=\" \", header=False)"
   ]
  },
  {
   "cell_type": "code",
   "execution_count": null,
   "metadata": {
    "execution": {
     "iopub.execute_input": "2025-01-19T14:13:03.317853Z",
     "iopub.status.busy": "2025-01-19T14:13:03.317485Z",
     "iopub.status.idle": "2025-01-19T14:13:04.812817Z",
     "shell.execute_reply": "2025-01-19T14:13:04.811517Z",
     "shell.execute_reply.started": "2025-01-19T14:13:03.317818Z"
    },
    "trusted": true
   },
   "outputs": [],
   "source": [
    "!trec_eval/trec_eval -m recall.10 -m map_cut.10 gt.qrels ./rrf.trec"
   ]
  },
  {
   "cell_type": "code",
   "execution_count": null,
   "metadata": {
    "trusted": true
   },
   "outputs": [],
   "source": []
  }
 ],
 "metadata": {
  "kaggle": {
   "accelerator": "none",
   "dataSources": [
    {
     "datasetId": 6157423,
     "sourceId": 10003520,
     "sourceType": "datasetVersion"
    },
    {
     "datasetId": 6157678,
     "sourceId": 10003525,
     "sourceType": "datasetVersion"
    }
   ],
   "dockerImageVersionId": 30786,
   "isGpuEnabled": false,
   "isInternetEnabled": true,
   "language": "python",
   "sourceType": "notebook"
  },
  "kernelspec": {
   "display_name": "Python 3",
   "language": "python",
   "name": "python3"
  },
  "language_info": {
   "codemirror_mode": {
    "name": "ipython",
    "version": 3
   },
   "file_extension": ".py",
   "mimetype": "text/x-python",
   "name": "python",
   "nbconvert_exporter": "python",
   "pygments_lexer": "ipython3",
   "version": "3.10.14"
  }
 },
 "nbformat": 4,
 "nbformat_minor": 4
}
